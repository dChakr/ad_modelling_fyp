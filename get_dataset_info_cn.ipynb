{
 "cells": [
  {
   "cell_type": "markdown",
   "metadata": {},
   "source": [
    "# Get Information about Datasets Used"
   ]
  },
  {
   "cell_type": "code",
   "execution_count": 1,
   "metadata": {},
   "outputs": [],
   "source": [
    "import pandas as pd\n",
    "import numpy as np\n",
    "\n",
    "from scipy.io import loadmat"
   ]
  },
  {
   "cell_type": "code",
   "execution_count": 6,
   "metadata": {},
   "outputs": [],
   "source": [
    "DATA_PATH = 'data/ADNIMERGE/CN_ADNIMERGE_29Apr2024_wFiles.csv'\n",
    "healthy_patients = pd.read_csv(DATA_PATH)\n",
    "\n",
    "healthy_patients['Used'] = False\n"
   ]
  },
  {
   "cell_type": "code",
   "execution_count": 11,
   "metadata": {},
   "outputs": [],
   "source": [
    "for file in healthy_patients['FC_DATA']:\n",
    "    fc = loadmat(f'../FMRI_ADNI_DATA/{file[2:]}')\n",
    "    fc = fc['ROI_activity'][:100, :]\n",
    "    if fc.shape[1] == 197:\n",
    "        healthy_patients.loc[healthy_patients['FC_DATA'] == file, 'Used'] = True"
   ]
  },
  {
   "cell_type": "code",
   "execution_count": 15,
   "metadata": {},
   "outputs": [],
   "source": [
    "sample = healthy_patients[healthy_patients['Used'] == True]"
   ]
  },
  {
   "cell_type": "code",
   "execution_count": 19,
   "metadata": {},
   "outputs": [
    {
     "data": {
      "text/plain": [
       "70.16566757493187"
      ]
     },
     "execution_count": 19,
     "metadata": {},
     "output_type": "execute_result"
    }
   ],
   "source": [
    "sample['AGE'].mean()"
   ]
  },
  {
   "cell_type": "code",
   "execution_count": 24,
   "metadata": {},
   "outputs": [
    {
     "name": "stdout",
     "output_type": "stream",
     "text": [
      "Min age:  56.5\n",
      "Max age:  89.1\n",
      "Range:  32.599999999999994\n"
     ]
    }
   ],
   "source": [
    "print('Min age: ', sample['AGE'].min())\n",
    "print('Max age: ', sample['AGE'].max())\n",
    "print('Range: ', sample['AGE'].max() - sample['AGE'].min())"
   ]
  },
  {
   "cell_type": "code",
   "execution_count": 25,
   "metadata": {},
   "outputs": [
    {
     "data": {
      "text/plain": [
       "PTGENDER\n",
       "Female    216\n",
       "Male      151\n",
       "Name: count, dtype: int64"
      ]
     },
     "execution_count": 25,
     "metadata": {},
     "output_type": "execute_result"
    }
   ],
   "source": [
    "sample['PTGENDER'].value_counts()"
   ]
  },
  {
   "cell_type": "markdown",
   "metadata": {},
   "source": [
    "## ABeta-Tau Scans"
   ]
  },
  {
   "cell_type": "code",
   "execution_count": 9,
   "metadata": {},
   "outputs": [],
   "source": [
    "DATA_PATH = 'data/abeta_tau_data/av45_mni152_5_21_2024.csv'\n",
    "patients = pd.read_csv(DATA_PATH)"
   ]
  },
  {
   "cell_type": "code",
   "execution_count": 10,
   "metadata": {},
   "outputs": [],
   "source": [
    "sample = patients[patients['Group'] == 'CN']"
   ]
  },
  {
   "cell_type": "code",
   "execution_count": 14,
   "metadata": {},
   "outputs": [
    {
     "name": "stdout",
     "output_type": "stream",
     "text": [
      "Sample size:  132\n",
      "Mean age:  75.15151515151516\n",
      "Min age:  59\n",
      "Max age:  93\n",
      "Range:  34\n",
      "Sex\n",
      "F    80\n",
      "M    52\n",
      "Name: count, dtype: int64\n"
     ]
    }
   ],
   "source": [
    "print('Sample size: ', len(sample))\n",
    "print('Mean age: ', sample['Age'].mean())\n",
    "\n",
    "print('Min age: ', sample['Age'].min())\n",
    "print('Max age: ', sample['Age'].max())\n",
    "print('Range: ', sample['Age'].max() - sample['Age'].min())\n",
    "\n",
    "print(sample['Sex'].value_counts())"
   ]
  },
  {
   "cell_type": "code",
   "execution_count": null,
   "metadata": {},
   "outputs": [],
   "source": []
  }
 ],
 "metadata": {
  "kernelspec": {
   "display_name": "Python3.11 (test)",
   "language": "python",
   "name": "python311_test"
  },
  "language_info": {
   "codemirror_mode": {
    "name": "ipython",
    "version": 3
   },
   "file_extension": ".py",
   "mimetype": "text/x-python",
   "name": "python",
   "nbconvert_exporter": "python",
   "pygments_lexer": "ipython3",
   "version": "3.11.5"
  }
 },
 "nbformat": 4,
 "nbformat_minor": 2
}
