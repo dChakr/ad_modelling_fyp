{
 "cells": [
  {
   "cell_type": "markdown",
   "metadata": {},
   "source": [
    "# Get Information about Datasets Used"
   ]
  },
  {
   "cell_type": "code",
   "execution_count": 1,
   "metadata": {},
   "outputs": [],
   "source": [
    "import pandas as pd\n",
    "import numpy as np\n",
    "\n",
    "from scipy.io import loadmat"
   ]
  },
  {
   "cell_type": "code",
   "execution_count": 12,
   "metadata": {},
   "outputs": [],
   "source": [
    "DATA_PATH = 'data/ADNIMERGE/ADNIMERGE_29Apr2024_wFiles.csv'\n",
    "patients = pd.read_csv(DATA_PATH)\n",
    "patients = patients[patients['DX_bl'] == 'AD']\n",
    "patients['Used'] = False\n"
   ]
  },
  {
   "cell_type": "code",
   "execution_count": 13,
   "metadata": {},
   "outputs": [],
   "source": [
    "for file in patients['FC_DATA']:\n",
    "    fc = loadmat(file)\n",
    "    fc = fc['ROI_activity'][:100, :]\n",
    "    if fc.shape[1] == 197:\n",
    "        patients.loc[patients['FC_DATA'] == file, 'Used'] = True"
   ]
  },
  {
   "cell_type": "code",
   "execution_count": 14,
   "metadata": {},
   "outputs": [],
   "source": [
    "sample = patients[patients['Used'] == True]"
   ]
  },
  {
   "cell_type": "code",
   "execution_count": 15,
   "metadata": {},
   "outputs": [
    {
     "data": {
      "text/plain": [
       "35"
      ]
     },
     "execution_count": 15,
     "metadata": {},
     "output_type": "execute_result"
    }
   ],
   "source": [
    "len(sample)"
   ]
  },
  {
   "cell_type": "code",
   "execution_count": 16,
   "metadata": {},
   "outputs": [
    {
     "data": {
      "text/plain": [
       "70.16571428571429"
      ]
     },
     "execution_count": 16,
     "metadata": {},
     "output_type": "execute_result"
    }
   ],
   "source": [
    "sample['AGE'].mean()"
   ]
  },
  {
   "cell_type": "code",
   "execution_count": 17,
   "metadata": {},
   "outputs": [
    {
     "name": "stdout",
     "output_type": "stream",
     "text": [
      "Min age:  55.3\n",
      "Max age:  87.1\n",
      "Range:  31.799999999999997\n"
     ]
    }
   ],
   "source": [
    "print('Min age: ', sample['AGE'].min())\n",
    "print('Max age: ', sample['AGE'].max())\n",
    "print('Range: ', sample['AGE'].max() - sample['AGE'].min())"
   ]
  },
  {
   "cell_type": "code",
   "execution_count": 18,
   "metadata": {},
   "outputs": [
    {
     "data": {
      "text/plain": [
       "PTGENDER\n",
       "Male      20\n",
       "Female    15\n",
       "Name: count, dtype: int64"
      ]
     },
     "execution_count": 18,
     "metadata": {},
     "output_type": "execute_result"
    }
   ],
   "source": [
    "sample['PTGENDER'].value_counts()"
   ]
  },
  {
   "cell_type": "markdown",
   "metadata": {},
   "source": [
    "## ABeta-Tau Scans"
   ]
  },
  {
   "cell_type": "code",
   "execution_count": 9,
   "metadata": {},
   "outputs": [],
   "source": [
    "DATA_PATH = 'data/abeta_tau_data/av45_mni152_5_21_2024.csv'\n",
    "patients = pd.read_csv(DATA_PATH)"
   ]
  },
  {
   "cell_type": "code",
   "execution_count": 10,
   "metadata": {},
   "outputs": [],
   "source": [
    "sample = patients[patients['Group'] == 'CN']"
   ]
  },
  {
   "cell_type": "code",
   "execution_count": 14,
   "metadata": {},
   "outputs": [
    {
     "name": "stdout",
     "output_type": "stream",
     "text": [
      "Sample size:  132\n",
      "Mean age:  75.15151515151516\n",
      "Min age:  59\n",
      "Max age:  93\n",
      "Range:  34\n",
      "Sex\n",
      "F    80\n",
      "M    52\n",
      "Name: count, dtype: int64\n"
     ]
    }
   ],
   "source": [
    "print('Sample size: ', len(sample))\n",
    "print('Mean age: ', sample['Age'].mean())\n",
    "\n",
    "print('Min age: ', sample['Age'].min())\n",
    "print('Max age: ', sample['Age'].max())\n",
    "print('Range: ', sample['Age'].max() - sample['Age'].min())\n",
    "\n",
    "print(sample['Sex'].value_counts())"
   ]
  },
  {
   "cell_type": "code",
   "execution_count": null,
   "metadata": {},
   "outputs": [],
   "source": []
  }
 ],
 "metadata": {
  "kernelspec": {
   "display_name": "Python3.11 (test)",
   "language": "python",
   "name": "python311_test"
  },
  "language_info": {
   "codemirror_mode": {
    "name": "ipython",
    "version": 3
   },
   "file_extension": ".py",
   "mimetype": "text/x-python",
   "name": "python",
   "nbconvert_exporter": "python",
   "pygments_lexer": "ipython3",
   "version": "3.11.5"
  }
 },
 "nbformat": 4,
 "nbformat_minor": 2
}
