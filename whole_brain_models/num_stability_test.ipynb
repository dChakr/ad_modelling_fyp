{
 "cells": [
  {
   "cell_type": "markdown",
   "metadata": {},
   "source": [
    "# Numerical Stability Tests\n",
    "\n",
    "Experiments to see whether Griffith's implementation of the DMF model can be made more numerically stable. We make changes to the neuronal response function `ht_f()` to avoid tensor division and use `torch.nn.Softplus` instead.\n",
    "\n",
    "GOAL: I suggest you pick some plausible values of all the quantities involved (currents, gains, etc), and plot the true DMF function together with its softplus approximation and check visually whether it's good enough."
   ]
  },
  {
   "cell_type": "code",
   "execution_count": 1,
   "metadata": {},
   "outputs": [],
   "source": [
    "from whobpyt.datatypes import par\n",
    "from whobpyt.models.RWWABT import RNNRWWABT, ParamsRWWABT\n",
    "from whobpyt.optimization.custom_cost_RWW import CostsRWW\n",
    "from whobpyt.run import Model_fitting\n",
    "\n",
    "# array and pd stuff\n",
    "import numpy as np\n",
    "import pandas as pd\n",
    "from scipy.io import loadmat # for reading in the .mat files\n",
    "import torch\n",
    "\n",
    "from torch.nn import Softplus\n",
    "\n",
    "# viz stuff\n",
    "import matplotlib.pyplot as plt"
   ]
  },
  {
   "cell_type": "code",
   "execution_count": 11,
   "metadata": {},
   "outputs": [],
   "source": [
    "def calc_gain_factor(b_AB, s_AB, AB, b_t, s_t, tau):\n",
    "    \"\"\"\n",
    "    Calculates the gain factor M for the neuronal response function \n",
    "    \"\"\"\n",
    "    return (1 + b_AB + s_AB * AB) * (1 + b_t + s_t * tau)"
   ]
  },
  {
   "cell_type": "code",
   "execution_count": 21,
   "metadata": {},
   "outputs": [],
   "source": [
    "# CURRENT DMF MODEL\n",
    "\n",
    "def h_tf(a, b, d, z, M):\n",
    "    \"\"\"\n",
    "    Neuronal input-output functions of excitatory pools and inhibitory pools.\n",
    "    Take the variables a, x, and b and convert them to a linear equation (a*x - b) while adding a small\n",
    "    amount of noise 0.00001 while dividing that term to an exponential of the linear equation multiplied by the\n",
    "    d constant for the appropriate dimensions.\n",
    "\n",
    "    Modified to take into consideration the AB-tau gain factor\n",
    "    \"\"\"\n",
    "    # M = M.unsqueeze(1).expand_as(z)\n",
    "\n",
    "    num = 0.00001 + torch.abs(M * (a * z - b))\n",
    "    den = 0.00001 * d + torch.abs(1.0000 - torch.exp(-d * M * (a * z - b)))\n",
    "    return torch.divide(num, den)"
   ]
  },
  {
   "cell_type": "code",
   "execution_count": 19,
   "metadata": {},
   "outputs": [],
   "source": [
    "# ADAPTED DMF MODEL (using softplus)\n",
    "def h_tf_softplus(a, b, d, z, M):\n",
    "    \"\"\"\n",
    "    Neuronal input-output functions of excitatory pools and inhibitory pools.\n",
    "    Take the variables a, x, and b and convert them to a linear equation (a*x - b) while adding a small\n",
    "    amount of noise 0.00001 while dividing that term to an exponential of the linear equation multiplied by the\n",
    "    d constant for the appropriate dimensions.\n",
    "\n",
    "    Modified to take into consideration the AB-tau gain factor\n",
    "    \"\"\"\n",
    "    # M = M.unsqueeze(1).expand_as(z)\n",
    "\n",
    "    # input to softplus, x\n",
    "    x = M * (a * z - b)\n",
    "\n",
    "    # sharpness parameter\n",
    "    ln2 = torch.log(torch.tensor(2.0))\n",
    "    k = d * ln2\n",
    "\n",
    "    softplus = Softplus(beta=k)   # play around with the threshold function here too\n",
    "\n",
    "    return softplus(x)"
   ]
  },
  {
   "cell_type": "code",
   "execution_count": 17,
   "metadata": {},
   "outputs": [],
   "source": [
    "aE = torch.tensor(310, dtype=torch.float32)\n",
    "bE = torch.tensor(125, dtype=torch.float32)\n",
    "dE = torch.tensor(0.16, dtype=torch.float32)\n",
    "iE = torch.tensor(1.0, dtype=torch.float32)\n",
    "\n",
    "ab = torch.tensor(0.0098)\n",
    "tau = torch.tensor(0.0102)\n",
    "\n",
    "# excitatory connections\n",
    "bAB = torch.tensor(0.1, dtype=torch.float32)\n",
    "sAB = torch.tensor(1.7, dtype=torch.float32)\n",
    "bt = torch.tensor(-0.5, dtype=torch.float32)\n",
    "st = torch.tensor(-2.8, dtype=torch.float32)\n",
    "\n",
    "M = calc_gain_factor(b_AB=bAB, s_AB=sAB, b_t=bt, s_t=st, AB=ab, tau=tau)"
   ]
  },
  {
   "cell_type": "code",
   "execution_count": 22,
   "metadata": {},
   "outputs": [
    {
     "data": {
      "text/plain": [
       "tensor(97.3909)"
      ]
     },
     "execution_count": 22,
     "metadata": {},
     "output_type": "execute_result"
    }
   ],
   "source": [
    "h_tf(aE, bE, dE, iE, M)"
   ]
  },
  {
   "cell_type": "code",
   "execution_count": 23,
   "metadata": {},
   "outputs": [
    {
     "data": {
      "text/plain": [
       "tensor(97.3912)"
      ]
     },
     "execution_count": 23,
     "metadata": {},
     "output_type": "execute_result"
    }
   ],
   "source": [
    "h_tf_softplus(aE, bE, dE, iE, M)"
   ]
  },
  {
   "cell_type": "code",
   "execution_count": 24,
   "metadata": {},
   "outputs": [
    {
     "name": "stdout",
     "output_type": "stream",
     "text": [
      "Normal DMF: 97.39093017578125     Softplus SMF: 97.39124298095703\n",
      "Normal DMF: 97.39093017578125     Softplus SMF: 97.39124298095703\n",
      "Normal DMF: 97.39093017578125     Softplus SMF: 97.39124298095703\n",
      "Normal DMF: 97.39093017578125     Softplus SMF: 97.39124298095703\n",
      "Normal DMF: 97.39093017578125     Softplus SMF: 97.39124298095703\n",
      "Normal DMF: 97.39093017578125     Softplus SMF: 97.39124298095703\n",
      "Normal DMF: 97.39093017578125     Softplus SMF: 97.39124298095703\n",
      "Normal DMF: 97.39093017578125     Softplus SMF: 97.39124298095703\n",
      "Normal DMF: 97.39093017578125     Softplus SMF: 97.39124298095703\n",
      "Normal DMF: 97.39093017578125     Softplus SMF: 97.39124298095703\n",
      "Normal DMF: 97.39093017578125     Softplus SMF: 97.39124298095703\n",
      "Normal DMF: 97.39093017578125     Softplus SMF: 97.39124298095703\n",
      "Normal DMF: 97.39093017578125     Softplus SMF: 97.39124298095703\n",
      "Normal DMF: 97.39093017578125     Softplus SMF: 97.39124298095703\n",
      "Normal DMF: 97.39093017578125     Softplus SMF: 97.39124298095703\n",
      "Normal DMF: 97.39093017578125     Softplus SMF: 97.39124298095703\n",
      "Normal DMF: 97.39093017578125     Softplus SMF: 97.39124298095703\n",
      "Normal DMF: 97.39093017578125     Softplus SMF: 97.39124298095703\n",
      "Normal DMF: 97.39093017578125     Softplus SMF: 97.39124298095703\n",
      "Normal DMF: 97.39093017578125     Softplus SMF: 97.39124298095703\n",
      "Normal DMF: 97.39093017578125     Softplus SMF: 97.39124298095703\n",
      "Normal DMF: 97.39093017578125     Softplus SMF: 97.39124298095703\n",
      "Normal DMF: 97.39093017578125     Softplus SMF: 97.39124298095703\n",
      "Normal DMF: 97.39093017578125     Softplus SMF: 97.39124298095703\n",
      "Normal DMF: 97.39093017578125     Softplus SMF: 97.39124298095703\n"
     ]
    }
   ],
   "source": [
    "bAB_delta = 0.06\n",
    "sAB_delta = 0.08\n",
    "bt_delta = 0.048\n",
    "st_delta = 0.052 \n",
    "\n",
    "steps = 25\n",
    "\n",
    "normal_calcs = []\n",
    "softplus_calcs = []\n",
    "\n",
    "\n",
    "for i in range(steps):\n",
    "    M = calc_gain_factor(b_AB=bAB, s_AB=sAB, b_t=bt, s_t=st, AB=ab, tau=tau)\n",
    "\n",
    "    n = h_tf(aE, bE, dE, iE, M)\n",
    "    normal_calcs.append(n)\n",
    "\n",
    "    s = h_tf_softplus(aE, bE, dE, iE, M)\n",
    "    softplus_calcs.append(s)\n",
    "\n",
    "    print(f\"Normal DMF: {n}     Softplus SMF: {s}\")"
   ]
  },
  {
   "cell_type": "code",
   "execution_count": 25,
   "metadata": {},
   "outputs": [
    {
     "data": {
      "image/png": "[encoded data removed]",
      "text/plain": [
       "<Figure size 640x480 with 1 Axes>"
      ]
     },
     "metadata": {},
     "output_type": "display_data"
    }
   ],
   "source": [
    "plt.plot(normal_calcs, label=\"Normal DMF\")\n",
    "plt.plot(softplus_calcs, label=\"Softplus DMF\")\n",
    "\n",
    "plt.show()"
   ]
  },
  {
   "cell_type": "markdown",
   "metadata": {},
   "source": [
    "## Simulating the RWW Model using the different calculation methods"
   ]
  },
  {
   "cell_type": "code",
   "execution_count": 2,
   "metadata": {},
   "outputs": [],
   "source": [
    "sc = np.genfromtxt('../data/DTI_fiber_consensus_HCP.csv', delimiter=',')\n",
    "\n",
    "fc = loadmat('../data/sub-ADNI002S0413_ses-M084_task-rest_space-MNI152Lin_res-2_desc-preproc_bold_ExtSchaefer116_ROI_activity.mat')\n",
    "fc = fc['ROI_activity'][:100, :]\n",
    "\n",
    "fc = (fc - fc.mean(axis=0)) / fc.std(axis=0)\n",
    "fc = fc.T\n",
    "fc = np.corrcoef(fc.T)"
   ]
  },
  {
   "cell_type": "code",
   "execution_count": 3,
   "metadata": {},
   "outputs": [],
   "source": [
    "node_size = 100\n",
    "mask = np.tril_indices(node_size, -1)\n",
    "num_epochs = 50\n",
    "TPperWindow = 20\n",
    "step_size = 0.1\n",
    "input_size = 2\n",
    "tr = 0.75\n",
    "repeat_size = 5\n",
    "ts_length = fc.shape[0]\n",
    "\n",
    "SC = (sc + sc.T) * 0.5\n",
    "sc = np.log1p(SC) / np.linalg.norm(np.log1p(SC))"
   ]
  },
  {
   "cell_type": "code",
   "execution_count": 4,
   "metadata": {},
   "outputs": [],
   "source": [
    "# params = ParamsRWWABT(bAB_E=par(val=0.7, fit_par=True), sAB_E=par(val=1.7, fit_par=True), bt_E=par(val=-0.5, fit_par=True),\n",
    "#                       st_E=par(val=-2.8, fit_par=True), bAB_I=par(val=0.3, fit_par=True), sAB_I=par(val=-3.1, fit_par=True))\n",
    "\n",
    "params = ParamsRWWABT(bAB_E=par(val=0), sAB_E=par(val=0), bt_E=par(val=0),\n",
    "                      st_E=par(val=0), bAB_I=par(val=0), sAB_I=par(val=0))\n",
    "\n",
    "abeta_file = np.genfromtxt(f'../data/avg_scans/AB_CN.csv', delimiter=\",\")\n",
    "abeta = torch.tensor(abeta_file, dtype=torch.float32)\n",
    "\n",
    "tau_file = np.genfromtxt(f'../data/avg_scans/TAU_CN.csv', delimiter=\",\")\n",
    "tau = torch.tensor(tau_file, dtype=torch.float32)\n",
    "\n",
    "model = RNNRWWABT(node_size, TPperWindow, step_size, repeat_size, tr, sc, abeta, tau, use_fit_gains=True, params=params)\n",
    "\n",
    "# create objective function\n",
    "ObjFun = CostsRWW(model)\n",
    "\n",
    "# call model fit\n",
    "F = Model_fitting(model, ObjFun)"
   ]
  },
  {
   "cell_type": "code",
   "execution_count": 5,
   "metadata": {},
   "outputs": [
    {
     "name": "stdout",
     "output_type": "stream",
     "text": [
      "epoch:  0 Pseudo FC_cor:  0.05944891712861401\n",
      "loss: 15.931709766357972\n",
      "epoch:  1 Pseudo FC_cor:  0.05120895138603316\n",
      "loss: 12.386012971589812\n",
      "epoch:  2 Pseudo FC_cor:  0.055934898804087745\n",
      "loss: 10.442280799749161\n",
      "epoch:  3 Pseudo FC_cor:  0.07180994522020966\n",
      "loss: 9.71871494533324\n",
      "epoch:  4 Pseudo FC_cor:  0.055491031484575966\n",
      "loss: 9.682932686566597\n",
      "epoch:  5 Pseudo FC_cor:  0.07550183895391015\n",
      "loss: 9.852603719797333\n",
      "epoch:  6 Pseudo FC_cor:  0.09935010242574395\n",
      "loss: 9.525443941582074\n",
      "epoch:  7 Pseudo FC_cor:  0.08678407860601323\n",
      "loss: 9.649084371291133\n",
      "epoch:  8 Pseudo FC_cor:  0.11766984078500356\n",
      "loss: 9.54399327382177\n",
      "epoch:  9 Pseudo FC_cor:  0.16922115189328538\n",
      "loss: 9.226267924621592\n",
      "epoch:  10 Pseudo FC_cor:  0.14739705972049472\n",
      "loss: 9.322032570030293\n",
      "epoch:  11 Pseudo FC_cor:  0.14482459548996868\n",
      "loss: 9.515858433205333\n",
      "epoch:  12 Pseudo FC_cor:  0.21392264565241365\n",
      "loss: 9.168103915599065\n",
      "epoch:  13 Pseudo FC_cor:  0.1682147646821818\n",
      "loss: 9.226543550084907\n",
      "epoch:  14 Pseudo FC_cor:  0.1408197925115255\n",
      "loss: 9.339279035155311\n",
      "epoch:  15 Pseudo FC_cor:  0.18555575855037695\n",
      "loss: 9.281526577967316\n",
      "epoch:  16 Pseudo FC_cor:  0.18987490977541746\n",
      "loss: 9.3385701976316\n",
      "epoch:  17 Pseudo FC_cor:  0.2332604256760873\n",
      "loss: 9.005175691336369\n",
      "epoch:  18 Pseudo FC_cor:  0.3103176627388413\n",
      "loss: 8.625950572904207\n",
      "epoch:  19 Pseudo FC_cor:  0.15648131855333333\n",
      "loss: 9.200743526011852\n",
      "epoch:  20 Pseudo FC_cor:  0.23374194765863804\n",
      "loss: 9.103214422217102\n",
      "epoch:  21 Pseudo FC_cor:  0.16315133933987047\n",
      "loss: 9.187173940101912\n",
      "epoch:  22 Pseudo FC_cor:  0.14817140086475325\n",
      "loss: 9.148943467657682\n",
      "epoch:  23 Pseudo FC_cor:  0.19876644124361295\n",
      "loss: 8.974933667839368\n"
     ]
    }
   ],
   "source": [
    "# Model Training\n",
    "# ---------------------------------------------------\n",
    "#\n",
    "F.train(u = 0, empFcs = [torch.from_numpy(fc)], num_epochs = num_epochs, num_windows = int(ts_length / TPperWindow), learningrate = 0.1, early_stopping=True)"
   ]
  },
  {
   "cell_type": "code",
   "execution_count": 6,
   "metadata": {},
   "outputs": [],
   "source": [
    "# normal_dmf = np.array(F.trainingStats.loss)\n",
    "# np.save('normal_dmf_zeroes.npy', normal_dmf)\n",
    "# softplus_dmf = np.array(F.trainingStats.loss)\n",
    "# np.save('softplus_dmf_zeroes.npy', softplus_dmf)"
   ]
  },
  {
   "cell_type": "code",
   "execution_count": 7,
   "metadata": {},
   "outputs": [
    {
     "data": {
      "image/png": "[encoded data removed]",
      "text/plain": [
       "<Figure size 640x480 with 1 Axes>"
      ]
     },
     "metadata": {},
     "output_type": "display_data"
    }
   ],
   "source": [
    "normal_dmf = np.load('normal_dmf.npy')\n",
    "softplus_dmf = np.load('softplus_dmf.npy')\n",
    "\n",
    "plt.plot(normal_dmf, label='Original Neuronal Response Function')\n",
    "plt.plot(softplus_dmf, label='Softplus Neuronal Response Function')\n",
    "plt.title('Loss Curve over Training Epochs')\n",
    "plt.xlabel('Epochs')\n",
    "plt.ylabel('Loss')\n",
    "\n",
    "plt.legend()\n",
    "\n",
    "plt.show()"
   ]
  }
 ],
 "metadata": {
  "kernelspec": {
   "display_name": "venv",
   "language": "python",
   "name": "python3"
  },
  "language_info": {
   "codemirror_mode": {
    "name": "ipython",
    "version": 3
   },
   "file_extension": ".py",
   "mimetype": "text/x-python",
   "name": "python",
   "nbconvert_exporter": "python",
   "pygments_lexer": "ipython3",
   "version": "3.11.5"
  }
 },
 "nbformat": 4,
 "nbformat_minor": 2
}
