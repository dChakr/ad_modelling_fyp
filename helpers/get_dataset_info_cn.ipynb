{
 "cells": [
  {
   "cell_type": "markdown",
   "metadata": {},
   "source": [
    "# Get Information about Datasets Used\n",
    "\n",
    "Helper notebook to get additional information on the datasets used in the project"
   ]
  },
  {
   "cell_type": "code",
   "execution_count": 2,
   "metadata": {},
   "outputs": [],
   "source": [
    "import pandas as pd\n",
    "from scipy.io import loadmat"
   ]
  },
  {
   "cell_type": "markdown",
   "metadata": {},
   "source": [
    "## ADSP PHC Composite Data"
   ]
  },
  {
   "cell_type": "code",
   "execution_count": 15,
   "metadata": {},
   "outputs": [],
   "source": [
    "DATA_PATH = 'data/Cog_Scores/ADSP_PHC_COGN_Dec2023_FILTERED_wfiles.csv'\n",
    "patients = pd.read_csv(DATA_PATH)\n",
    "patients['Used'] = False"
   ]
  },
  {
   "cell_type": "code",
   "execution_count": 13,
   "metadata": {},
   "outputs": [
    {
     "name": "stdout",
     "output_type": "stream",
     "text": [
      "PHC_MEM\n",
      "Pearsons R:  -0.7571035861468298\n",
      "P Value:  6.540363843947471e-249\n",
      "PHC_EXF\n",
      "Pearsons R:  -0.6020068719891599\n",
      "P Value:  1.2284638399438177e-132\n",
      "PHC_LAN\n",
      "Pearsons R:  -0.5712093377322083\n",
      "P Value:  1.2349079030803372e-116\n",
      "PHC_VSP\n",
      "Pearsons R:  -0.35498611010860115\n",
      "P Value:  5.502276563073525e-41\n"
     ]
    }
   ],
   "source": [
    "from scipy.stats import pearsonr\n",
    "\n",
    "groups = ['PHC_MEM', 'PHC_EXF', 'PHC_LAN', 'PHC_VSP']\n",
    "\n",
    "for g in groups:\n",
    "    print(g)\n",
    "    sample = patients.dropna(subset=['PHC_Diagnosis', g])\n",
    "\n",
    "    corr_coef, p_value = pearsonr(sample['PHC_Diagnosis'], sample[g])\n",
    "\n",
    "    print('Pearsons R: ', corr_coef)\n",
    "    print('P Value: ', p_value)"
   ]
  },
  {
   "cell_type": "code",
   "execution_count": 13,
   "metadata": {},
   "outputs": [],
   "source": [
    "for file in patients['FC_DATA']:\n",
    "    fc = loadmat(file)\n",
    "    fc = fc['ROI_activity'][:100, :]\n",
    "    if fc.shape[1] == 197:\n",
    "        patients.loc[patients['FC_DATA'] == file, 'Used'] = True\n",
    "\n",
    "sample = patients[patients['Used'] == True]"
   ]
  },
  {
   "cell_type": "markdown",
   "metadata": {},
   "source": [
    "## ADAS-Cog Data"
   ]
  },
  {
   "cell_type": "code",
   "execution_count": 14,
   "metadata": {},
   "outputs": [],
   "source": [
    "DATA_PATH = 'data/ADNIMERGE/ADNIMERGE_29Apr2024_wFiles.csv'\n",
    "patients = pd.read_csv(DATA_PATH)\n",
    "\n",
    "patients = patients.dropna(subset=['ADAS11'])\n",
    "# patients = patients[patients['DX_bl'] == 'AD']\n",
    "\n",
    "sample = patients\n"
   ]
  },
  {
   "cell_type": "markdown",
   "metadata": {},
   "source": [
    "## Get Information from Samples"
   ]
  },
  {
   "cell_type": "code",
   "execution_count": 5,
   "metadata": {},
   "outputs": [
    {
     "data": {
      "text/plain": [
       "1339"
      ]
     },
     "execution_count": 5,
     "metadata": {},
     "output_type": "execute_result"
    }
   ],
   "source": [
    "len(sample)"
   ]
  },
  {
   "cell_type": "code",
   "execution_count": 6,
   "metadata": {},
   "outputs": [
    {
     "data": {
      "text/plain": [
       "71.09820627802691"
      ]
     },
     "execution_count": 6,
     "metadata": {},
     "output_type": "execute_result"
    }
   ],
   "source": [
    "sample['AGE'].mean()"
   ]
  },
  {
   "cell_type": "code",
   "execution_count": 7,
   "metadata": {},
   "outputs": [
    {
     "name": "stdout",
     "output_type": "stream",
     "text": [
      "Min age:  55.0\n",
      "Max age:  89.6\n",
      "Range:  34.599999999999994\n"
     ]
    }
   ],
   "source": [
    "print('Min age: ', sample['AGE'].min())\n",
    "print('Max age: ', sample['AGE'].max())\n",
    "print('Range: ', sample['AGE'].max() - sample['AGE'].min())"
   ]
  },
  {
   "cell_type": "code",
   "execution_count": 52,
   "metadata": {},
   "outputs": [
    {
     "data": {
      "text/plain": [
       "PTGENDER\n",
       "Female    637\n",
       "Male      625\n",
       "Name: count, dtype: int64"
      ]
     },
     "execution_count": 52,
     "metadata": {},
     "output_type": "execute_result"
    }
   ],
   "source": [
    "sample['PTGENDER'].value_counts()"
   ]
  },
  {
   "cell_type": "markdown",
   "metadata": {},
   "source": [
    "## ABeta-Tau Scans"
   ]
  },
  {
   "cell_type": "code",
   "execution_count": 11,
   "metadata": {},
   "outputs": [],
   "source": [
    "DATA_PATH = 'data/abeta_tau_data/av1451_mni152_5_21_2024.csv'\n",
    "patients = pd.read_csv(DATA_PATH)"
   ]
  },
  {
   "cell_type": "code",
   "execution_count": 12,
   "metadata": {},
   "outputs": [],
   "source": [
    "# sample = patients[patients['Group'] == 'CN']\n",
    "sample = patients.drop(patients[patients['Group'] == 'SMC'].index)\n",
    "# sample = patients"
   ]
  },
  {
   "cell_type": "code",
   "execution_count": 13,
   "metadata": {},
   "outputs": [
    {
     "name": "stdout",
     "output_type": "stream",
     "text": [
      "Sample size:  296\n",
      "Mean age:  74.05405405405405\n",
      "Min age:  57\n",
      "Max age:  95\n",
      "Range:  38\n",
      "Sex\n",
      "F    168\n",
      "M    128\n",
      "Name: count, dtype: int64\n",
      "Group\n",
      "CN     168\n",
      "MCI     92\n",
      "AD      36\n",
      "Name: count, dtype: int64\n"
     ]
    }
   ],
   "source": [
    "print('Sample size: ', len(sample))\n",
    "print('Mean age: ', sample['Age'].mean())\n",
    "\n",
    "print('Min age: ', sample['Age'].min())\n",
    "print('Max age: ', sample['Age'].max())\n",
    "print('Range: ', sample['Age'].max() - sample['Age'].min())\n",
    "\n",
    "print(sample['Sex'].value_counts())\n",
    "print(sample['Group'].value_counts())"
   ]
  }
 ],
 "metadata": {
  "kernelspec": {
   "display_name": "venv",
   "language": "python",
   "name": "python3"
  },
  "language_info": {
   "codemirror_mode": {
    "name": "ipython",
    "version": 3
   },
   "file_extension": ".py",
   "mimetype": "text/x-python",
   "name": "python",
   "nbconvert_exporter": "python",
   "pygments_lexer": "ipython3",
   "version": "3.11.5"
  }
 },
 "nbformat": 4,
 "nbformat_minor": 2
}
