{
 "cells": [
  {
   "cell_type": "code",
   "execution_count": 2,
   "metadata": {},
   "outputs": [],
   "source": [
    "import whobpyt\n",
    "from whobpyt.datatypes import par, Recording\n",
    "from whobpyt.models.RWW import RNNRWW, ParamsRWW\n",
    "from whobpyt.optimization.custom_cost_RWW import CostsRWW\n",
    "from whobpyt.run import Model_fitting\n",
    "\n",
    "import os\n",
    "import sys \n",
    "\n",
    "# array and pd stuff\n",
    "import numpy as np\n",
    "import pandas as pd\n",
    "from scipy.io import loadmat # for reading in the .mat files\n",
    "\n",
    "\n",
    "\n",
    "# viz stuff\n",
    "import matplotlib.pyplot as plt"
   ]
  },
  {
   "cell_type": "code",
   "execution_count": 3,
   "metadata": {},
   "outputs": [],
   "source": [
    "# Normalise the FC data and find Correlation matrix\n",
    "def normalise_correlate_fc(fc):\n",
    "    fc_emp = fc / np.max(fc)\n",
    "    fc_emp = np.corrcoef(fc_emp.T)\n",
    "    return fc_emp"
   ]
  },
  {
   "cell_type": "code",
   "execution_count": 4,
   "metadata": {},
   "outputs": [],
   "source": [
    "def get_avg_fc(fcs):\n",
    "    corr_matrices = []\n",
    "\n",
    "    for data in fcs:\n",
    "        fc = normalise_correlate_fc(data)\n",
    "        corr_matrices.append(fc)\n",
    "\n",
    "    stacked_corr = np.stack(corr_matrices, axis = 0)\n",
    "    avg_corr = np.mean(stacked_corr, axis =0)\n",
    "    \n",
    "    return avg_corr"
   ]
  },
  {
   "cell_type": "code",
   "execution_count": null,
   "metadata": {},
   "outputs": [],
   "source": []
  }
 ],
 "metadata": {
  "kernelspec": {
   "display_name": "Python3.11 (pytorch_env)",
   "language": "python",
   "name": "python311_pytorch"
  },
  "language_info": {
   "codemirror_mode": {
    "name": "ipython",
    "version": 3
   },
   "file_extension": ".py",
   "mimetype": "text/x-python",
   "name": "python",
   "nbconvert_exporter": "python",
   "pygments_lexer": "ipython3",
   "version": "3.11.8"
  }
 },
 "nbformat": 4,
 "nbformat_minor": 2
}
