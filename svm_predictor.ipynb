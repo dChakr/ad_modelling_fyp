{
 "cells": [
  {
   "cell_type": "markdown",
   "metadata": {},
   "source": [
    "# SVM Predictor for Cognitive Score"
   ]
  },
  {
   "cell_type": "code",
   "execution_count": 1,
   "metadata": {},
   "outputs": [],
   "source": [
    "import pandas as pd\n",
    "# import sys\n",
    "# import os\n",
    "import numpy as np\n",
    "from scipy.io import loadmat\n",
    "\n",
    "# scikit-learn modules\n",
    "from sklearn.model_selection import train_test_split # for splitting the data\n",
    "from sklearn.ensemble import RandomForestRegressor # for building the model\n",
    "from sklearn.preprocessing import StandardScaler\n",
    "from sklearn.svm import SVR, NuSVR\n",
    "from sklearn import metrics\n",
    "from sklearn.model_selection import GridSearchCV"
   ]
  },
  {
   "cell_type": "code",
   "execution_count": 2,
   "metadata": {},
   "outputs": [
    {
     "data": {
      "text/html": [
       "<div>\n",
       "<style scoped>\n",
       "    .dataframe tbody tr th:only-of-type {\n",
       "        vertical-align: middle;\n",
       "    }\n",
       "\n",
       "    .dataframe tbody tr th {\n",
       "        vertical-align: top;\n",
       "    }\n",
       "\n",
       "    .dataframe thead th {\n",
       "        text-align: right;\n",
       "    }\n",
       "</style>\n",
       "<table border=\"1\" class=\"dataframe\">\n",
       "  <thead>\n",
       "    <tr style=\"text-align: right;\">\n",
       "      <th></th>\n",
       "      <th>Unnamed: 0</th>\n",
       "      <th>PHC_VSP</th>\n",
       "      <th>FC_DATA</th>\n",
       "    </tr>\n",
       "  </thead>\n",
       "  <tbody>\n",
       "    <tr>\n",
       "      <th>0</th>\n",
       "      <td>10</td>\n",
       "      <td>0.963</td>\n",
       "      <td>../FMRI_ADNI_DATA/fc/sub-ADNI011S0021_ses-M144...</td>\n",
       "    </tr>\n",
       "    <tr>\n",
       "      <th>1</th>\n",
       "      <td>91</td>\n",
       "      <td>0.264</td>\n",
       "      <td>../FMRI_ADNI_DATA/fc/sub-ADNI027S0074_ses-M156...</td>\n",
       "    </tr>\n",
       "    <tr>\n",
       "      <th>2</th>\n",
       "      <td>119</td>\n",
       "      <td>-0.041</td>\n",
       "      <td>../FMRI_ADNI_DATA/fc/sub-ADNI027S0120_ses-M132...</td>\n",
       "    </tr>\n",
       "    <tr>\n",
       "      <th>3</th>\n",
       "      <td>132</td>\n",
       "      <td>0.264</td>\n",
       "      <td>../FMRI_ADNI_DATA/fc/sub-ADNI068S0127_ses-M138...</td>\n",
       "    </tr>\n",
       "    <tr>\n",
       "      <th>4</th>\n",
       "      <td>133</td>\n",
       "      <td>0.963</td>\n",
       "      <td>../FMRI_ADNI_DATA/fc/sub-ADNI068S0127_ses-M150...</td>\n",
       "    </tr>\n",
       "  </tbody>\n",
       "</table>\n",
       "</div>"
      ],
      "text/plain": [
       "   Unnamed: 0  PHC_VSP                                            FC_DATA\n",
       "0          10    0.963  ../FMRI_ADNI_DATA/fc/sub-ADNI011S0021_ses-M144...\n",
       "1          91    0.264  ../FMRI_ADNI_DATA/fc/sub-ADNI027S0074_ses-M156...\n",
       "2         119   -0.041  ../FMRI_ADNI_DATA/fc/sub-ADNI027S0120_ses-M132...\n",
       "3         132    0.264  ../FMRI_ADNI_DATA/fc/sub-ADNI068S0127_ses-M138...\n",
       "4         133    0.963  ../FMRI_ADNI_DATA/fc/sub-ADNI068S0127_ses-M150..."
      ]
     },
     "execution_count": 2,
     "metadata": {},
     "output_type": "execute_result"
    }
   ],
   "source": [
    "ADSP_DATA = 'data/ADSP_PHC_COGN_Dec2023_FILTERED_wfiles.csv'\n",
    "\n",
    "df_mem = pd.read_csv(ADSP_DATA)\n",
    "df_exf = pd.read_csv(ADSP_DATA)\n",
    "df_lan = pd.read_csv(ADSP_DATA)\n",
    "df_vsp = pd.read_csv(ADSP_DATA)\n",
    "\n",
    "df_mem = df_mem.drop(columns=['RID', 'VISCODE2', 'PHC_Diagnosis', 'PHC_EXF', 'PHC_LAN', 'PHC_VSP'])\n",
    "df_exf = df_exf.drop(columns=['RID', 'VISCODE2', 'PHC_Diagnosis', 'PHC_MEM', 'PHC_LAN', 'PHC_VSP'])\n",
    "df_lan = df_lan.drop(columns=['RID', 'VISCODE2', 'PHC_Diagnosis', 'PHC_EXF', 'PHC_MEM', 'PHC_VSP'])\n",
    "df_vsp = df_vsp.drop(columns=['RID', 'VISCODE2', 'PHC_Diagnosis', 'PHC_EXF', 'PHC_LAN', 'PHC_MEM'])\n",
    "df_vsp.head()"
   ]
  },
  {
   "cell_type": "markdown",
   "metadata": {},
   "source": [
    "## Cognitive Score Predictor (SVM)"
   ]
  },
  {
   "cell_type": "code",
   "execution_count": 3,
   "metadata": {},
   "outputs": [
    {
     "data": {
      "text/plain": [
       "(1342, 3)"
      ]
     },
     "execution_count": 3,
     "metadata": {},
     "output_type": "execute_result"
    }
   ],
   "source": [
    "# df_mem.dropna(subset=['PHC_MEM'], inplace=True)\n",
    "# df_mem.shape"
   ]
  },
  {
   "cell_type": "code",
   "execution_count": 50,
   "metadata": {},
   "outputs": [
    {
     "data": {
      "text/plain": [
       "(1343, 3)"
      ]
     },
     "execution_count": 50,
     "metadata": {},
     "output_type": "execute_result"
    }
   ],
   "source": [
    "# df_exf.dropna(subset=['PHC_EXF'], inplace=True)\n",
    "# df_exf.shape"
   ]
  },
  {
   "cell_type": "code",
   "execution_count": 82,
   "metadata": {},
   "outputs": [
    {
     "data": {
      "text/plain": [
       "(1343, 3)"
      ]
     },
     "execution_count": 82,
     "metadata": {},
     "output_type": "execute_result"
    }
   ],
   "source": [
    "# df_lan.dropna(subset=['PHC_LAN'], inplace=True)\n",
    "# df_lan.shape"
   ]
  },
  {
   "cell_type": "code",
   "execution_count": 3,
   "metadata": {},
   "outputs": [
    {
     "data": {
      "text/plain": [
       "(1343, 3)"
      ]
     },
     "execution_count": 3,
     "metadata": {},
     "output_type": "execute_result"
    }
   ],
   "source": [
    "df_vsp.dropna(subset=['PHC_VSP'], inplace=True)\n",
    "df_vsp.shape"
   ]
  },
  {
   "cell_type": "code",
   "execution_count": 4,
   "metadata": {},
   "outputs": [],
   "source": [
    "train, test = train_test_split(df_vsp, test_size=0.2, random_state=42)"
   ]
  },
  {
   "cell_type": "code",
   "execution_count": 5,
   "metadata": {},
   "outputs": [],
   "source": [
    "# # Get targets for training + testing each predictor\n",
    "# y_train, y_test = train['PHC_MEM'], test['PHC_MEM']"
   ]
  },
  {
   "cell_type": "code",
   "execution_count": 5,
   "metadata": {},
   "outputs": [],
   "source": [
    "# Get targets for training + testing each predictor\n",
    "y_train, y_test = train['PHC_VSP'], test['PHC_VSP']"
   ]
  },
  {
   "cell_type": "code",
   "execution_count": 6,
   "metadata": {},
   "outputs": [
    {
     "data": {
      "text/plain": [
       "(1074, 3)"
      ]
     },
     "execution_count": 6,
     "metadata": {},
     "output_type": "execute_result"
    }
   ],
   "source": [
    "train.shape"
   ]
  },
  {
   "cell_type": "code",
   "execution_count": 7,
   "metadata": {},
   "outputs": [],
   "source": [
    "def normalise_correlate_fc(fc):\n",
    "    fc_emp = fc / np.max(fc)\n",
    "    fc_emp = np.corrcoef(fc_emp)\n",
    "    return fc_emp"
   ]
  },
  {
   "cell_type": "code",
   "execution_count": 8,
   "metadata": {},
   "outputs": [],
   "source": [
    "# Get features for training and testing\n",
    "\n",
    "# Get the FC data as numpy arrays\n",
    "dim_x = len(train)\n",
    "x_train = []\n",
    "x_test = []\n",
    "\n",
    "for i, file in enumerate(train['FC_DATA'].values):\n",
    "    arr = loadmat(file)['ROI_activity'][:100, :] # get the first 100 regions\n",
    "    fc = normalise_correlate_fc(arr)\n",
    "    x_train.append(fc)\n",
    "\n",
    "for i, file in enumerate(test['FC_DATA'].values):\n",
    "    arr = loadmat(file)['ROI_activity'][:100, :] # get the first 100 regions\n",
    "    fc = normalise_correlate_fc(arr)\n",
    "    x_test.append(fc)"
   ]
  },
  {
   "cell_type": "code",
   "execution_count": 9,
   "metadata": {},
   "outputs": [],
   "source": [
    "x_train = np.array(x_train)\n",
    "x_test = np.array(x_test)\n",
    "\n",
    "x_train = x_train.reshape(x_train.shape[0], -1)\n",
    "x_test = x_test.reshape(x_test.shape[0], -1)"
   ]
  },
  {
   "cell_type": "code",
   "execution_count": 10,
   "metadata": {},
   "outputs": [],
   "source": [
    "# Feature scaling\n",
    "\n",
    "scaler = StandardScaler().fit(x_train)\n",
    "x_train_scaled = scaler.transform(x_train)\n",
    "x_test_scaled = scaler.transform(x_test)"
   ]
  },
  {
   "cell_type": "code",
   "execution_count": 11,
   "metadata": {},
   "outputs": [],
   "source": [
    "# evaluate \n",
    "def eval(model, x_test_scaled, y_test):\n",
    "    y_pred = model.predict(x_test_scaled)\n",
    "    r2_score = round(metrics.r2_score(y_test, y_pred),2)\n",
    "\n",
    "    print(f'r2: {r2_score}')"
   ]
  },
  {
   "cell_type": "code",
   "execution_count": 140,
   "metadata": {},
   "outputs": [
    {
     "name": "stdout",
     "output_type": "stream",
     "text": [
      "r2: -12.69\n"
     ]
    }
   ],
   "source": [
    "# fit linear svm:\n",
    "svr_lin = SVR(kernel = 'linear')\n",
    "svr_lin.fit(x_train_scaled, y_train)\n",
    "\n",
    "eval(svr_lin, x_test_scaled, y_test)"
   ]
  },
  {
   "cell_type": "code",
   "execution_count": 141,
   "metadata": {},
   "outputs": [
    {
     "name": "stdout",
     "output_type": "stream",
     "text": [
      "r2: -0.05\n"
     ]
    }
   ],
   "source": [
    "# fit rbf svm:\n",
    "svr_rbf = SVR(kernel = 'rbf')\n",
    "svr_rbf.fit(x_train_scaled, y_train)\n",
    "\n",
    "eval(svr_rbf, x_test_scaled, y_test)"
   ]
  },
  {
   "cell_type": "code",
   "execution_count": 142,
   "metadata": {},
   "outputs": [
    {
     "name": "stdout",
     "output_type": "stream",
     "text": [
      "r2: -0.08\n"
     ]
    }
   ],
   "source": [
    "# fit poly svm:\n",
    "svr_poly = SVR(kernel = 'poly', degree=3, gamma='scale')\n",
    "svr_poly.fit(x_train_scaled, y_train)\n",
    "\n",
    "eval(svr_poly, x_test_scaled, y_test)"
   ]
  },
  {
   "cell_type": "code",
   "execution_count": 55,
   "metadata": {},
   "outputs": [
    {
     "name": "stdout",
     "output_type": "stream",
     "text": [
      "r2: -0.06\n"
     ]
    }
   ],
   "source": [
    "# Grid search for RBF Kernel\n",
    "svr_rbf = SVR(kernel = 'rbf', C=100, gamma=0.1)\n",
    "svr_rbf.fit(x_train_scaled, y_train)\n",
    "\n",
    "eval(svr_rbf, x_test_scaled, y_test)"
   ]
  },
  {
   "cell_type": "code",
   "execution_count": 12,
   "metadata": {},
   "outputs": [
    {
     "name": "stdout",
     "output_type": "stream",
     "text": [
      "Fitting 5 folds for each of 24 candidates, totalling 120 fits\n",
      "[CV 1/5] END .......C=0.1, gamma=1, kernel=rbf;, score=-0.009 total time=   8.6s\n",
      "[CV 2/5] END .......C=0.1, gamma=1, kernel=rbf;, score=-0.005 total time=   9.5s\n",
      "[CV 3/5] END .......C=0.1, gamma=1, kernel=rbf;, score=-0.001 total time=   9.5s\n",
      "[CV 4/5] END .......C=0.1, gamma=1, kernel=rbf;, score=-0.015 total time=   9.0s\n",
      "[CV 5/5] END .......C=0.1, gamma=1, kernel=rbf;, score=-0.031 total time=   9.9s\n",
      "[CV 1/5] END .....C=0.1, gamma=0.1, kernel=rbf;, score=-0.010 total time=   9.0s\n",
      "[CV 2/5] END .....C=0.1, gamma=0.1, kernel=rbf;, score=-0.005 total time=   8.9s\n",
      "[CV 3/5] END .....C=0.1, gamma=0.1, kernel=rbf;, score=-0.002 total time=   8.3s\n",
      "[CV 4/5] END .....C=0.1, gamma=0.1, kernel=rbf;, score=-0.016 total time=   8.9s\n",
      "[CV 5/5] END .....C=0.1, gamma=0.1, kernel=rbf;, score=-0.031 total time=   9.1s\n",
      "[CV 1/5] END ....C=0.1, gamma=0.01, kernel=rbf;, score=-0.007 total time=   8.2s\n",
      "[CV 2/5] END ....C=0.1, gamma=0.01, kernel=rbf;, score=-0.000 total time=   9.3s\n",
      "[CV 3/5] END ....C=0.1, gamma=0.01, kernel=rbf;, score=-0.001 total time=   8.6s\n",
      "[CV 4/5] END ....C=0.1, gamma=0.01, kernel=rbf;, score=-0.015 total time=   9.4s\n",
      "[CV 5/5] END ....C=0.1, gamma=0.01, kernel=rbf;, score=-0.036 total time=   9.3s\n",
      "[CV 1/5] END ...C=0.1, gamma=0.001, kernel=rbf;, score=-0.001 total time=   8.6s\n",
      "[CV 2/5] END ....C=0.1, gamma=0.001, kernel=rbf;, score=0.031 total time=   8.5s\n",
      "[CV 3/5] END ....C=0.1, gamma=0.001, kernel=rbf;, score=0.014 total time=   8.2s\n",
      "[CV 4/5] END ...C=0.1, gamma=0.001, kernel=rbf;, score=-0.025 total time=   8.9s\n",
      "[CV 5/5] END ...C=0.1, gamma=0.001, kernel=rbf;, score=-0.011 total time=   8.9s\n",
      "[CV 1/5] END ...C=0.1, gamma=0.0001, kernel=rbf;, score=0.041 total time=   8.2s\n",
      "[CV 2/5] END ...C=0.1, gamma=0.0001, kernel=rbf;, score=0.053 total time=   8.5s\n",
      "[CV 3/5] END ..C=0.1, gamma=0.0001, kernel=rbf;, score=-0.015 total time=   8.3s\n",
      "[CV 4/5] END ...C=0.1, gamma=0.0001, kernel=rbf;, score=0.007 total time=   8.5s\n",
      "[CV 5/5] END ..C=0.1, gamma=0.0001, kernel=rbf;, score=-0.059 total time=   8.7s\n",
      "[CV 1/5] END ....C=0.1, gamma=scale, kernel=rbf;, score=0.041 total time=   8.4s\n",
      "[CV 2/5] END ....C=0.1, gamma=scale, kernel=rbf;, score=0.053 total time=   8.3s\n",
      "[CV 3/5] END ...C=0.1, gamma=scale, kernel=rbf;, score=-0.015 total time=   8.1s\n",
      "[CV 4/5] END ....C=0.1, gamma=scale, kernel=rbf;, score=0.007 total time=   7.6s\n",
      "[CV 5/5] END ...C=0.1, gamma=scale, kernel=rbf;, score=-0.059 total time=   7.5s\n",
      "[CV 1/5] END .........C=1, gamma=1, kernel=rbf;, score=-0.010 total time=   7.8s\n",
      "[CV 2/5] END .........C=1, gamma=1, kernel=rbf;, score=-0.004 total time=   8.1s\n",
      "[CV 3/5] END .........C=1, gamma=1, kernel=rbf;, score=-0.001 total time=   8.5s\n",
      "[CV 4/5] END .........C=1, gamma=1, kernel=rbf;, score=-0.019 total time=   8.5s\n",
      "[CV 5/5] END .........C=1, gamma=1, kernel=rbf;, score=-0.034 total time=   7.9s\n",
      "[CV 1/5] END .......C=1, gamma=0.1, kernel=rbf;, score=-0.010 total time=   8.1s\n",
      "[CV 2/5] END .......C=1, gamma=0.1, kernel=rbf;, score=-0.004 total time=   7.6s\n",
      "[CV 3/5] END .......C=1, gamma=0.1, kernel=rbf;, score=-0.001 total time=   8.8s\n",
      "[CV 4/5] END .......C=1, gamma=0.1, kernel=rbf;, score=-0.019 total time=   9.7s\n",
      "[CV 5/5] END .......C=1, gamma=0.1, kernel=rbf;, score=-0.034 total time=   9.4s\n",
      "[CV 1/5] END ......C=1, gamma=0.01, kernel=rbf;, score=-0.016 total time=   9.8s\n",
      "[CV 2/5] END ......C=1, gamma=0.01, kernel=rbf;, score=-0.014 total time=  10.6s\n",
      "[CV 3/5] END ......C=1, gamma=0.01, kernel=rbf;, score=-0.015 total time=  11.1s\n",
      "[CV 4/5] END ......C=1, gamma=0.01, kernel=rbf;, score=-0.023 total time=   9.8s\n",
      "[CV 5/5] END ......C=1, gamma=0.01, kernel=rbf;, score=-0.057 total time=  10.3s\n",
      "[CV 1/5] END .....C=1, gamma=0.001, kernel=rbf;, score=-0.011 total time=  10.1s\n",
      "[CV 2/5] END .....C=1, gamma=0.001, kernel=rbf;, score=-0.015 total time=  10.6s\n",
      "[CV 3/5] END ......C=1, gamma=0.001, kernel=rbf;, score=0.001 total time=  10.1s\n",
      "[CV 4/5] END .....C=1, gamma=0.001, kernel=rbf;, score=-0.034 total time=  10.0s\n",
      "[CV 5/5] END .....C=1, gamma=0.001, kernel=rbf;, score=-0.013 total time=   9.8s\n",
      "[CV 1/5] END .....C=1, gamma=0.0001, kernel=rbf;, score=0.024 total time=   9.1s\n",
      "[CV 2/5] END .....C=1, gamma=0.0001, kernel=rbf;, score=0.012 total time=   9.4s\n",
      "[CV 3/5] END ....C=1, gamma=0.0001, kernel=rbf;, score=-0.024 total time=   8.9s\n",
      "[CV 4/5] END .....C=1, gamma=0.0001, kernel=rbf;, score=0.002 total time=   9.6s\n",
      "[CV 5/5] END ....C=1, gamma=0.0001, kernel=rbf;, score=-0.053 total time=   9.6s\n",
      "[CV 1/5] END ......C=1, gamma=scale, kernel=rbf;, score=0.024 total time=   9.8s\n",
      "[CV 2/5] END ......C=1, gamma=scale, kernel=rbf;, score=0.012 total time=   8.9s\n",
      "[CV 3/5] END .....C=1, gamma=scale, kernel=rbf;, score=-0.023 total time=   8.9s\n",
      "[CV 4/5] END ......C=1, gamma=scale, kernel=rbf;, score=0.002 total time=   9.5s\n",
      "[CV 5/5] END .....C=1, gamma=scale, kernel=rbf;, score=-0.054 total time=   9.9s\n",
      "[CV 1/5] END ........C=10, gamma=1, kernel=rbf;, score=-0.003 total time=  10.2s\n",
      "[CV 2/5] END ........C=10, gamma=1, kernel=rbf;, score=-0.000 total time=  11.0s\n",
      "[CV 3/5] END ........C=10, gamma=1, kernel=rbf;, score=-0.000 total time=  10.1s\n",
      "[CV 4/5] END ........C=10, gamma=1, kernel=rbf;, score=-0.040 total time=  10.6s\n",
      "[CV 5/5] END ........C=10, gamma=1, kernel=rbf;, score=-0.022 total time=   9.5s\n",
      "[CV 1/5] END ......C=10, gamma=0.1, kernel=rbf;, score=-0.003 total time=  10.3s\n",
      "[CV 2/5] END ......C=10, gamma=0.1, kernel=rbf;, score=-0.001 total time=   9.8s\n",
      "[CV 3/5] END ......C=10, gamma=0.1, kernel=rbf;, score=-0.001 total time=  10.8s\n",
      "[CV 4/5] END ......C=10, gamma=0.1, kernel=rbf;, score=-0.040 total time=  10.3s\n",
      "[CV 5/5] END ......C=10, gamma=0.1, kernel=rbf;, score=-0.022 total time=   9.6s\n",
      "[CV 1/5] END .....C=10, gamma=0.01, kernel=rbf;, score=-0.011 total time=   9.4s\n",
      "[CV 2/5] END .....C=10, gamma=0.01, kernel=rbf;, score=-0.014 total time=   9.6s\n",
      "[CV 3/5] END .....C=10, gamma=0.01, kernel=rbf;, score=-0.007 total time=   9.7s\n",
      "[CV 4/5] END .....C=10, gamma=0.01, kernel=rbf;, score=-0.049 total time=   9.5s\n",
      "[CV 5/5] END .....C=10, gamma=0.01, kernel=rbf;, score=-0.078 total time=   8.9s\n",
      "[CV 1/5] END ....C=10, gamma=0.001, kernel=rbf;, score=-0.028 total time=   9.3s\n",
      "[CV 2/5] END ....C=10, gamma=0.001, kernel=rbf;, score=-0.025 total time=   9.9s\n",
      "[CV 3/5] END ....C=10, gamma=0.001, kernel=rbf;, score=-0.089 total time=   9.2s\n",
      "[CV 4/5] END ....C=10, gamma=0.001, kernel=rbf;, score=-0.133 total time=  11.2s\n",
      "[CV 5/5] END ....C=10, gamma=0.001, kernel=rbf;, score=-0.040 total time=   9.4s\n",
      "[CV 1/5] END ...C=10, gamma=0.0001, kernel=rbf;, score=-0.057 total time=   8.2s\n",
      "[CV 2/5] END ...C=10, gamma=0.0001, kernel=rbf;, score=-0.140 total time=   9.0s\n",
      "[CV 3/5] END ...C=10, gamma=0.0001, kernel=rbf;, score=-0.160 total time=   9.1s\n",
      "[CV 4/5] END ...C=10, gamma=0.0001, kernel=rbf;, score=-0.192 total time=   9.1s\n",
      "[CV 5/5] END ...C=10, gamma=0.0001, kernel=rbf;, score=-0.057 total time=   9.2s\n",
      "[CV 1/5] END ....C=10, gamma=scale, kernel=rbf;, score=-0.056 total time=   8.4s\n",
      "[CV 2/5] END ....C=10, gamma=scale, kernel=rbf;, score=-0.141 total time=   8.8s\n",
      "[CV 3/5] END ....C=10, gamma=scale, kernel=rbf;, score=-0.159 total time=   8.9s\n",
      "[CV 4/5] END ....C=10, gamma=scale, kernel=rbf;, score=-0.191 total time=   8.7s\n",
      "[CV 5/5] END ....C=10, gamma=scale, kernel=rbf;, score=-0.056 total time=   9.3s\n",
      "[CV 1/5] END .......C=100, gamma=1, kernel=rbf;, score=-0.003 total time=  11.1s\n",
      "[CV 2/5] END .......C=100, gamma=1, kernel=rbf;, score=-0.000 total time=   9.7s\n",
      "[CV 3/5] END .......C=100, gamma=1, kernel=rbf;, score=-0.000 total time=  10.6s\n",
      "[CV 4/5] END .......C=100, gamma=1, kernel=rbf;, score=-0.040 total time=  10.2s\n",
      "[CV 5/5] END .......C=100, gamma=1, kernel=rbf;, score=-0.022 total time=  11.1s\n",
      "[CV 1/5] END .....C=100, gamma=0.1, kernel=rbf;, score=-0.003 total time=   9.7s\n",
      "[CV 2/5] END .....C=100, gamma=0.1, kernel=rbf;, score=-0.001 total time=   9.3s\n",
      "[CV 3/5] END .....C=100, gamma=0.1, kernel=rbf;, score=-0.001 total time=   9.5s\n",
      "[CV 4/5] END .....C=100, gamma=0.1, kernel=rbf;, score=-0.040 total time=  10.5s\n",
      "[CV 5/5] END .....C=100, gamma=0.1, kernel=rbf;, score=-0.022 total time=   9.3s\n",
      "[CV 1/5] END ....C=100, gamma=0.01, kernel=rbf;, score=-0.011 total time=   8.9s\n",
      "[CV 2/5] END ....C=100, gamma=0.01, kernel=rbf;, score=-0.014 total time=   9.3s\n",
      "[CV 3/5] END ....C=100, gamma=0.01, kernel=rbf;, score=-0.007 total time=   9.8s\n",
      "[CV 4/5] END ....C=100, gamma=0.01, kernel=rbf;, score=-0.049 total time=  10.6s\n",
      "[CV 5/5] END ....C=100, gamma=0.01, kernel=rbf;, score=-0.078 total time=  10.2s\n",
      "[CV 1/5] END ...C=100, gamma=0.001, kernel=rbf;, score=-0.049 total time=  10.2s\n",
      "[CV 2/5] END ...C=100, gamma=0.001, kernel=rbf;, score=-0.041 total time=   9.3s\n",
      "[CV 3/5] END ...C=100, gamma=0.001, kernel=rbf;, score=-0.105 total time=   9.3s\n",
      "[CV 4/5] END ...C=100, gamma=0.001, kernel=rbf;, score=-0.276 total time=   9.9s\n",
      "[CV 5/5] END ...C=100, gamma=0.001, kernel=rbf;, score=-0.067 total time=   9.8s\n",
      "[CV 1/5] END ..C=100, gamma=0.0001, kernel=rbf;, score=-0.214 total time=   9.9s\n",
      "[CV 2/5] END ..C=100, gamma=0.0001, kernel=rbf;, score=-0.356 total time=   8.8s\n",
      "[CV 3/5] END ..C=100, gamma=0.0001, kernel=rbf;, score=-0.490 total time=   9.8s\n",
      "[CV 4/5] END ..C=100, gamma=0.0001, kernel=rbf;, score=-0.480 total time=   9.1s\n",
      "[CV 5/5] END ..C=100, gamma=0.0001, kernel=rbf;, score=-0.170 total time=  10.2s\n",
      "[CV 1/5] END ...C=100, gamma=scale, kernel=rbf;, score=-0.212 total time=   9.5s\n",
      "[CV 2/5] END ...C=100, gamma=scale, kernel=rbf;, score=-0.356 total time=   8.9s\n",
      "[CV 3/5] END ...C=100, gamma=scale, kernel=rbf;, score=-0.488 total time=   8.7s\n",
      "[CV 4/5] END ...C=100, gamma=scale, kernel=rbf;, score=-0.480 total time=   9.0s\n",
      "[CV 5/5] END ...C=100, gamma=scale, kernel=rbf;, score=-0.169 total time=   9.1s\n",
      "The best parameters are {'C': 0.1, 'gamma': 0.0001, 'kernel': 'rbf'} with a score of 0.01\n"
     ]
    }
   ],
   "source": [
    "# defining parameter range \n",
    "r2_scorer = metrics.make_scorer(metrics.r2_score)\n",
    "\n",
    "param_grid = {'C': [0.1, 1, 10, 100],  \n",
    "              'gamma': [1, 0.1, 0.01, 0.001, 0.0001, 'scale'], \n",
    "              'kernel': ['rbf']}  \n",
    "  \n",
    "grid = GridSearchCV(SVR(), param_grid, refit = True, verbose = 3, scoring=r2_scorer) \n",
    "  \n",
    "# fitting the model for grid search \n",
    "grid.fit(x_train_scaled, y_train) \n",
    "\n",
    "print(\n",
    "    \"The best parameters are %s with a score of %0.2f\"\n",
    "    % (grid.best_params_, grid.best_score_)\n",
    ")"
   ]
  },
  {
   "cell_type": "code",
   "execution_count": 13,
   "metadata": {},
   "outputs": [
    {
     "name": "stdout",
     "output_type": "stream",
     "text": [
      "r2: -0.05\n"
     ]
    }
   ],
   "source": [
    "eval(grid.best_estimator_, x_test_scaled, y_test)"
   ]
  },
  {
   "cell_type": "code",
   "execution_count": 16,
   "metadata": {},
   "outputs": [
    {
     "name": "stdout",
     "output_type": "stream",
     "text": [
      "r2: -0.02\n"
     ]
    }
   ],
   "source": [
    "# Search for Epsilon\n",
    "svr_rbf = SVR(kernel = 'rbf', C=0.1, gamma=0.0001, epsilon=0.001)\n",
    "svr_rbf.fit(x_train_scaled, y_train)\n",
    "\n",
    "eval(svr_rbf, x_test_scaled, y_test)"
   ]
  },
  {
   "cell_type": "code",
   "execution_count": 101,
   "metadata": {},
   "outputs": [
    {
     "name": "stdout",
     "output_type": "stream",
     "text": [
      "r2: -0.02\n"
     ]
    }
   ],
   "source": [
    "# Try Nu\n",
    "model = NuSVR(nu=0.9, C=1, kernel='rbf', gamma=0.0001)\n",
    "model.fit(x_train_scaled, y_train)\n",
    "\n",
    "eval(model, x_test_scaled, y_test)"
   ]
  },
  {
   "cell_type": "markdown",
   "metadata": {},
   "source": [
    "## Try Dimensional Reduction (PCA)"
   ]
  },
  {
   "cell_type": "code",
   "execution_count": 115,
   "metadata": {},
   "outputs": [
    {
     "name": "stdout",
     "output_type": "stream",
     "text": [
      "x_train shape:  (1074, 10000)\n",
      "x_test shape:  (269, 10000)\n",
      "x_train shape (reduced):  (1074, 200)\n",
      "x_train shape (reduced):  (269, 200)\n"
     ]
    }
   ],
   "source": [
    "from sklearn.decomposition import PCA\n",
    "\n",
    "print('x_train shape: ', x_train.shape)\n",
    "print('x_test shape: ', x_test.shape)\n",
    "\n",
    "pca = PCA(n_components=200)  # Specify the number of components (desired dimensionality)\n",
    "x_train_reduced = pca.fit_transform(x_train)\n",
    "print('x_train shape (reduced): ', x_train_reduced.shape)\n",
    "\n",
    "x_test_reduced = pca.fit_transform(x_test)\n",
    "print('x_train shape (reduced): ', x_test_reduced.shape)"
   ]
  },
  {
   "cell_type": "code",
   "execution_count": 124,
   "metadata": {},
   "outputs": [
    {
     "name": "stdout",
     "output_type": "stream",
     "text": [
      "r2: -0.01\n"
     ]
    }
   ],
   "source": [
    "# fit rbf svm:\n",
    "svr_rbf = SVR(kernel = 'rbf', C=0.001, gamma='scale')\n",
    "svr_rbf.fit(x_train_reduced, y_train)\n",
    "\n",
    "eval(svr_rbf, x_test_reduced, y_test)"
   ]
  },
  {
   "cell_type": "code",
   "execution_count": null,
   "metadata": {},
   "outputs": [],
   "source": []
  }
 ],
 "metadata": {
  "kernelspec": {
   "display_name": "Python [conda env:test]",
   "language": "python",
   "name": "conda-env-test-py"
  },
  "language_info": {
   "codemirror_mode": {
    "name": "ipython",
    "version": 3
   },
   "file_extension": ".py",
   "mimetype": "text/x-python",
   "name": "python",
   "nbconvert_exporter": "python",
   "pygments_lexer": "ipython3",
   "version": "3.11.8"
  }
 },
 "nbformat": 4,
 "nbformat_minor": 2
}
