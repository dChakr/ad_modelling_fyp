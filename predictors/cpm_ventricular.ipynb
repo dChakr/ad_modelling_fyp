{
 "cells": [
  {
   "cell_type": "markdown",
   "metadata": {},
   "source": [
    "# CPM Predictor for Ventricular Volume\n",
    "\n",
    "Adpating code from https://github.com/YaleMRRC/CPM/tree/master (originally meant for ADAS Cog 11 Prediction) for Ventricular Volume Prediction"
   ]
  },
  {
   "cell_type": "code",
   "execution_count": 1,
   "metadata": {},
   "outputs": [],
   "source": [
    "import pandas as pd\n",
    "import numpy as np\n",
    "from scipy.io import loadmat\n",
    "import matplotlib.pyplot as plt\n",
    "import seaborn as sns\n",
    "from sklearn.metrics import r2_score, mean_squared_error\n",
    "from scipy.stats import spearmanr, t, ttest_1samp, pearsonr\n",
    "from sklearn.linear_model import LinearRegression\n",
    "from statsmodels.robust.robust_linear_model import RLM\n",
    "\n",
    "import json\n",
    "from joblib import dump"
   ]
  },
  {
   "cell_type": "markdown",
   "metadata": {},
   "source": [
    "### Get Features (FC Matrices)"
   ]
  },
  {
   "cell_type": "code",
   "execution_count": 3,
   "metadata": {},
   "outputs": [
    {
     "data": {
      "text/plain": [
       "(1262, 119)"
      ]
     },
     "execution_count": 3,
     "metadata": {},
     "output_type": "execute_result"
    }
   ],
   "source": [
    "ADNI_MERGE_WITH_VENTRICULAR_VOL = '../data/ADNIMERGE/ADNIMERGE_29Apr2024_Ventricles_ICV.csv'\n",
    "\n",
    "df = pd.read_csv(ADNI_MERGE_WITH_VENTRICULAR_VOL)\n",
    "df.shape"
   ]
  },
  {
   "cell_type": "code",
   "execution_count": 4,
   "metadata": {},
   "outputs": [
    {
     "data": {
      "text/plain": [
       "(1262, 6)"
      ]
     },
     "execution_count": 4,
     "metadata": {},
     "output_type": "execute_result"
    }
   ],
   "source": [
    "df = df[['RID', 'VISCODE', 'Ventricles_ICV', 'DX', 'DX_bl', 'FC_DATA']]\n",
    "df = df.dropna(subset=['Ventricles_ICV'])\n",
    "\n",
    "df.shape"
   ]
  },
  {
   "cell_type": "code",
   "execution_count": 5,
   "metadata": {},
   "outputs": [
    {
     "data": {
      "image/png": "[encoded data removed]",
      "text/plain": [
       "<Figure size 800x600 with 1 Axes>"
      ]
     },
     "metadata": {},
     "output_type": "display_data"
    }
   ],
   "source": [
    "plt.figure(figsize=(8, 6))\n",
    "plt.hist(df['Ventricles_ICV'], bins=20, color='skyblue', edgecolor='black')\n",
    "plt.title('Distribution of Ventricles_ICV Values in Participants')\n",
    "plt.xlabel('Ventricles_ICV')\n",
    "plt.ylabel('Frequency')\n",
    "plt.grid(True)\n",
    "plt.axis('on')\n",
    "# plt.savefig('../data/ventricles_ICV_dist_20bins.png')\n",
    "\n",
    "plt.show()"
   ]
  },
  {
   "cell_type": "code",
   "execution_count": 6,
   "metadata": {},
   "outputs": [],
   "source": [
    "def compute_fc_lower_triangle(fmri, node_size):\n",
    "    # Calculate the z_score (along the time axis)\n",
    "    fmri_zscored = (fmri.T - fmri.mean(axis=1)) / fmri.std(axis=1)\n",
    "\n",
    "    # Calculate the FC \n",
    "    fc = np.corrcoef(fmri_zscored.T)\n",
    "    \n",
    "    # Get the lower triangle\n",
    "    mask_e = np.tril_indices(node_size, -1)\n",
    "    lower_triangle = fc[mask_e]\n",
    "    \n",
    "    return lower_triangle"
   ]
  },
  {
   "cell_type": "code",
   "execution_count": 7,
   "metadata": {},
   "outputs": [
    {
     "name": "stdout",
     "output_type": "stream",
     "text": [
      "(4950, 50)\n",
      "(50,)\n"
     ]
    }
   ],
   "source": [
    "dim_x = len(df)\n",
    "X = []\n",
    "NODE_SIZE = 100\n",
    "\n",
    "for i, file in enumerate(df['FC_DATA'].values[:50]):\n",
    "    arr = loadmat(f'../{file}')['ROI_activity'][:NODE_SIZE, :] # get the first 100 regions\n",
    "    fc = compute_fc_lower_triangle(arr, NODE_SIZE)\n",
    "    X.append(fc)\n",
    "#     print(fc)\n",
    "    \n",
    "X = np.array(X).T\n",
    "print(X.shape)\n",
    "\n",
    "Y = df['Ventricles_ICV'][:50]\n",
    "print(Y.shape)"
   ]
  },
  {
   "cell_type": "code",
   "execution_count": 8,
   "metadata": {},
   "outputs": [],
   "source": [
    "def train_cpm(ipmat, pheno, threshold = 0.01):\n",
    "\n",
    "    \"\"\"\n",
    "    Accepts input matrices and pheno data\n",
    "    Returns model\n",
    "    @author: David O'Connor\n",
    "    @documentation: Javid Dadashkarimi\n",
    "    cpm: in cpm we select the most significant edges for subjects. so each subject\n",
    "         have a pair set of edges with positive and negative correlation with behavioral subjects.\n",
    "         It's important to keep both set in final regression task.  \n",
    "    posedges: positive edges are a set of edges have positive\n",
    "              correlatin with behavioral measures\n",
    "    negedges: negative edges are a set of edges have negative\n",
    "              correlation with behavioral measures\n",
    "    \"\"\"\n",
    "    cc=[spearmanr(pheno,im) for im in ipmat]\n",
    "    \n",
    "    rmat=np.array([c[0] for c in cc])\n",
    "    pmat=np.array([c[1] for c in cc])\n",
    "\n",
    "    posedges=(rmat > 0) & (pmat < threshold)    # edges correalated with higher scores\n",
    "    posedges=posedges.astype(int)\n",
    "    negedges=(rmat < 0) & (pmat < threshold)    # edges correalated with lower scores\n",
    "    negedges=negedges.astype(int)\n",
    "    \n",
    "    pe=ipmat[posedges.astype(bool),:]\n",
    "    ne=ipmat[negedges.astype(bool),:]\n",
    "    \n",
    "    pe=pe.sum(axis=0)/2\n",
    "    ne=ne.sum(axis=0)/2\n",
    "\n",
    "\n",
    "    if np.sum(pe) != 0:\n",
    "        fit_pos=np.polyfit(pe,pheno,1)      # fit a curve through the positive edges\n",
    "    else:\n",
    "        fit_pos=[]\n",
    "\n",
    "    if np.sum(ne) != 0:\n",
    "        fit_neg=np.polyfit(ne,pheno,1)       # fit a curve through the negative edges\n",
    "    else:\n",
    "        fit_neg=[]\n",
    "\n",
    "    return fit_pos,fit_neg,posedges,negedges\n",
    "\n",
    "def run_validate(X,y,cvtype,threshold=0.01):\n",
    "    \"\"\"\n",
    "    Accepts input matrices (X), phenotype data (y), and the type of cross-valdiation (cv_type)    \n",
    "    Returns the R-values for positive model (Rpos), negative model (Rneg), and the combination\n",
    "    X: the feature matrix of size (number of nodes x number of nodes x number of subjects)\n",
    "    y: the phenotype vector of size (number of subjects)\n",
    "    cv_type: the cross-valdiation type, takes one of the followings: \n",
    "    1) LOO: leave-one-out cross-validation\n",
    "    2) 5k: \n",
    "    \"\"\"\n",
    "    numsubs = len(y)\n",
    "    \n",
    "    if cvtype == 'LOO':\n",
    "        behav_pred_pos=np.zeros([numsubs])\n",
    "        behav_pred_neg=np.zeros([numsubs])\n",
    "        for loo in range(0,numsubs):\n",
    "\n",
    "            print(\"Running LOO, sub no:\",loo)\n",
    "      \n",
    "            train_mats=np.delete(X,[loo],axis=1)\n",
    "            train_pheno=np.delete(y,[loo],axis=0)\n",
    "            \n",
    "            test_mat=X[:,loo]\n",
    "            test_pheno=y[loo]\n",
    "\n",
    "            pos_fit,neg_fit,posedges,negedges=train_cpm(train_mats,train_pheno,threshold)\n",
    "\n",
    "            pe=np.sum(test_mat[posedges.flatten().astype(bool)])/2\n",
    "            ne=np.sum(test_mat[negedges.flatten().astype(bool)])/2\n",
    "            \n",
    "            # Run model on test subject\n",
    "\n",
    "            if len(pos_fit) > 0:\n",
    "                behav_pred_pos[loo]=pos_fit[0]*pe + pos_fit[1]       # predict using the coefficients of the curve\n",
    "            else:\n",
    "                behav_pred_pos[loo]='nan'\n",
    "\n",
    "            if len(neg_fit) > 0:\n",
    "                behav_pred_neg[loo]=neg_fit[0]*ne + neg_fit[1]\n",
    "            else:\n",
    "                behav_pred_neg[loo]='nan'\n",
    "          \n",
    "        return behav_pred_pos, behav_pred_neg\n",
    "    "
   ]
  },
  {
   "cell_type": "code",
   "execution_count": 9,
   "metadata": {},
   "outputs": [],
   "source": [
    "results = []"
   ]
  },
  {
   "cell_type": "code",
   "execution_count": 10,
   "metadata": {},
   "outputs": [
    {
     "name": "stdout",
     "output_type": "stream",
     "text": [
      "Running LOO, sub no: 0\n",
      "Running LOO, sub no: 1\n",
      "Running LOO, sub no: 2\n",
      "Running LOO, sub no: 3\n",
      "Running LOO, sub no: 4\n",
      "Running LOO, sub no: 5\n",
      "Running LOO, sub no: 6\n",
      "Running LOO, sub no: 7\n",
      "Running LOO, sub no: 8\n",
      "Running LOO, sub no: 9\n",
      "Running LOO, sub no: 10\n",
      "Running LOO, sub no: 11\n",
      "Running LOO, sub no: 12\n",
      "Running LOO, sub no: 13\n",
      "Running LOO, sub no: 14\n",
      "Running LOO, sub no: 15\n",
      "Running LOO, sub no: 16\n",
      "Running LOO, sub no: 17\n",
      "Running LOO, sub no: 18\n",
      "Running LOO, sub no: 19\n",
      "Running LOO, sub no: 20\n",
      "Running LOO, sub no: 21\n",
      "Running LOO, sub no: 22\n",
      "Running LOO, sub no: 23\n",
      "Running LOO, sub no: 24\n",
      "Running LOO, sub no: 25\n",
      "Running LOO, sub no: 26\n",
      "Running LOO, sub no: 27\n",
      "Running LOO, sub no: 28\n",
      "Running LOO, sub no: 29\n",
      "Running LOO, sub no: 30\n",
      "Running LOO, sub no: 31\n",
      "Running LOO, sub no: 32\n",
      "Running LOO, sub no: 33\n",
      "Running LOO, sub no: 34\n",
      "Running LOO, sub no: 35\n",
      "Running LOO, sub no: 36\n",
      "Running LOO, sub no: 37\n",
      "Running LOO, sub no: 38\n",
      "Running LOO, sub no: 39\n",
      "Running LOO, sub no: 40\n",
      "Running LOO, sub no: 41\n",
      "Running LOO, sub no: 42\n",
      "Running LOO, sub no: 43\n",
      "Running LOO, sub no: 44\n",
      "Running LOO, sub no: 45\n",
      "Running LOO, sub no: 46\n",
      "Running LOO, sub no: 47\n",
      "Running LOO, sub no: 48\n",
      "Running LOO, sub no: 49\n"
     ]
    }
   ],
   "source": [
    "behav_pred_pos, behav_pred_neg = run_validate(X, Y, 'LOO')"
   ]
  },
  {
   "cell_type": "code",
   "execution_count": 11,
   "metadata": {},
   "outputs": [],
   "source": [
    "res = {\n",
    "    'sample_size': 50,\n",
    "    'p_threshold': 0.01,\n",
    "#     'pearson_r_pos': pearsonr(behav_pred_pos,Y)[0], \n",
    "#     'pearson_r_neg': pearsonr(behav_pred_neg,Y)[0],\n",
    "#     'spearman_rho_pos': spearmanr(behav_pred_pos,Y)[0], \n",
    "#     'spearman_rho_neg': spearmanr(behav_pred_neg,Y)[0], \n",
    "    'r2_pos': r2_score(Y, behav_pred_pos), \n",
    "    'r2_neg': r2_score(Y, behav_pred_neg), \n",
    "    'mse_pos': mean_squared_error(behav_pred_pos,Y),\n",
    "    'mse_neg': mean_squared_error(behav_pred_neg,Y)\n",
    "}\n",
    "results.append(res)"
   ]
  },
  {
   "cell_type": "code",
   "execution_count": 12,
   "metadata": {},
   "outputs": [
    {
     "data": {
      "text/plain": [
       "{'sample_size': 50,\n",
       " 'p_threshold': 0.01,\n",
       " 'r2_pos': 0.11041633146800878,\n",
       " 'r2_neg': -0.12244461481411317,\n",
       " 'mse_pos': 0.00018465242268902684,\n",
       " 'mse_neg': 0.0002329877725854676}"
      ]
     },
     "execution_count": 12,
     "metadata": {},
     "output_type": "execute_result"
    }
   ],
   "source": [
    "res"
   ]
  },
  {
   "cell_type": "code",
   "execution_count": 13,
   "metadata": {},
   "outputs": [
    {
     "data": {
      "text/plain": [
       "[{'sample_size': 50,\n",
       "  'p_threshold': 0.01,\n",
       "  'r2_pos': 0.11041633146800878,\n",
       "  'r2_neg': -0.12244461481411317,\n",
       "  'mse_pos': 0.00018465242268902684,\n",
       "  'mse_neg': 0.0002329877725854676}]"
      ]
     },
     "execution_count": 13,
     "metadata": {},
     "output_type": "execute_result"
    }
   ],
   "source": [
    "# results = [results[1]]\n",
    "results"
   ]
  },
  {
   "cell_type": "code",
   "execution_count": 14,
   "metadata": {},
   "outputs": [
    {
     "data": {
      "text/html": [
       "<div>\n",
       "<style scoped>\n",
       "    .dataframe tbody tr th:only-of-type {\n",
       "        vertical-align: middle;\n",
       "    }\n",
       "\n",
       "    .dataframe tbody tr th {\n",
       "        vertical-align: top;\n",
       "    }\n",
       "\n",
       "    .dataframe thead th {\n",
       "        text-align: right;\n",
       "    }\n",
       "</style>\n",
       "<table border=\"1\" class=\"dataframe\">\n",
       "  <thead>\n",
       "    <tr style=\"text-align: right;\">\n",
       "      <th></th>\n",
       "      <th>sample_size</th>\n",
       "      <th>p_threshold</th>\n",
       "      <th>r2_pos</th>\n",
       "      <th>r2_neg</th>\n",
       "      <th>mse_pos</th>\n",
       "      <th>mse_neg</th>\n",
       "    </tr>\n",
       "  </thead>\n",
       "  <tbody>\n",
       "    <tr>\n",
       "      <th>0</th>\n",
       "      <td>50</td>\n",
       "      <td>0.01</td>\n",
       "      <td>0.110416</td>\n",
       "      <td>-0.122445</td>\n",
       "      <td>0.000185</td>\n",
       "      <td>0.000233</td>\n",
       "    </tr>\n",
       "  </tbody>\n",
       "</table>\n",
       "</div>"
      ],
      "text/plain": [
       "   sample_size  p_threshold    r2_pos    r2_neg   mse_pos   mse_neg\n",
       "0           50         0.01  0.110416 -0.122445  0.000185  0.000233"
      ]
     },
     "execution_count": 14,
     "metadata": {},
     "output_type": "execute_result"
    }
   ],
   "source": [
    "results_df = pd.DataFrame(results)\n",
    "results_df.head()"
   ]
  },
  {
   "cell_type": "code",
   "execution_count": 15,
   "metadata": {},
   "outputs": [],
   "source": [
    "results_df.to_csv('cpm_ventricular_icv_exp_2.csv')"
   ]
  },
  {
   "cell_type": "code",
   "execution_count": 20,
   "metadata": {},
   "outputs": [
    {
     "data": {
      "image/png": "[encoded data removed]",
      "text/plain": [
       "<Figure size 640x480 with 1 Axes>"
      ]
     },
     "metadata": {},
     "output_type": "display_data"
    }
   ],
   "source": [
    "sns.regplot(x=Y, y=behav_pred_pos, line_kws={'color':'red'})\n",
    "plt.xlabel('Ventricular_ICV Scores (Actual)') \n",
    "plt.ylabel('Ventricular_ICV Scores (Predicted)')  \n",
    "plt.title('Performance of CPM for Ventricular_ICV')   \n",
    "\n",
    "plt.savefig('cpm_ventricular_vol_performance.png')"
   ]
  },
  {
   "cell_type": "code",
   "execution_count": null,
   "metadata": {},
   "outputs": [],
   "source": []
  }
 ],
 "metadata": {
  "kernelspec": {
   "display_name": "Python3.11 (test)",
   "language": "python",
   "name": "python311_test"
  },
  "language_info": {
   "codemirror_mode": {
    "name": "ipython",
    "version": 3
   },
   "file_extension": ".py",
   "mimetype": "text/x-python",
   "name": "python",
   "nbconvert_exporter": "python",
   "pygments_lexer": "ipython3",
   "version": "3.11.5"
  }
 },
 "nbformat": 4,
 "nbformat_minor": 2
}
