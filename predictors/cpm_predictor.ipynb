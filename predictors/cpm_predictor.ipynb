{
 "cells": [
  {
   "cell_type": "markdown",
   "metadata": {},
   "source": [
    "# CPM Predictor for Cognitive Score"
   ]
  },
  {
   "cell_type": "code",
   "execution_count": 17,
   "metadata": {},
   "outputs": [],
   "source": [
    "import pandas as pd\n",
    "import numpy as np\n",
    "from scipy.io import loadmat\n",
    "import matplotlib.pyplot as plt\n",
    "from sklearn.metrics import r2_score, mean_squared_error\n",
    "from scipy.stats import spearmanr, t, ttest_1samp, pearsonr\n",
    "from sklearn.linear_model import LinearRegression\n",
    "from statsmodels.robust.robust_linear_model import RLM\n",
    "\n",
    "import json\n",
    "from joblib import dump"
   ]
  },
  {
   "cell_type": "code",
   "execution_count": 18,
   "metadata": {},
   "outputs": [],
   "source": [
    "def normalise_correlate_fc(fmri):\n",
    "    fc_emp = fmri / np.max(fmri)\n",
    "    fc_emp = np.corrcoef(fc_emp)\n",
    "    return fc_emp"
   ]
  },
  {
   "cell_type": "code",
   "execution_count": 19,
   "metadata": {},
   "outputs": [],
   "source": [
    "def compute_correlation(fmri):\n",
    "    epsilon = 1e-6\n",
    "    \n",
    "    # calculate Pearson correlation between nodes and Fisher z-transform\n",
    "    corr_matrix = np.corrcoef(fmri)\n",
    "    \n",
    "    epsilon = 1e-6  # Small constant to add to the diagonal - to prevent division by zero in the arctanh function\n",
    "    clipped_corr_matrix = np.clip(corr_matrix + epsilon, -1 + epsilon, 1 - epsilon)\n",
    "    fisher_z_matrix = np.arctanh(clipped_corr_matrix)\n",
    "    \n",
    "    return fisher_z_matrix"
   ]
  },
  {
   "cell_type": "code",
   "execution_count": 16,
   "metadata": {},
   "outputs": [
    {
     "data": {
      "text/plain": [
       "(600, 7)"
      ]
     },
     "execution_count": 16,
     "metadata": {},
     "output_type": "execute_result"
    }
   ],
   "source": [
    "ADAS_DATA = '../data/ADAS_ADNIGO23_17Apr2024_FILTERED_wfiles_197.csv'\n",
    "df = pd.read_csv(ADAS_DATA)\n",
    "df.shape"
   ]
  },
  {
   "cell_type": "markdown",
   "metadata": {},
   "source": [
    "## ADAS-Cog Predictor Model"
   ]
  },
  {
   "cell_type": "code",
   "execution_count": 20,
   "metadata": {},
   "outputs": [
    {
     "data": {
      "image/png": "[encoded data removed]",
      "text/plain": [
       "<Figure size 800x600 with 1 Axes>"
      ]
     },
     "metadata": {},
     "output_type": "display_data"
    }
   ],
   "source": [
    "plt.figure(figsize=(8, 6))\n",
    "plt.hist(df['TOTSCORE'], bins=20, color='skyblue', edgecolor='black')\n",
    "plt.title('Distribution of ADAS-Cog Scores in Participants')\n",
    "plt.xlabel('ADAS-Cog Score')\n",
    "plt.ylabel('Frequency')\n",
    "plt.grid(True)\n",
    "plt.axis('on')\n",
    "# plt.savefig('../data/adas_score_dist_20.png')\n",
    "\n",
    "plt.show()"
   ]
  },
  {
   "cell_type": "markdown",
   "metadata": {},
   "source": [
    "### Get the FC matrices"
   ]
  },
  {
   "cell_type": "code",
   "execution_count": 21,
   "metadata": {},
   "outputs": [],
   "source": [
    "# Get features for training and testing - scans that are 197 long\n",
    "\n",
    "# Get the FC data as numpy arrays\n",
    "dim_x = len(df)\n",
    "X = []\n",
    "\n",
    "for i, file in enumerate(df['FC_DATA'].values):\n",
    "    arr = loadmat(file)['ROI_activity'][:100, :] # get the first 100 regions\n",
    "    fc = normalise_correlate_fc(arr)\n",
    "    X.append(fc)"
   ]
  },
  {
   "cell_type": "code",
   "execution_count": 24,
   "metadata": {},
   "outputs": [
    {
     "data": {
      "text/plain": [
       "array([[ 1.        ,  0.17885745,  0.30978176, ..., -0.13870834,\n",
       "         0.10412239, -0.08324907],\n",
       "       [ 0.17885745,  1.        ,  0.50669997, ...,  0.33120821,\n",
       "         0.23918715,  0.48246559],\n",
       "       [ 0.30978176,  0.50669997,  1.        , ...,  0.0765841 ,\n",
       "         0.07021674,  0.29910253],\n",
       "       ...,\n",
       "       [-0.13870834,  0.33120821,  0.0765841 , ...,  1.        ,\n",
       "         0.60535591,  0.70500237],\n",
       "       [ 0.10412239,  0.23918715,  0.07021674, ...,  0.60535591,\n",
       "         1.        ,  0.62405544],\n",
       "       [-0.08324907,  0.48246559,  0.29910253, ...,  0.70500237,\n",
       "         0.62405544,  1.        ]])"
      ]
     },
     "execution_count": 24,
     "metadata": {},
     "output_type": "execute_result"
    }
   ],
   "source": [
    "X = np.array(X)\n",
    "X[0]"
   ]
  },
  {
   "cell_type": "code",
   "execution_count": 25,
   "metadata": {},
   "outputs": [
    {
     "data": {
      "text/plain": [
       "(600,)"
      ]
     },
     "execution_count": 25,
     "metadata": {},
     "output_type": "execute_result"
    }
   ],
   "source": [
    "Y = df['TOTSCORE']\n",
    "Y.shape"
   ]
  },
  {
   "cell_type": "code",
   "execution_count": 26,
   "metadata": {},
   "outputs": [
    {
     "data": {
      "text/plain": [
       "(100, 100, 600)"
      ]
     },
     "execution_count": 26,
     "metadata": {},
     "output_type": "execute_result"
    }
   ],
   "source": [
    "X.shape\n",
    "X_transposed = np.transpose(X, (1, 2, 0))\n",
    "X_transposed.shape"
   ]
  },
  {
   "cell_type": "code",
   "execution_count": 27,
   "metadata": {},
   "outputs": [],
   "source": [
    "# threshold for feature selection\n",
    "threshold = 0.01"
   ]
  },
  {
   "cell_type": "code",
   "execution_count": 28,
   "metadata": {},
   "outputs": [],
   "source": [
    "num_subj = X_transposed.shape[2]\n",
    "num_nodes = X_transposed.shape[0]\n",
    "\n",
    "behav_pred_pos = np.zeros((num_subj, 1))\n",
    "behav_pred_neg = np.zeros((num_subj, 1))\n",
    "behav_pred = np.zeros((num_subj, 1))"
   ]
  },
  {
   "cell_type": "code",
   "execution_count": null,
   "metadata": {},
   "outputs": [
    {
     "name": "stdout",
     "output_type": "stream",
     "text": [
      "Leaving out subject  0\n"
     ]
    }
   ],
   "source": [
    "# Leave-one-subject-out cross validation\n",
    "\n",
    "for leftout in range(0, 1):\n",
    "    print('Leaving out subject ', leftout)\n",
    "    \n",
    "    # leave out subject from matrices and behaviour\n",
    "    train_mats = np.delete(X_transposed, leftout, axis=2)  # Remove the left-out subject's matrix\n",
    "    train_vcts = np.reshape(train_mats, (-1, train_mats.shape[2]))  # Reshape into vectors\n",
    "    \n",
    "    train_behav = np.delete(Y, leftout)  # Remove the left-out subject's behavior\n",
    "    \n",
    "    r_mat, p_mat = spearmanr(train_behav, train_vcts.T)\n",
    "    print(r_mat.shape)\n",
    "    \n",
    "#     r_mat = r_mat[:num_nodes, :num_nodes]\n",
    "#     p_mat = p_mat[:num_nodes, :num_nodes]\n",
    "    \n",
    "#     # setting thresholds and defining masks\n",
    "#     pos_mask = np.zeros((num_nodes, num_nodes))\n",
    "#     neg_mask = np.zeros((num_nodes, num_nodes))\n",
    "\n",
    "#     # Find positive edges based on threshold\n",
    "#     pos_edge = np.where((r_mat > 0) & (p_mat < threshold))\n",
    "\n",
    "#     # Find negative edges based on threshold\n",
    "#     neg_edge = np.where((r_mat < 0) & (p_mat < threshold))\n",
    "\n",
    "#     pos_mask[pos_edge] = 1\n",
    "#     neg_mask[neg_edge] = 1\n",
    "    \n",
    "#     # Form single-subject summary values - get sum of all edges and divide by 2 to account for\n",
    "#     # symmetric matrices\n",
    "#     train_sumpos = np.zeros(num_subj - 1)\n",
    "#     train_sumneg = np.zeros(num_subj - 1)\n",
    "    \n",
    "#     for subj in range(num_subj-1):\n",
    "#         train_sumpos[subj] = np.sum(np.sum(train_mats[:, :, subj] * pos_mask)) / 2\n",
    "#         train_sumneg[subj] = np.sum(np.sum(train_mats[:, :, subj] * neg_mask)) / 2\n",
    "        \n",
    "#     # Build linear regression model on training data\n",
    "#     # combining positive + negative features, without intercept\n",
    "    \n",
    "#     X_train = np.column_stack((train_sumpos, train_sumneg))\n",
    "#     regressor = LinearRegression(fit_intercept=False)  \n",
    "#     regressor.fit(X_train, train_behav)\n",
    "    \n",
    "#     # Predict on new data \n",
    "    \n",
    "#     test_mat = X_transposed[:, :, leftout]\n",
    "#     test_sumpos = np.sum(np.sum(test_mat * pos_mask)) / 2\n",
    "#     test_sumneg = np.sum(np.sum(test_mat * neg_mask)) / 2\n",
    "#     behav_pred[leftout] = regressor.predict([[test_sumpos, test_sumneg]])\n",
    "    "
   ]
  },
  {
   "cell_type": "code",
   "execution_count": 23,
   "metadata": {},
   "outputs": [
    {
     "data": {
      "text/plain": [
       "array([[3.99386334],\n",
       "       [5.71814362],\n",
       "       [3.61249096],\n",
       "       [1.83319304],\n",
       "       [3.47831758],\n",
       "       [1.18110968],\n",
       "       [2.35670277],\n",
       "       [2.60664379],\n",
       "       [3.25347534],\n",
       "       [3.92709034],\n",
       "       [4.55827255],\n",
       "       [3.96887772],\n",
       "       [2.12107983],\n",
       "       [1.59830511],\n",
       "       [2.10437512],\n",
       "       [1.36044212],\n",
       "       [2.79972554],\n",
       "       [3.08595544],\n",
       "       [5.94863448],\n",
       "       [5.6686587 ]])"
      ]
     },
     "execution_count": 23,
     "metadata": {},
     "output_type": "execute_result"
    }
   ],
   "source": [
    "pred = behav_pred[:20]\n",
    "pred"
   ]
  },
  {
   "cell_type": "code",
   "execution_count": 24,
   "metadata": {},
   "outputs": [
    {
     "data": {
      "text/plain": [
       "0      3.0\n",
       "1      7.0\n",
       "2      5.0\n",
       "3      5.0\n",
       "4      6.0\n",
       "5      6.0\n",
       "6     14.0\n",
       "7      6.0\n",
       "8      8.0\n",
       "9      2.0\n",
       "10     5.0\n",
       "11     2.0\n",
       "12     3.0\n",
       "13     7.0\n",
       "14     5.0\n",
       "15    10.0\n",
       "16     9.0\n",
       "17     2.0\n",
       "18     3.0\n",
       "19     9.0\n",
       "Name: TOTSCORE, dtype: float64"
      ]
     },
     "execution_count": 24,
     "metadata": {},
     "output_type": "execute_result"
    }
   ],
   "source": [
    "actual = Y[:20]\n",
    "actual"
   ]
  },
  {
   "cell_type": "code",
   "execution_count": 21,
   "metadata": {},
   "outputs": [
    {
     "name": "stdout",
     "output_type": "stream",
     "text": [
      "mse: 19.7\n"
     ]
    }
   ],
   "source": [
    "# Calculate MSE\n",
    "mse = round(mean_squared_error(actual, pred),2)\n",
    "\n",
    "print(f'mse: {mse}')"
   ]
  },
  {
   "cell_type": "code",
   "execution_count": 22,
   "metadata": {},
   "outputs": [
    {
     "name": "stdout",
     "output_type": "stream",
     "text": [
      "r2: -1.16\n"
     ]
    }
   ],
   "source": [
    "r2_score = round(r2_score(actual, pred),2)\n",
    "\n",
    "print(f'r2: {r2_score}')"
   ]
  },
  {
   "cell_type": "code",
   "execution_count": null,
   "metadata": {},
   "outputs": [],
   "source": []
  }
 ],
 "metadata": {
  "kernelspec": {
   "display_name": "Python [conda env:test]",
   "language": "python",
   "name": "conda-env-test-py"
  },
  "language_info": {
   "codemirror_mode": {
    "name": "ipython",
    "version": 3
   },
   "file_extension": ".py",
   "mimetype": "text/x-python",
   "name": "python",
   "nbconvert_exporter": "python",
   "pygments_lexer": "ipython3",
   "version": "3.11.5"
  }
 },
 "nbformat": 4,
 "nbformat_minor": 2
}
