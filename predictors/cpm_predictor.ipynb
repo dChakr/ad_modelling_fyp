{
 "cells": [
  {
   "cell_type": "markdown",
   "metadata": {},
   "source": [
    "# CPM Predictor for Cognitive Score"
   ]
  },
  {
   "cell_type": "code",
   "execution_count": 86,
   "metadata": {},
   "outputs": [],
   "source": [
    "import pandas as pd\n",
    "import numpy as np\n",
    "from scipy.io import loadmat\n",
    "import matplotlib.pyplot as plt\n",
    "from sklearn.metrics import r2_score, mean_squared_error\n",
    "from scipy.stats import spearmanr, t, ttest_1samp, pearsonr\n",
    "from sklearn.linear_model import LinearRegression\n",
    "from statsmodels.robust.robust_linear_model import RLM\n",
    "\n",
    "import json\n",
    "from joblib import dump"
   ]
  },
  {
   "cell_type": "code",
   "execution_count": 2,
   "metadata": {},
   "outputs": [],
   "source": [
    "def normalise_correlate_fc(fc):\n",
    "    fc_emp = fc / np.max(fc)\n",
    "    fc_emp = np.corrcoef(fc_emp)\n",
    "    return fc_emp"
   ]
  },
  {
   "cell_type": "code",
   "execution_count": 3,
   "metadata": {},
   "outputs": [
    {
     "data": {
      "text/plain": [
       "(1343, 3)"
      ]
     },
     "execution_count": 3,
     "metadata": {},
     "output_type": "execute_result"
    }
   ],
   "source": [
    "ADSP_DATA = '../data/ADSP_PHC_COGN_Dec2023_FILTERED_wfiles.csv'\n",
    "\n",
    "df_mem = pd.read_csv(ADSP_DATA)\n",
    "df_exf = pd.read_csv(ADSP_DATA)\n",
    "df_lan = pd.read_csv(ADSP_DATA)\n",
    "df_vsp = pd.read_csv(ADSP_DATA)\n",
    "\n",
    "df_mem = df_mem.drop(columns=['RID', 'VISCODE2', 'PHC_Diagnosis', 'PHC_EXF', 'PHC_LAN', 'PHC_VSP'])\n",
    "df_exf = df_exf.drop(columns=['RID', 'VISCODE2', 'PHC_Diagnosis', 'PHC_MEM', 'PHC_LAN', 'PHC_VSP'])\n",
    "df_lan = df_lan.drop(columns=['RID', 'VISCODE2', 'PHC_Diagnosis', 'PHC_EXF', 'PHC_MEM', 'PHC_VSP'])\n",
    "df_vsp = df_vsp.drop(columns=['RID', 'VISCODE2', 'PHC_Diagnosis', 'PHC_EXF', 'PHC_LAN', 'PHC_MEM'])\n",
    "df_mem.shape"
   ]
  },
  {
   "cell_type": "markdown",
   "metadata": {},
   "source": [
    "## Memory Model"
   ]
  },
  {
   "cell_type": "code",
   "execution_count": 4,
   "metadata": {},
   "outputs": [
    {
     "data": {
      "text/plain": [
       "(1342, 3)"
      ]
     },
     "execution_count": 4,
     "metadata": {},
     "output_type": "execute_result"
    }
   ],
   "source": [
    "df_mem.dropna(subset=['PHC_MEM'], inplace=True)\n",
    "df_mem.shape"
   ]
  },
  {
   "cell_type": "code",
   "execution_count": 5,
   "metadata": {},
   "outputs": [
    {
     "data": {
      "image/png": "[encoded data removed]",
      "text/plain": [
       "<Figure size 800x600 with 1 Axes>"
      ]
     },
     "metadata": {},
     "output_type": "display_data"
    }
   ],
   "source": [
    "plt.figure(figsize=(8, 6))\n",
    "plt.hist(df_mem['PHC_MEM'], bins=20, color='skyblue', edgecolor='black')\n",
    "plt.title('Distribution of ' + 'PHC_MEM')\n",
    "plt.xlabel('PHC_MEM')\n",
    "plt.ylabel('Frequency')\n",
    "plt.grid(True)\n",
    "plt.show()"
   ]
  },
  {
   "cell_type": "code",
   "execution_count": 6,
   "metadata": {},
   "outputs": [],
   "source": [
    "# Get features for training and testing\n",
    "\n",
    "# Get the FC data as numpy arrays\n",
    "dim_x = len(df_mem)\n",
    "X = []\n",
    "\n",
    "for i, file in enumerate(df_mem['FC_DATA'].values):\n",
    "    arr = loadmat(file)['ROI_activity'][:100, :] # get the first 100 regions\n",
    "    fc = normalise_correlate_fc(arr)\n",
    "    X.append(fc)"
   ]
  },
  {
   "cell_type": "code",
   "execution_count": 7,
   "metadata": {},
   "outputs": [],
   "source": [
    "X = np.array(X)"
   ]
  },
  {
   "cell_type": "code",
   "execution_count": 15,
   "metadata": {},
   "outputs": [
    {
     "data": {
      "text/plain": [
       "(1342,)"
      ]
     },
     "execution_count": 15,
     "metadata": {},
     "output_type": "execute_result"
    }
   ],
   "source": [
    "Y = df_mem['PHC_MEM']\n",
    "Y.shape"
   ]
  },
  {
   "cell_type": "code",
   "execution_count": 8,
   "metadata": {},
   "outputs": [
    {
     "data": {
      "text/plain": [
       "(100, 100, 1342)"
      ]
     },
     "execution_count": 8,
     "metadata": {},
     "output_type": "execute_result"
    }
   ],
   "source": [
    "X.shape\n",
    "X_transposed = np.transpose(X, (1, 2, 0))\n",
    "X_transposed.shape"
   ]
  },
  {
   "cell_type": "code",
   "execution_count": 10,
   "metadata": {},
   "outputs": [],
   "source": [
    "# threshold for feature selection\n",
    "threshold = 0.01"
   ]
  },
  {
   "cell_type": "code",
   "execution_count": 11,
   "metadata": {},
   "outputs": [],
   "source": [
    "num_subj = X_transposed.shape[2]\n",
    "num_nodes = X_transposed.shape[0]\n",
    "\n",
    "behav_pred_pos = np.zeros((num_subj, 1))\n",
    "behav_pred_neg = np.zeros((num_subj, 1))\n",
    "behav_pred = np.zeros((num_subj, 1))"
   ]
  },
  {
   "cell_type": "code",
   "execution_count": 94,
   "metadata": {},
   "outputs": [
    {
     "name": "stdout",
     "output_type": "stream",
     "text": [
      "Leaving out subject  0\n",
      "Leaving out subject  1\n",
      "Leaving out subject  2\n",
      "Leaving out subject  3\n",
      "Leaving out subject  4\n",
      "Leaving out subject  5\n",
      "Leaving out subject  6\n",
      "Leaving out subject  7\n",
      "Leaving out subject  8\n",
      "Leaving out subject  9\n",
      "Leaving out subject  10\n",
      "Leaving out subject  11\n",
      "Leaving out subject  12\n",
      "Leaving out subject  13\n",
      "Leaving out subject  14\n",
      "Leaving out subject  15\n",
      "Leaving out subject  16\n",
      "Leaving out subject  17\n",
      "Leaving out subject  18\n",
      "Leaving out subject  19\n",
      "Leaving out subject  20\n",
      "Leaving out subject  21\n",
      "Leaving out subject  22\n",
      "Leaving out subject  23\n",
      "Leaving out subject  24\n",
      "Leaving out subject  25\n",
      "Leaving out subject  26\n",
      "Leaving out subject  27\n",
      "Leaving out subject  28\n",
      "Leaving out subject  29\n",
      "Leaving out subject  30\n",
      "Leaving out subject  31\n",
      "Leaving out subject  32\n",
      "Leaving out subject  33\n",
      "Leaving out subject  34\n",
      "Leaving out subject  35\n",
      "Leaving out subject  36\n",
      "Leaving out subject  37\n",
      "Leaving out subject  38\n",
      "Leaving out subject  39\n",
      "Leaving out subject  40\n",
      "Leaving out subject  41\n",
      "Leaving out subject  42\n",
      "Leaving out subject  43\n",
      "Leaving out subject  44\n",
      "Leaving out subject  45\n",
      "Leaving out subject  46\n",
      "Leaving out subject  47\n",
      "Leaving out subject  48\n",
      "Leaving out subject  49\n",
      "Leaving out subject  50\n",
      "Leaving out subject  51\n",
      "Leaving out subject  52\n",
      "Leaving out subject  53\n",
      "Leaving out subject  54\n",
      "Leaving out subject  55\n",
      "Leaving out subject  56\n",
      "Leaving out subject  57\n",
      "Leaving out subject  58\n",
      "Leaving out subject  59\n",
      "Leaving out subject  60\n",
      "Leaving out subject  61\n",
      "Leaving out subject  62\n",
      "Leaving out subject  63\n",
      "Leaving out subject  64\n",
      "Leaving out subject  65\n",
      "Leaving out subject  66\n",
      "Leaving out subject  67\n",
      "Leaving out subject  68\n",
      "Leaving out subject  69\n",
      "Leaving out subject  70\n",
      "Leaving out subject  71\n",
      "Leaving out subject  72\n",
      "Leaving out subject  73\n",
      "Leaving out subject  74\n",
      "Leaving out subject  75\n",
      "Leaving out subject  76\n",
      "Leaving out subject  77\n",
      "Leaving out subject  78\n",
      "Leaving out subject  79\n",
      "Leaving out subject  80\n",
      "Leaving out subject  81\n",
      "Leaving out subject  82\n",
      "Leaving out subject  83\n",
      "Leaving out subject  84\n",
      "Leaving out subject  85\n",
      "Leaving out subject  86\n",
      "Leaving out subject  87\n",
      "Leaving out subject  88\n",
      "Leaving out subject  89\n",
      "Leaving out subject  90\n",
      "Leaving out subject  91\n",
      "Leaving out subject  92\n",
      "Leaving out subject  93\n",
      "Leaving out subject  94\n",
      "Leaving out subject  95\n",
      "Leaving out subject  96\n",
      "Leaving out subject  97\n",
      "Leaving out subject  98\n",
      "Leaving out subject  99\n",
      "Leaving out subject  100\n",
      "Leaving out subject  101\n",
      "Leaving out subject  102\n",
      "Leaving out subject  103\n",
      "Leaving out subject  104\n",
      "Leaving out subject  105\n",
      "Leaving out subject  106\n",
      "Leaving out subject  107\n",
      "Leaving out subject  108\n",
      "Leaving out subject  109\n",
      "Leaving out subject  110\n",
      "Leaving out subject  111\n",
      "Leaving out subject  112\n",
      "Leaving out subject  113\n",
      "Leaving out subject  114\n",
      "Leaving out subject  115\n",
      "Leaving out subject  116\n",
      "Leaving out subject  117\n",
      "Leaving out subject  118\n",
      "Leaving out subject  119\n",
      "Leaving out subject  120\n",
      "Leaving out subject  121\n",
      "Leaving out subject  122\n",
      "Leaving out subject  123\n",
      "Leaving out subject  124\n",
      "Leaving out subject  125\n",
      "Leaving out subject  126\n",
      "Leaving out subject  127\n",
      "Leaving out subject  128\n",
      "Leaving out subject  129\n",
      "Leaving out subject  130\n",
      "Leaving out subject  131\n",
      "Leaving out subject  132\n",
      "Leaving out subject  133\n",
      "Leaving out subject  134\n",
      "Leaving out subject  135\n",
      "Leaving out subject  136\n",
      "Leaving out subject  137\n",
      "Leaving out subject  138\n",
      "Leaving out subject  139\n",
      "Leaving out subject  140\n",
      "Leaving out subject  141\n",
      "Leaving out subject  142\n",
      "Leaving out subject  143\n",
      "Leaving out subject  144\n",
      "Leaving out subject  145\n",
      "Leaving out subject  146\n",
      "Leaving out subject  147\n",
      "Leaving out subject  148\n",
      "Leaving out subject  149\n",
      "Leaving out subject  150\n",
      "Leaving out subject  151\n",
      "Leaving out subject  152\n",
      "Leaving out subject  153\n",
      "Leaving out subject  154\n",
      "Leaving out subject  155\n",
      "Leaving out subject  156\n",
      "Leaving out subject  157\n",
      "Leaving out subject  158\n",
      "Leaving out subject  159\n",
      "Leaving out subject  160\n",
      "Leaving out subject  161\n",
      "Leaving out subject  162\n",
      "Leaving out subject  163\n",
      "Leaving out subject  164\n",
      "Leaving out subject  165\n",
      "Leaving out subject  166\n",
      "Leaving out subject  167\n",
      "Leaving out subject  168\n",
      "Leaving out subject  169\n",
      "Leaving out subject  170\n",
      "Leaving out subject  171\n",
      "Leaving out subject  172\n",
      "Leaving out subject  173\n",
      "Leaving out subject  174\n",
      "Leaving out subject  175\n",
      "Leaving out subject  176\n",
      "Leaving out subject  177\n",
      "Leaving out subject  178\n",
      "Leaving out subject  179\n",
      "Leaving out subject  180\n",
      "Leaving out subject  181\n",
      "Leaving out subject  182\n",
      "Leaving out subject  183\n",
      "Leaving out subject  184\n",
      "Leaving out subject  185\n",
      "Leaving out subject  186\n",
      "Leaving out subject  187\n",
      "Leaving out subject  188\n",
      "Leaving out subject  189\n",
      "Leaving out subject  190\n",
      "Leaving out subject  191\n",
      "Leaving out subject  192\n",
      "Leaving out subject  193\n",
      "Leaving out subject  194\n",
      "Leaving out subject  195\n",
      "Leaving out subject  196\n",
      "Leaving out subject  197\n",
      "Leaving out subject  198\n",
      "Leaving out subject  199\n",
      "Leaving out subject  200\n",
      "Leaving out subject  201\n",
      "Leaving out subject  202\n",
      "Leaving out subject  203\n",
      "Leaving out subject  204\n",
      "Leaving out subject  205\n",
      "Leaving out subject  206\n",
      "Leaving out subject  207\n",
      "Leaving out subject  208\n",
      "Leaving out subject  209\n",
      "Leaving out subject  210\n",
      "Leaving out subject  211\n",
      "Leaving out subject  212\n",
      "Leaving out subject  213\n",
      "Leaving out subject  214\n",
      "Leaving out subject  215\n",
      "Leaving out subject  216\n",
      "Leaving out subject  217\n",
      "Leaving out subject  218\n",
      "Leaving out subject  219\n",
      "Leaving out subject  220\n",
      "Leaving out subject  221\n",
      "Leaving out subject  222\n",
      "Leaving out subject  223\n",
      "Leaving out subject  224\n",
      "Leaving out subject  225\n",
      "Leaving out subject  226\n",
      "Leaving out subject  227\n",
      "Leaving out subject  228\n",
      "Leaving out subject  229\n",
      "Leaving out subject  230\n",
      "Leaving out subject  231\n",
      "Leaving out subject  232\n",
      "Leaving out subject  233\n",
      "Leaving out subject  234\n",
      "Leaving out subject  235\n",
      "Leaving out subject  236\n",
      "Leaving out subject  237\n",
      "Leaving out subject  238\n",
      "Leaving out subject  239\n",
      "Leaving out subject  240\n",
      "Leaving out subject  241\n",
      "Leaving out subject  242\n",
      "Leaving out subject  243\n",
      "Leaving out subject  244\n",
      "Leaving out subject  245\n",
      "Leaving out subject  246\n",
      "Leaving out subject  247\n",
      "Leaving out subject  248\n",
      "Leaving out subject  249\n"
     ]
    },
    {
     "ename": "KeyboardInterrupt",
     "evalue": "",
     "output_type": "error",
     "traceback": [
      "\u001b[0;31m---------------------------------------------------------------------------\u001b[0m",
      "\u001b[0;31mKeyboardInterrupt\u001b[0m                         Traceback (most recent call last)",
      "\u001b[0;32m/var/tmp/pbs.9237024.pbs/ipykernel_4016855/262148928.py\u001b[0m in \u001b[0;36m?\u001b[0;34m()\u001b[0m\n\u001b[1;32m      8\u001b[0m     \u001b[0mtrain_vcts\u001b[0m \u001b[0;34m=\u001b[0m \u001b[0mnp\u001b[0m\u001b[0;34m.\u001b[0m\u001b[0mreshape\u001b[0m\u001b[0;34m(\u001b[0m\u001b[0mtrain_mats\u001b[0m\u001b[0;34m,\u001b[0m \u001b[0;34m(\u001b[0m\u001b[0;34m-\u001b[0m\u001b[0;36m1\u001b[0m\u001b[0;34m,\u001b[0m \u001b[0mtrain_mats\u001b[0m\u001b[0;34m.\u001b[0m\u001b[0mshape\u001b[0m\u001b[0;34m[\u001b[0m\u001b[0;36m2\u001b[0m\u001b[0;34m]\u001b[0m\u001b[0;34m)\u001b[0m\u001b[0;34m)\u001b[0m  \u001b[0;31m# Reshape into vectors\u001b[0m\u001b[0;34m\u001b[0m\u001b[0;34m\u001b[0m\u001b[0m\n\u001b[1;32m      9\u001b[0m \u001b[0;34m\u001b[0m\u001b[0m\n\u001b[1;32m     10\u001b[0m     \u001b[0mtrain_behav\u001b[0m \u001b[0;34m=\u001b[0m \u001b[0mnp\u001b[0m\u001b[0;34m.\u001b[0m\u001b[0mdelete\u001b[0m\u001b[0;34m(\u001b[0m\u001b[0mY\u001b[0m\u001b[0;34m,\u001b[0m \u001b[0mleftout\u001b[0m\u001b[0;34m)\u001b[0m  \u001b[0;31m# Remove the left-out subject's behavior\u001b[0m\u001b[0;34m\u001b[0m\u001b[0;34m\u001b[0m\u001b[0m\n\u001b[1;32m     11\u001b[0m \u001b[0;34m\u001b[0m\u001b[0m\n\u001b[0;32m---> 12\u001b[0;31m     \u001b[0mr_mat\u001b[0m\u001b[0;34m,\u001b[0m \u001b[0mp_mat\u001b[0m \u001b[0;34m=\u001b[0m \u001b[0mspearmanr\u001b[0m\u001b[0;34m(\u001b[0m\u001b[0mtrain_vcts\u001b[0m\u001b[0;34m.\u001b[0m\u001b[0mT\u001b[0m\u001b[0;34m,\u001b[0m \u001b[0mtrain_behav\u001b[0m\u001b[0;34m)\u001b[0m\u001b[0;34m\u001b[0m\u001b[0;34m\u001b[0m\u001b[0m\n\u001b[0m\u001b[1;32m     13\u001b[0m \u001b[0;34m\u001b[0m\u001b[0m\n\u001b[1;32m     14\u001b[0m     \u001b[0mr_mat\u001b[0m \u001b[0;34m=\u001b[0m \u001b[0mr_mat\u001b[0m\u001b[0;34m[\u001b[0m\u001b[0;34m:\u001b[0m\u001b[0mnum_nodes\u001b[0m\u001b[0;34m,\u001b[0m \u001b[0;34m:\u001b[0m\u001b[0mnum_nodes\u001b[0m\u001b[0;34m]\u001b[0m\u001b[0;34m\u001b[0m\u001b[0;34m\u001b[0m\u001b[0m\n\u001b[1;32m     15\u001b[0m     \u001b[0mp_mat\u001b[0m \u001b[0;34m=\u001b[0m \u001b[0mp_mat\u001b[0m\u001b[0;34m[\u001b[0m\u001b[0;34m:\u001b[0m\u001b[0mnum_nodes\u001b[0m\u001b[0;34m,\u001b[0m \u001b[0;34m:\u001b[0m\u001b[0mnum_nodes\u001b[0m\u001b[0;34m]\u001b[0m\u001b[0;34m\u001b[0m\u001b[0;34m\u001b[0m\u001b[0m\n",
      "\u001b[0;32m~/anaconda3/envs/test/lib/python3.11/site-packages/scipy/stats/_stats_py.py\u001b[0m in \u001b[0;36m?\u001b[0;34m(a, b, axis, nan_policy, alternative)\u001b[0m\n\u001b[1;32m   5439\u001b[0m         \u001b[0;31m# clip the small negative values possibly caused by rounding\u001b[0m\u001b[0;34m\u001b[0m\u001b[0;34m\u001b[0m\u001b[0m\n\u001b[1;32m   5440\u001b[0m         \u001b[0;31m# errors before taking the square root\u001b[0m\u001b[0;34m\u001b[0m\u001b[0;34m\u001b[0m\u001b[0m\n\u001b[1;32m   5441\u001b[0m         \u001b[0mt\u001b[0m \u001b[0;34m=\u001b[0m \u001b[0mrs\u001b[0m \u001b[0;34m*\u001b[0m \u001b[0mnp\u001b[0m\u001b[0;34m.\u001b[0m\u001b[0msqrt\u001b[0m\u001b[0;34m(\u001b[0m\u001b[0;34m(\u001b[0m\u001b[0mdof\u001b[0m\u001b[0;34m/\u001b[0m\u001b[0;34m(\u001b[0m\u001b[0;34m(\u001b[0m\u001b[0mrs\u001b[0m\u001b[0;34m+\u001b[0m\u001b[0;36m1.0\u001b[0m\u001b[0;34m)\u001b[0m\u001b[0;34m*\u001b[0m\u001b[0;34m(\u001b[0m\u001b[0;36m1.0\u001b[0m\u001b[0;34m-\u001b[0m\u001b[0mrs\u001b[0m\u001b[0;34m)\u001b[0m\u001b[0;34m)\u001b[0m\u001b[0;34m)\u001b[0m\u001b[0;34m.\u001b[0m\u001b[0mclip\u001b[0m\u001b[0;34m(\u001b[0m\u001b[0;36m0\u001b[0m\u001b[0;34m)\u001b[0m\u001b[0;34m)\u001b[0m\u001b[0;34m\u001b[0m\u001b[0;34m\u001b[0m\u001b[0m\n\u001b[1;32m   5442\u001b[0m \u001b[0;34m\u001b[0m\u001b[0m\n\u001b[0;32m-> 5443\u001b[0;31m     \u001b[0mt\u001b[0m\u001b[0;34m,\u001b[0m \u001b[0mprob\u001b[0m \u001b[0;34m=\u001b[0m \u001b[0m_ttest_finish\u001b[0m\u001b[0;34m(\u001b[0m\u001b[0mdof\u001b[0m\u001b[0;34m,\u001b[0m \u001b[0mt\u001b[0m\u001b[0;34m,\u001b[0m \u001b[0malternative\u001b[0m\u001b[0;34m)\u001b[0m\u001b[0;34m\u001b[0m\u001b[0;34m\u001b[0m\u001b[0m\n\u001b[0m\u001b[1;32m   5444\u001b[0m \u001b[0;34m\u001b[0m\u001b[0m\n\u001b[1;32m   5445\u001b[0m     \u001b[0;31m# For backwards compatibility, return scalars when comparing 2 columns\u001b[0m\u001b[0;34m\u001b[0m\u001b[0;34m\u001b[0m\u001b[0m\n\u001b[1;32m   5446\u001b[0m     \u001b[0;32mif\u001b[0m \u001b[0mrs\u001b[0m\u001b[0;34m.\u001b[0m\u001b[0mshape\u001b[0m \u001b[0;34m==\u001b[0m \u001b[0;34m(\u001b[0m\u001b[0;36m2\u001b[0m\u001b[0;34m,\u001b[0m \u001b[0;36m2\u001b[0m\u001b[0;34m)\u001b[0m\u001b[0;34m:\u001b[0m\u001b[0;34m\u001b[0m\u001b[0;34m\u001b[0m\u001b[0m\n",
      "\u001b[0;32m~/anaconda3/envs/test/lib/python3.11/site-packages/scipy/stats/_stats_py.py\u001b[0m in \u001b[0;36m?\u001b[0;34m(df, t, alternative)\u001b[0m\n\u001b[1;32m   6938\u001b[0m         \u001b[0mpval\u001b[0m \u001b[0;34m=\u001b[0m \u001b[0mspecial\u001b[0m\u001b[0;34m.\u001b[0m\u001b[0mstdtr\u001b[0m\u001b[0;34m(\u001b[0m\u001b[0mdf\u001b[0m\u001b[0;34m,\u001b[0m \u001b[0mt\u001b[0m\u001b[0;34m)\u001b[0m\u001b[0;34m\u001b[0m\u001b[0;34m\u001b[0m\u001b[0m\n\u001b[1;32m   6939\u001b[0m     \u001b[0;32melif\u001b[0m \u001b[0malternative\u001b[0m \u001b[0;34m==\u001b[0m \u001b[0;34m'greater'\u001b[0m\u001b[0;34m:\u001b[0m\u001b[0;34m\u001b[0m\u001b[0;34m\u001b[0m\u001b[0m\n\u001b[1;32m   6940\u001b[0m         \u001b[0mpval\u001b[0m \u001b[0;34m=\u001b[0m \u001b[0mspecial\u001b[0m\u001b[0;34m.\u001b[0m\u001b[0mstdtr\u001b[0m\u001b[0;34m(\u001b[0m\u001b[0mdf\u001b[0m\u001b[0;34m,\u001b[0m \u001b[0;34m-\u001b[0m\u001b[0mt\u001b[0m\u001b[0;34m)\u001b[0m\u001b[0;34m\u001b[0m\u001b[0;34m\u001b[0m\u001b[0m\n\u001b[1;32m   6941\u001b[0m     \u001b[0;32melif\u001b[0m \u001b[0malternative\u001b[0m \u001b[0;34m==\u001b[0m \u001b[0;34m'two-sided'\u001b[0m\u001b[0;34m:\u001b[0m\u001b[0;34m\u001b[0m\u001b[0;34m\u001b[0m\u001b[0m\n\u001b[0;32m-> 6942\u001b[0;31m         \u001b[0mpval\u001b[0m \u001b[0;34m=\u001b[0m \u001b[0mspecial\u001b[0m\u001b[0;34m.\u001b[0m\u001b[0mstdtr\u001b[0m\u001b[0;34m(\u001b[0m\u001b[0mdf\u001b[0m\u001b[0;34m,\u001b[0m \u001b[0;34m-\u001b[0m\u001b[0mnp\u001b[0m\u001b[0;34m.\u001b[0m\u001b[0mabs\u001b[0m\u001b[0;34m(\u001b[0m\u001b[0mt\u001b[0m\u001b[0;34m)\u001b[0m\u001b[0;34m)\u001b[0m\u001b[0;34m*\u001b[0m\u001b[0;36m2\u001b[0m\u001b[0;34m\u001b[0m\u001b[0;34m\u001b[0m\u001b[0m\n\u001b[0m\u001b[1;32m   6943\u001b[0m     \u001b[0;32melse\u001b[0m\u001b[0;34m:\u001b[0m\u001b[0;34m\u001b[0m\u001b[0;34m\u001b[0m\u001b[0m\n\u001b[1;32m   6944\u001b[0m         raise ValueError(\"alternative must be \"\n\u001b[1;32m   6945\u001b[0m                          \"'less', 'greater' or 'two-sided'\")\n",
      "\u001b[0;31mKeyboardInterrupt\u001b[0m: "
     ]
    }
   ],
   "source": [
    "# Leave-one-subject-out cross validation\n",
    "\n",
    "for leftout in range(0, num_subj):\n",
    "    print('Leaving out subject ', leftout)\n",
    "    \n",
    "    # leave out subject from matrices and behaviour\n",
    "    train_mats = np.delete(X_transposed, leftout, axis=2)  # Remove the left-out subject's matrix\n",
    "    train_vcts = np.reshape(train_mats, (-1, train_mats.shape[2]))  # Reshape into vectors\n",
    "    \n",
    "    train_behav = np.delete(Y, leftout)  # Remove the left-out subject's behavior\n",
    "\n",
    "    r_mat, p_mat = spearmanr(train_vcts.T, train_behav)\n",
    "    \n",
    "    r_mat = r_mat[:num_nodes, :num_nodes]\n",
    "    p_mat = p_mat[:num_nodes, :num_nodes]\n",
    "    \n",
    "    # setting thresholds and defining masks\n",
    "    pos_mask = np.zeros((num_nodes, num_nodes))\n",
    "    neg_mask = np.zeros((num_nodes, num_nodes))\n",
    "\n",
    "    # Find positive edges based on threshold\n",
    "    pos_edge = np.where((r_mat > 0) & (p_mat < threshold))\n",
    "\n",
    "    # Find negative edges based on threshold\n",
    "    neg_edge = np.where((r_mat < 0) & (p_mat < threshold))\n",
    "\n",
    "    pos_mask[pos_edge] = 1\n",
    "    neg_mask[neg_edge] = 1\n",
    "    \n",
    "    # Form single-subject summary values - get sum of all edges and divide by 2 to account for\n",
    "    # symmetric matrices\n",
    "    train_sumpos = np.zeros(num_subj - 1)\n",
    "    train_sumneg = np.zeros(num_subj - 1)\n",
    "    \n",
    "    for subj in range(num_subj-1):\n",
    "        train_sumpos[subj] = np.sum(np.sum(train_mats[:, :, subj] * pos_mask)) / 2\n",
    "        train_sumneg[subj] = np.sum(np.sum(train_mats[:, :, subj] * neg_mask)) / 2\n",
    "        \n",
    "    # Build linear regression model on training data\n",
    "    # combining positive + negative features, without intercept\n",
    "    \n",
    "    X_train = np.column_stack((train_sumpos, train_sumneg))\n",
    "    regressor = LinearRegression(fit_intercept=False)  \n",
    "    regressor.fit(X_train, train_behav)\n",
    "    \n",
    "    # Predict on new data \n",
    "    \n",
    "    test_mat = X_transposed[:, :, leftout]\n",
    "    test_sumpos = np.sum(np.sum(test_mat * pos_mask)) / 2\n",
    "    test_sumneg = np.sum(np.sum(test_mat * neg_mask)) / 2\n",
    "    behav_pred[leftout] = regressor.predict([[test_sumpos, test_sumneg]])\n",
    "    "
   ]
  },
  {
   "cell_type": "code",
   "execution_count": 89,
   "metadata": {},
   "outputs": [
    {
     "data": {
      "text/plain": [
       "(100, 1)"
      ]
     },
     "execution_count": 89,
     "metadata": {},
     "output_type": "execute_result"
    }
   ],
   "source": [
    "pred = behav_pred[:100]\n",
    "pred.shape"
   ]
  },
  {
   "cell_type": "code",
   "execution_count": 90,
   "metadata": {},
   "outputs": [
    {
     "data": {
      "text/plain": [
       "(100,)"
      ]
     },
     "execution_count": 90,
     "metadata": {},
     "output_type": "execute_result"
    }
   ],
   "source": [
    "actual = Y[:100]\n",
    "actual.shape"
   ]
  },
  {
   "cell_type": "code",
   "execution_count": 91,
   "metadata": {},
   "outputs": [
    {
     "name": "stdout",
     "output_type": "stream",
     "text": [
      "mse: 0.79\n"
     ]
    }
   ],
   "source": [
    "# Calculate MSE\n",
    "mse = round(mean_squared_error(actual, pred),2)\n",
    "\n",
    "print(f'mse: {mse}')"
   ]
  },
  {
   "cell_type": "code",
   "execution_count": 92,
   "metadata": {},
   "outputs": [
    {
     "name": "stdout",
     "output_type": "stream",
     "text": [
      "r2: -0.26\n"
     ]
    }
   ],
   "source": [
    "r2_score = round(r2_score(actual, pred),2)\n",
    "\n",
    "print(f'r2: {r2_score}')"
   ]
  },
  {
   "cell_type": "code",
   "execution_count": null,
   "metadata": {},
   "outputs": [],
   "source": []
  }
 ],
 "metadata": {
  "kernelspec": {
   "display_name": "Python3.11 (test)",
   "language": "python",
   "name": "python311_test"
  },
  "language_info": {
   "codemirror_mode": {
    "name": "ipython",
    "version": 3
   },
   "file_extension": ".py",
   "mimetype": "text/x-python",
   "name": "python",
   "nbconvert_exporter": "python",
   "pygments_lexer": "ipython3",
   "version": "3.11.5"
  }
 },
 "nbformat": 4,
 "nbformat_minor": 2
}
