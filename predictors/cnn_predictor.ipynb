{
 "cells": [
  {
   "cell_type": "markdown",
   "metadata": {},
   "source": [
    "# CNN Predictor for Cognitive Score"
   ]
  },
  {
   "cell_type": "code",
   "execution_count": 1,
   "metadata": {},
   "outputs": [
    {
     "name": "stderr",
     "output_type": "stream",
     "text": [
      "2024-04-16 12:38:15.241091: I tensorflow/core/platform/cpu_feature_guard.cc:182] This TensorFlow binary is optimized to use available CPU instructions in performance-critical operations.\n",
      "To enable the following instructions: SSE4.1 SSE4.2 AVX AVX2 AVX512F FMA, in other operations, rebuild TensorFlow with the appropriate compiler flags.\n"
     ]
    }
   ],
   "source": [
    "import pandas as pd\n",
    "import numpy as np\n",
    "from scipy.io import loadmat\n",
    "\n",
    "# scikit-learn modules\n",
    "from sklearn.model_selection import train_test_split\n",
    "\n",
    "from sklearn.metrics import r2_score\n",
    "from sklearn.model_selection import GridSearchCV, RandomizedSearchCV\n",
    "import tensorflow as tf\n",
    "from tensorflow.keras import layers, models\n",
    "\n",
    "import json\n",
    "from joblib import dump"
   ]
  },
  {
   "cell_type": "code",
   "execution_count": 2,
   "metadata": {},
   "outputs": [],
   "source": [
    "def normalise_correlate_fc(fc):\n",
    "    fc_emp = fc / np.max(fc)\n",
    "    fc_emp = np.corrcoef(fc_emp)\n",
    "    return fc_emp"
   ]
  },
  {
   "cell_type": "code",
   "execution_count": 3,
   "metadata": {},
   "outputs": [],
   "source": [
    "# evaluate \n",
    "def eval(model, x_test_scaled, y_test):\n",
    "    y_pred = model.predict(x_test_scaled)\n",
    "    r2_score = round(r2_score(y_test, y_pred),2)\n",
    "\n",
    "    print(f'r2: {r2_score}')"
   ]
  },
  {
   "cell_type": "code",
   "execution_count": 4,
   "metadata": {},
   "outputs": [
    {
     "data": {
      "text/plain": [
       "(1343, 3)"
      ]
     },
     "execution_count": 4,
     "metadata": {},
     "output_type": "execute_result"
    }
   ],
   "source": [
    "ADSP_DATA = '../data/ADSP_PHC_COGN_Dec2023_FILTERED_wfiles.csv'\n",
    "\n",
    "df_mem = pd.read_csv(ADSP_DATA)\n",
    "df_exf = pd.read_csv(ADSP_DATA)\n",
    "df_lan = pd.read_csv(ADSP_DATA)\n",
    "df_vsp = pd.read_csv(ADSP_DATA)\n",
    "\n",
    "df_mem = df_mem.drop(columns=['RID', 'VISCODE2', 'PHC_Diagnosis', 'PHC_EXF', 'PHC_LAN', 'PHC_VSP'])\n",
    "df_exf = df_exf.drop(columns=['RID', 'VISCODE2', 'PHC_Diagnosis', 'PHC_MEM', 'PHC_LAN', 'PHC_VSP'])\n",
    "df_lan = df_lan.drop(columns=['RID', 'VISCODE2', 'PHC_Diagnosis', 'PHC_EXF', 'PHC_MEM', 'PHC_VSP'])\n",
    "df_vsp = df_vsp.drop(columns=['RID', 'VISCODE2', 'PHC_Diagnosis', 'PHC_EXF', 'PHC_LAN', 'PHC_MEM'])\n",
    "df_mem.shape"
   ]
  },
  {
   "cell_type": "markdown",
   "metadata": {},
   "source": [
    "Try CNN for Memory"
   ]
  },
  {
   "cell_type": "code",
   "execution_count": 5,
   "metadata": {},
   "outputs": [
    {
     "data": {
      "text/plain": [
       "(1342, 3)"
      ]
     },
     "execution_count": 5,
     "metadata": {},
     "output_type": "execute_result"
    }
   ],
   "source": [
    "df_mem.dropna(subset=['PHC_MEM'], inplace=True)\n",
    "df_mem.shape"
   ]
  },
  {
   "cell_type": "code",
   "execution_count": 7,
   "metadata": {},
   "outputs": [],
   "source": [
    "train, test = train_test_split(df_mem, test_size=0.2, random_state=42)\n",
    "\n",
    "# Get targets for training + testing each predictor\n",
    "y_train, y_test = train['PHC_MEM'], test['PHC_MEM']"
   ]
  },
  {
   "cell_type": "code",
   "execution_count": 9,
   "metadata": {},
   "outputs": [],
   "source": [
    "# Get features for training and testing\n",
    "\n",
    "# Get the FC data as numpy arrays\n",
    "dim_x = len(train)\n",
    "x_train = []\n",
    "x_test = []\n",
    "\n",
    "for i, file in enumerate(train['FC_DATA'].values):\n",
    "    arr = loadmat(f'../{file}')['ROI_activity'][:100, :] # get the first 100 regions\n",
    "    fc = normalise_correlate_fc(arr)\n",
    "    x_train.append(fc)\n",
    "\n",
    "for i, file in enumerate(test['FC_DATA'].values):\n",
    "    arr = loadmat(f'../{file}')['ROI_activity'][:100, :] # get the first 100 regions\n",
    "    fc = normalise_correlate_fc(arr)\n",
    "    x_test.append(fc)"
   ]
  },
  {
   "cell_type": "code",
   "execution_count": 10,
   "metadata": {},
   "outputs": [],
   "source": [
    "x_train = np.array(x_train)\n",
    "x_test = np.array(x_test)"
   ]
  },
  {
   "cell_type": "code",
   "execution_count": 11,
   "metadata": {},
   "outputs": [
    {
     "data": {
      "text/plain": [
       "(1073, 100, 100)"
      ]
     },
     "execution_count": 11,
     "metadata": {},
     "output_type": "execute_result"
    }
   ],
   "source": [
    "x_train.shape"
   ]
  },
  {
   "cell_type": "markdown",
   "metadata": {},
   "source": [
    "## Simple CNN Model"
   ]
  },
  {
   "cell_type": "code",
   "execution_count": 12,
   "metadata": {},
   "outputs": [],
   "source": [
    "from keras import backend as K"
   ]
  },
  {
   "cell_type": "code",
   "execution_count": 13,
   "metadata": {},
   "outputs": [],
   "source": [
    "def r2_keras(y_true, y_pred):\n",
    "    SS_res =  K.sum(K.square( y_true - y_pred )) \n",
    "    SS_tot = K.sum(K.square( y_true - K.mean(y_true) ) ) \n",
    "    return ( 1 - SS_res/(SS_tot + K.epsilon()) )"
   ]
  },
  {
   "cell_type": "code",
   "execution_count": 14,
   "metadata": {},
   "outputs": [
    {
     "name": "stderr",
     "output_type": "stream",
     "text": [
      "2024-04-16 12:41:52.936161: I tensorflow/core/common_runtime/process_util.cc:146] Creating new thread pool with default inter op setting: 8. Tune using inter_op_parallelism_threads for best performance.\n"
     ]
    }
   ],
   "source": [
    "# Simple CNN architecture (32x64x64)\n",
    "\n",
    "input_shape = (100,100,1)\n",
    "\n",
    "model = models.Sequential([\n",
    "    layers.Conv2D(32, (3, 3), activation='relu', input_shape=input_shape),\n",
    "    layers.MaxPooling2D((2, 2)),\n",
    "    layers.Conv2D(64, (3, 3), activation='relu'),\n",
    "    layers.MaxPooling2D((2, 2)),\n",
    "    layers.Conv2D(32, (3, 3), activation='relu'),\n",
    "    layers.Flatten(),\n",
    "    layers.Dense(32, activation='relu'),\n",
    "    layers.Dense(1)  # Output layer for regression\n",
    "])\n",
    "\n",
    "# model = models.Sequential([\n",
    "#     layers.Conv2D(8, (3, 3), activation='relu', input_shape=input_shape),\n",
    "#     layers.BatchNormalization(), \n",
    "#     layers.MaxPooling2D((2, 2)),\n",
    "#     layers.Conv2D(16, (3, 3), activation='relu'),\n",
    "#     layers.BatchNormalization(), \n",
    "#     layers.MaxPooling2D((2, 2)),\n",
    "#     layers.Conv2D(32, (3, 3), activation='relu'),\n",
    "#     layers.BatchNormalization(), \n",
    "#     layers.Flatten(),\n",
    "#     layers.Dense(32, activation='relu'),\n",
    "#     layers.Dense(1) \n",
    "# ])\n",
    "\n",
    "# model = models.Sequential()\n",
    "# model.add(layers.Conv2D(16, (3, 3), activation='relu', input_shape = input_shape))\n",
    "# model.add(layers.MaxPooling2D(pool_size=(2, 2)))\n",
    "# model.add(layers.Flatten())\n",
    "\n",
    "# model.add(layers.Dense(64, activation='relu'))\n",
    "# model.add(layers.Dropout(0.5))\n",
    "# model.add(layers.Dense(32, activation='relu'))\n",
    "# model.add(layers.BatchNormalization())\n",
    "# model.add(layers.Dense(32, activation='relu'))\n",
    "\n",
    "# model.add(layers.Dense(1, activation='linear'))"
   ]
  },
  {
   "cell_type": "code",
   "execution_count": 15,
   "metadata": {},
   "outputs": [
    {
     "name": "stdout",
     "output_type": "stream",
     "text": [
      "Model: \"sequential\"\n",
      "_________________________________________________________________\n",
      " Layer (type)                Output Shape              Param #   \n",
      "=================================================================\n",
      " conv2d (Conv2D)             (None, 98, 98, 32)        320       \n",
      "                                                                 \n",
      " max_pooling2d (MaxPooling2D  (None, 49, 49, 32)       0         \n",
      " )                                                               \n",
      "                                                                 \n",
      " conv2d_1 (Conv2D)           (None, 47, 47, 64)        18496     \n",
      "                                                                 \n",
      " max_pooling2d_1 (MaxPooling  (None, 23, 23, 64)       0         \n",
      " 2D)                                                             \n",
      "                                                                 \n",
      " conv2d_2 (Conv2D)           (None, 21, 21, 32)        18464     \n",
      "                                                                 \n",
      " flatten (Flatten)           (None, 14112)             0         \n",
      "                                                                 \n",
      " dense (Dense)               (None, 32)                451616    \n",
      "                                                                 \n",
      " dense_1 (Dense)             (None, 1)                 33        \n",
      "                                                                 \n",
      "=================================================================\n",
      "Total params: 488,929\n",
      "Trainable params: 488,929\n",
      "Non-trainable params: 0\n",
      "_________________________________________________________________\n"
     ]
    }
   ],
   "source": [
    "model.compile(optimizer='adam', loss='mse', metrics=[r2_keras])\n",
    "model.summary()"
   ]
  },
  {
   "cell_type": "code",
   "execution_count": 16,
   "metadata": {},
   "outputs": [
    {
     "name": "stdout",
     "output_type": "stream",
     "text": [
      "Epoch 1/50\n",
      "27/27 [==============================] - 5s 122ms/step - loss: 0.8247 - r2_keras: -0.2622 - val_loss: 0.8146 - val_r2_keras: -0.0118\n",
      "Epoch 2/50\n",
      "27/27 [==============================] - 3s 123ms/step - loss: 0.7160 - r2_keras: -0.0419 - val_loss: 0.8157 - val_r2_keras: -0.0169\n",
      "Epoch 3/50\n",
      "27/27 [==============================] - 3s 117ms/step - loss: 0.7131 - r2_keras: -0.0402 - val_loss: 0.8203 - val_r2_keras: -0.0256\n",
      "Epoch 4/50\n",
      "27/27 [==============================] - 3s 116ms/step - loss: 0.7078 - r2_keras: -0.0752 - val_loss: 0.9035 - val_r2_keras: -0.1306\n",
      "Epoch 5/50\n",
      "27/27 [==============================] - 3s 117ms/step - loss: 0.6934 - r2_keras: -0.0444 - val_loss: 0.8390 - val_r2_keras: -0.0399\n",
      "Epoch 6/50\n",
      "27/27 [==============================] - 3s 119ms/step - loss: 0.7293 - r2_keras: -0.0803 - val_loss: 0.8223 - val_r2_keras: -0.0266\n",
      "Epoch 7/50\n",
      "27/27 [==============================] - 3s 118ms/step - loss: 0.6919 - r2_keras: -0.0288 - val_loss: 0.7961 - val_r2_keras: 0.0108\n",
      "Epoch 8/50\n",
      "27/27 [==============================] - 3s 118ms/step - loss: 0.6804 - r2_keras: 0.0073 - val_loss: 0.8070 - val_r2_keras: 3.6252e-04\n",
      "Epoch 9/50\n",
      "27/27 [==============================] - 3s 120ms/step - loss: 0.6566 - r2_keras: 0.0344 - val_loss: 0.8251 - val_r2_keras: -0.0204\n",
      "Epoch 10/50\n",
      "27/27 [==============================] - 3s 119ms/step - loss: 0.6426 - r2_keras: 0.0351 - val_loss: 0.8363 - val_r2_keras: -0.0310\n",
      "Epoch 11/50\n",
      "27/27 [==============================] - 3s 120ms/step - loss: 0.6241 - r2_keras: 0.0701 - val_loss: 0.8234 - val_r2_keras: -0.0120\n",
      "Epoch 12/50\n",
      "27/27 [==============================] - 3s 119ms/step - loss: 0.6051 - r2_keras: 0.1021 - val_loss: 0.9181 - val_r2_keras: -0.1266\n",
      "Epoch 13/50\n",
      "27/27 [==============================] - 3s 117ms/step - loss: 0.6293 - r2_keras: 0.0568 - val_loss: 0.8246 - val_r2_keras: -0.0217\n",
      "Epoch 14/50\n",
      "27/27 [==============================] - 3s 117ms/step - loss: 0.5811 - r2_keras: 0.1135 - val_loss: 0.9131 - val_r2_keras: -0.1193\n",
      "Epoch 15/50\n",
      "27/27 [==============================] - 3s 114ms/step - loss: 0.5362 - r2_keras: 0.2122 - val_loss: 0.8510 - val_r2_keras: -0.0448\n",
      "Epoch 16/50\n",
      "27/27 [==============================] - 3s 118ms/step - loss: 0.5219 - r2_keras: 0.2061 - val_loss: 0.8654 - val_r2_keras: -0.0718\n",
      "Epoch 17/50\n",
      "27/27 [==============================] - 3s 117ms/step - loss: 0.4836 - r2_keras: 0.2744 - val_loss: 0.9384 - val_r2_keras: -0.1516\n",
      "Epoch 18/50\n",
      "27/27 [==============================] - 3s 118ms/step - loss: 0.4731 - r2_keras: 0.2972 - val_loss: 0.9251 - val_r2_keras: -0.1414\n",
      "Epoch 19/50\n",
      "27/27 [==============================] - 3s 116ms/step - loss: 0.4470 - r2_keras: 0.3380 - val_loss: 0.9785 - val_r2_keras: -0.2019\n",
      "Epoch 20/50\n",
      "27/27 [==============================] - 3s 114ms/step - loss: 0.4351 - r2_keras: 0.3537 - val_loss: 0.9006 - val_r2_keras: -0.1028\n",
      "Epoch 21/50\n",
      "27/27 [==============================] - 3s 116ms/step - loss: 0.4226 - r2_keras: 0.3709 - val_loss: 0.9607 - val_r2_keras: -0.1724\n",
      "Epoch 22/50\n",
      "27/27 [==============================] - 3s 117ms/step - loss: 0.3753 - r2_keras: 0.4425 - val_loss: 1.0146 - val_r2_keras: -0.2446\n",
      "Epoch 23/50\n",
      "27/27 [==============================] - 3s 119ms/step - loss: 0.3539 - r2_keras: 0.4631 - val_loss: 0.9717 - val_r2_keras: -0.2096\n",
      "Epoch 24/50\n",
      "27/27 [==============================] - 3s 117ms/step - loss: 0.3317 - r2_keras: 0.5111 - val_loss: 0.9488 - val_r2_keras: -0.1578\n",
      "Epoch 25/50\n",
      "27/27 [==============================] - 3s 121ms/step - loss: 0.3173 - r2_keras: 0.5329 - val_loss: 0.9861 - val_r2_keras: -0.2241\n",
      "Epoch 26/50\n",
      "27/27 [==============================] - 3s 124ms/step - loss: 0.2983 - r2_keras: 0.5474 - val_loss: 0.9931 - val_r2_keras: -0.2345\n",
      "Epoch 27/50\n",
      "27/27 [==============================] - 3s 121ms/step - loss: 0.2977 - r2_keras: 0.5536 - val_loss: 1.1072 - val_r2_keras: -0.3759\n",
      "Epoch 28/50\n",
      "27/27 [==============================] - 3s 117ms/step - loss: 0.3153 - r2_keras: 0.5093 - val_loss: 0.9696 - val_r2_keras: -0.2020\n",
      "Epoch 29/50\n",
      "27/27 [==============================] - 3s 119ms/step - loss: 0.3486 - r2_keras: 0.4801 - val_loss: 1.0626 - val_r2_keras: -0.3077\n",
      "Epoch 30/50\n",
      "27/27 [==============================] - 3s 121ms/step - loss: 0.2835 - r2_keras: 0.5721 - val_loss: 0.9457 - val_r2_keras: -0.1697\n",
      "Epoch 31/50\n",
      "27/27 [==============================] - 3s 126ms/step - loss: 0.2751 - r2_keras: 0.5839 - val_loss: 0.9516 - val_r2_keras: -0.1826\n",
      "Epoch 32/50\n",
      "27/27 [==============================] - 3s 116ms/step - loss: 0.2437 - r2_keras: 0.6465 - val_loss: 0.9452 - val_r2_keras: -0.1836\n",
      "Epoch 33/50\n",
      "27/27 [==============================] - 3s 117ms/step - loss: 0.2310 - r2_keras: 0.6492 - val_loss: 1.0594 - val_r2_keras: -0.3125\n",
      "Epoch 34/50\n",
      "27/27 [==============================] - 3s 117ms/step - loss: 0.2194 - r2_keras: 0.6881 - val_loss: 1.0200 - val_r2_keras: -0.2844\n",
      "Epoch 35/50\n",
      "27/27 [==============================] - 3s 118ms/step - loss: 0.2194 - r2_keras: 0.6794 - val_loss: 1.0931 - val_r2_keras: -0.3611\n",
      "Epoch 36/50\n",
      "27/27 [==============================] - 3s 117ms/step - loss: 0.2147 - r2_keras: 0.6695 - val_loss: 1.0505 - val_r2_keras: -0.3046\n",
      "Epoch 37/50\n",
      "27/27 [==============================] - 3s 117ms/step - loss: 0.2016 - r2_keras: 0.7104 - val_loss: 1.1085 - val_r2_keras: -0.3991\n",
      "Epoch 38/50\n",
      "27/27 [==============================] - 3s 113ms/step - loss: 0.2039 - r2_keras: 0.6921 - val_loss: 1.0346 - val_r2_keras: -0.2976\n",
      "Epoch 39/50\n",
      "27/27 [==============================] - 3s 114ms/step - loss: 0.1988 - r2_keras: 0.7020 - val_loss: 1.1416 - val_r2_keras: -0.4399\n",
      "Epoch 40/50\n",
      "27/27 [==============================] - 3s 121ms/step - loss: 0.2138 - r2_keras: 0.6918 - val_loss: 1.0371 - val_r2_keras: -0.3130\n",
      "Epoch 41/50\n",
      "27/27 [==============================] - 3s 120ms/step - loss: 0.1860 - r2_keras: 0.7201 - val_loss: 1.0483 - val_r2_keras: -0.3145\n",
      "Epoch 42/50\n",
      "27/27 [==============================] - 3s 117ms/step - loss: 0.1821 - r2_keras: 0.7257 - val_loss: 1.0328 - val_r2_keras: -0.2969\n",
      "Epoch 43/50\n",
      "27/27 [==============================] - 3s 120ms/step - loss: 0.1832 - r2_keras: 0.7322 - val_loss: 1.1453 - val_r2_keras: -0.4430\n",
      "Epoch 44/50\n",
      "27/27 [==============================] - 3s 119ms/step - loss: 0.1703 - r2_keras: 0.7503 - val_loss: 1.0656 - val_r2_keras: -0.3480\n",
      "Epoch 45/50\n",
      "27/27 [==============================] - 3s 122ms/step - loss: 0.1602 - r2_keras: 0.7620 - val_loss: 1.1054 - val_r2_keras: -0.3846\n",
      "Epoch 46/50\n",
      "27/27 [==============================] - 3s 120ms/step - loss: 0.1625 - r2_keras: 0.7573 - val_loss: 1.0935 - val_r2_keras: -0.3825\n",
      "Epoch 47/50\n",
      "27/27 [==============================] - 3s 118ms/step - loss: 0.1461 - r2_keras: 0.7803 - val_loss: 1.0802 - val_r2_keras: -0.3757\n",
      "Epoch 48/50\n",
      "27/27 [==============================] - 3s 113ms/step - loss: 0.1588 - r2_keras: 0.7683 - val_loss: 1.1160 - val_r2_keras: -0.3983\n",
      "Epoch 49/50\n",
      "27/27 [==============================] - 3s 119ms/step - loss: 0.1511 - r2_keras: 0.7731 - val_loss: 1.1303 - val_r2_keras: -0.4413\n",
      "Epoch 50/50\n",
      "27/27 [==============================] - 3s 115ms/step - loss: 0.1459 - r2_keras: 0.7826 - val_loss: 1.1282 - val_r2_keras: -0.4315\n"
     ]
    }
   ],
   "source": [
    "from keras.callbacks import EarlyStopping, ReduceLROnPlateau\n",
    "# early_stopping = EarlyStopping(monitor='val_loss', patience=5, restore_best_weights=True)\n",
    "\n",
    "# reduce_lr = ReduceLROnPlateau(monitor='val_loss', factor=0.5, patience=3, min_lr=0.0005)\n",
    "\n",
    "# history = model.fit(x_train, y_train, epochs=100, batch_size=16, validation_split=0.2, callbacks=[early_stopping])\n",
    "history = model.fit(x_train, y_train, epochs=50, batch_size=32, validation_split=0.2)"
   ]
  },
  {
   "cell_type": "code",
   "execution_count": 17,
   "metadata": {},
   "outputs": [
    {
     "name": "stdout",
     "output_type": "stream",
     "text": [
      "9/9 [==============================] - 0s 27ms/step - loss: 1.0152 - r2_keras: -0.5954\n",
      "Test Loss: 1.0152337551116943\n",
      "Test R2: -0.5954188108444214\n"
     ]
    }
   ],
   "source": [
    "loss, r2 = model.evaluate(x_test, y_test)\n",
    "print(\"Test Loss:\", loss)\n",
    "print(\"Test R2:\", r2)"
   ]
  }
 ],
 "metadata": {
  "kernelspec": {
   "display_name": "Python3.11 (test)",
   "language": "python",
   "name": "python311_test"
  },
  "language_info": {
   "codemirror_mode": {
    "name": "ipython",
    "version": 3
   },
   "file_extension": ".py",
   "mimetype": "text/x-python",
   "name": "python",
   "nbconvert_exporter": "python",
   "pygments_lexer": "ipython3",
   "version": "3.11.5"
  }
 },
 "nbformat": 4,
 "nbformat_minor": 2
}
