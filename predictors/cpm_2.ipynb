{
 "cells": [
  {
   "cell_type": "markdown",
   "metadata": {},
   "source": [
    "# CPM Predictor 2\n",
    "\n",
    "Following code from https://github.com/YaleMRRC/CPM/tree/master"
   ]
  },
  {
   "cell_type": "code",
   "execution_count": 1,
   "metadata": {},
   "outputs": [],
   "source": [
    "import pandas as pd\n",
    "import numpy as np\n",
    "from scipy.io import loadmat\n",
    "import matplotlib.pyplot as plt\n",
    "from sklearn.metrics import r2_score, mean_squared_error\n",
    "from scipy.stats import spearmanr, t, ttest_1samp, pearsonr\n",
    "from sklearn.linear_model import LinearRegression\n",
    "from statsmodels.robust.robust_linear_model import RLM\n",
    "\n",
    "import json\n",
    "from joblib import dump"
   ]
  },
  {
   "cell_type": "code",
   "execution_count": 2,
   "metadata": {},
   "outputs": [],
   "source": [
    "def compute_correlation(fmri):\n",
    "    epsilon = 1e-6\n",
    "    \n",
    "    # calculate Pearson correlation between nodes and Fisher z-transform\n",
    "    corr_matrix = np.corrcoef(fmri)\n",
    "    \n",
    "    epsilon = 1e-6  # Small constant to add to the diagonal - to prevent division by zero in the arctanh function\n",
    "    clipped_corr_matrix = np.clip(corr_matrix + epsilon, -1 + epsilon, 1 - epsilon)\n",
    "    fisher_z_matrix = np.arctanh(clipped_corr_matrix)\n",
    "    \n",
    "    return fisher_z_matrix"
   ]
  },
  {
   "cell_type": "code",
   "execution_count": 30,
   "metadata": {},
   "outputs": [],
   "source": [
    "threshold = 0.01\n",
    "def train_cpm(ipmat, pheno):\n",
    "\n",
    "    \"\"\"\n",
    "    Accepts input matrices and pheno data\n",
    "    Returns model\n",
    "    @author: David O'Connor\n",
    "    @documentation: Javid Dadashkarimi\n",
    "    cpm: in cpm we select the most significant edges for subjects. so each subject\n",
    "         have a pair set of edges with positive and negative correlation with behavioral subjects.\n",
    "         It's important to keep both set in final regression task.  \n",
    "    posedges: positive edges are a set of edges have positive\n",
    "              correlatin with behavioral measures\n",
    "    negedges: negative edges are a set of edges have negative\n",
    "              correlation with behavioral measures\n",
    "    \"\"\"\n",
    "    cc=[spearmanr(pheno,im) for im in ipmat]    \n",
    "    \n",
    "    rmat=np.array([c[0] for c in cc])\n",
    "    pmat=np.array([c[1] for c in cc])\n",
    "    rmat=np.reshape(rmat,[100,100])\n",
    "    pmat=np.reshape(pmat,[100,100])\n",
    "    posedges=(rmat > 0) & (pmat < threshold)    # edges correalated with higher ADAS Scores\n",
    "    posedges=posedges.astype(int)\n",
    "    negedges=(rmat < 0) & (pmat < threshold)    # edges correalated with lower ADAS Scores\n",
    "    negedges=negedges.astype(int)\n",
    "    pe=ipmat[posedges.flatten().astype(bool),:]\n",
    "    ne=ipmat[negedges.flatten().astype(bool),:]\n",
    "    pe=pe.sum(axis=0)/2\n",
    "    ne=ne.sum(axis=0)/2\n",
    "\n",
    "\n",
    "    if np.sum(pe) != 0:\n",
    "        fit_pos=np.polyfit(pe,pheno,1)      # fit a curve through the positive edges\n",
    "    else:\n",
    "        fit_pos=[]\n",
    "\n",
    "    if np.sum(ne) != 0:\n",
    "        fit_neg=np.polyfit(ne,pheno,1)       # fit a curve through the negative edges\n",
    "    else:\n",
    "        fit_neg=[]\n",
    "\n",
    "    return fit_pos,fit_neg,posedges,negedges\n",
    "\n",
    "def run_validate(X,y,cvtype):\n",
    "    \"\"\"\n",
    "    Accepts input matrices (X), phenotype data (y), and the type of cross-valdiation (cv_type)    \n",
    "    Returns the R-values for positive model (Rpos), negative model (Rneg), and the combination\n",
    "    X: the feature matrix of size (number of nodes x number of nodes x number of subjects)\n",
    "    y: the phenotype vector of size (number of subjects)\n",
    "    cv_type: the cross-valdiation type, takes one of the followings: \n",
    "    1) LOO: leave-one-out cross-validation\n",
    "    2) 5k: \n",
    "    \"\"\"\n",
    "    numsubs=X.shape[2]\n",
    "    X=np.reshape(X,[-1,numsubs])\n",
    "    \n",
    "    if cvtype == 'LOO':\n",
    "        behav_pred_pos=np.zeros([numsubs])\n",
    "        behav_pred_neg=np.zeros([numsubs])\n",
    "        for loo in range(0,numsubs):\n",
    "\n",
    "            print(\"Running LOO, sub no:\",loo)\n",
    "      \n",
    "            train_mats=np.delete(X,[loo],axis=1)\n",
    "            train_pheno=np.delete(y,[loo],axis=0)\n",
    "            \n",
    "            test_mat=X[:,loo]\n",
    "            test_pheno=y[loo]\n",
    "\n",
    "            pos_fit,neg_fit,posedges,negedges=train_cpm(train_mats,train_pheno)\n",
    "\n",
    "            pe=np.sum(test_mat[posedges.flatten().astype(bool)])/2\n",
    "            ne=np.sum(test_mat[negedges.flatten().astype(bool)])/2\n",
    "            \n",
    "            # Run model on test subject\n",
    "\n",
    "            if len(pos_fit) > 0:\n",
    "                behav_pred_pos[loo]=pos_fit[0]*pe + pos_fit[1]       # predict using the coefficients of the curve\n",
    "            else:\n",
    "                behav_pred_pos[loo]='nan'\n",
    "\n",
    "            if len(neg_fit) > 0:\n",
    "                behav_pred_neg[loo]=neg_fit[0]*ne + neg_fit[1]\n",
    "            else:\n",
    "                behav_pred_neg[loo]='nan'\n",
    "          \n",
    "        return behav_pred_pos, behav_pred_neg\n",
    "\n",
    "        \n",
    "#         Rpos=pearsonr(behav_pred_pos,y)[0]\n",
    "#         Rneg=pearsonr(behav_pred_neg,y)[0]\n",
    "        \n",
    "#         return Rpos,Rneg\n",
    "    "
   ]
  },
  {
   "cell_type": "markdown",
   "metadata": {},
   "source": [
    "### Get Features (FC Matrices)"
   ]
  },
  {
   "cell_type": "code",
   "execution_count": 5,
   "metadata": {},
   "outputs": [],
   "source": [
    "def normalise_correlate_fc(fmri):\n",
    "    fc_emp = fmri / np.max(fmri)\n",
    "    fc_emp = np.corrcoef(fc_emp)\n",
    "    return fc_emp"
   ]
  },
  {
   "cell_type": "code",
   "execution_count": 4,
   "metadata": {},
   "outputs": [
    {
     "data": {
      "text/plain": [
       "(1342, 3)"
      ]
     },
     "execution_count": 4,
     "metadata": {},
     "output_type": "execute_result"
    }
   ],
   "source": [
    "# ADAS_DATA = '../data/ADAS_ADNIGO23_17Apr2024_FILTERED_wfiles_197.csv'\n",
    "PHC_DATA = '../data/ADSP_PHC_COGN_Dec2023_FILTERED_wfiles.csv'\n",
    "df = pd.read_csv(PHC_DATA)\n",
    "df = df.drop(columns=['RID', 'VISCODE2', 'PHC_Diagnosis', 'PHC_EXF', 'PHC_LAN', 'PHC_VSP'])\n",
    "df.shape"
   ]
  },
  {
   "cell_type": "code",
   "execution_count": 6,
   "metadata": {},
   "outputs": [],
   "source": [
    "# Get the FC data as numpy arrays\n",
    "dim_x = len(df)\n",
    "X = []\n",
    "\n",
    "for i, file in enumerate(df['FC_DATA'].values[:50]):\n",
    "    arr = loadmat(f'../{file}')['ROI_activity'][:100, :] # get the first 100 regions\n",
    "    fc = normalise_correlate_fc(arr)\n",
    "    \n",
    "    # Add noise along the diagonal\n",
    "    noise_level = 0.0001  # Adjust this value as needed\n",
    "    noise = np.random.randn(100) * noise_level\n",
    "    fc_with_noise = fc + np.diag(noise)\n",
    "    \n",
    "    X.append(fc_with_noise)"
   ]
  },
  {
   "cell_type": "code",
   "execution_count": 7,
   "metadata": {},
   "outputs": [
    {
     "data": {
      "text/plain": [
       "array([[ 0.99997386,  0.23786372,  0.20097916, ..., -0.05299774,\n",
       "         0.39054918,  0.26728137],\n",
       "       [ 0.23786372,  1.00003625,  0.73799572, ..., -0.48484301,\n",
       "         0.30452082, -0.08258666],\n",
       "       [ 0.20097916,  0.73799572,  1.0001053 , ..., -0.32228712,\n",
       "         0.42146126,  0.18149275],\n",
       "       ...,\n",
       "       [-0.05299774, -0.48484301, -0.32228712, ...,  1.00004482,\n",
       "         0.20001077,  0.5615397 ],\n",
       "       [ 0.39054918,  0.30452082,  0.42146126, ...,  0.20001077,\n",
       "         0.99987276,  0.73629405],\n",
       "       [ 0.26728137, -0.08258666,  0.18149275, ...,  0.5615397 ,\n",
       "         0.73629405,  0.99984811]])"
      ]
     },
     "execution_count": 7,
     "metadata": {},
     "output_type": "execute_result"
    }
   ],
   "source": [
    "X = np.array(X)\n",
    "X[0]"
   ]
  },
  {
   "cell_type": "code",
   "execution_count": 93,
   "metadata": {},
   "outputs": [
    {
     "data": {
      "text/plain": [
       "(50,)"
      ]
     },
     "execution_count": 93,
     "metadata": {},
     "output_type": "execute_result"
    }
   ],
   "source": [
    "Y = df['PHC_MEM'][:50]\n",
    "Y.shape"
   ]
  },
  {
   "cell_type": "code",
   "execution_count": 94,
   "metadata": {},
   "outputs": [
    {
     "data": {
      "text/plain": [
       "(100, 100, 50)"
      ]
     },
     "execution_count": 94,
     "metadata": {},
     "output_type": "execute_result"
    }
   ],
   "source": [
    "X.shape\n",
    "X_transposed = np.transpose(X, (1, 2, 0))\n",
    "X_transposed.shape"
   ]
  },
  {
   "cell_type": "code",
   "execution_count": 158,
   "metadata": {},
   "outputs": [],
   "source": [
    "# results_df = pd.DataFrame(columns=['no_files', 'noise', 'fc_gen_method', 'pearson_r_pos', 'pearson_r_neg', \n",
    "#                                    'spearman_rho_pos', 'spearman_rho_neg', 'r2_pos', 'r2_neg', 'mse_pos',\n",
    "#                                    'mse_neg'])\n",
    "# results_df.head()"
   ]
  },
  {
   "cell_type": "code",
   "execution_count": null,
   "metadata": {},
   "outputs": [],
   "source": [
    "behav_pred_pos, behav_pred_neg = run_validate(X_transposed, Y, 'LOO')\n",
    "\n",
    "res = {\n",
    "    'no_files': 50, \n",
    "    'noise': 0.0001, \n",
    "    'fc_gen_method': 'normalise_correlate_fc', \n",
    "    'pearson_r_pos': pearsonr(behav_pred_pos,Y)[0], \n",
    "    'pearson_r_neg': pearsonr(behav_pred_neg,Y)[0],\n",
    "    'spearman_rho_pos': spearmanr(behav_pred_pos,Y)[0], \n",
    "    'spearman_rho_neg': spearmanr(behav_pred_neg,Y)[0], \n",
    "    'r2_pos': r2_score(behav_pred_pos,Y), \n",
    "    'r2_neg': r2_score(behav_pred_neg,Y), \n",
    "    'mse_pos': mean_squared_error(behav_pred_pos,Y),\n",
    "    'mse_neg': mean_squared_error(behav_pred_neg,Y)\n",
    "}\n",
    "\n",
    "# results_df = pd.concat([results_df, pd.DataFrame([res])])"
   ]
  },
  {
   "cell_type": "code",
   "execution_count": 169,
   "metadata": {},
   "outputs": [
    {
     "data": {
      "text/html": [
       "<div>\n",
       "<style scoped>\n",
       "    .dataframe tbody tr th:only-of-type {\n",
       "        vertical-align: middle;\n",
       "    }\n",
       "\n",
       "    .dataframe tbody tr th {\n",
       "        vertical-align: top;\n",
       "    }\n",
       "\n",
       "    .dataframe thead th {\n",
       "        text-align: right;\n",
       "    }\n",
       "</style>\n",
       "<table border=\"1\" class=\"dataframe\">\n",
       "  <thead>\n",
       "    <tr style=\"text-align: right;\">\n",
       "      <th></th>\n",
       "      <th>no_files</th>\n",
       "      <th>noise</th>\n",
       "      <th>fc_gen_method</th>\n",
       "      <th>pearson_r_pos</th>\n",
       "      <th>pearson_r_neg</th>\n",
       "      <th>spearman_rho_pos</th>\n",
       "      <th>spearman_rho_neg</th>\n",
       "      <th>r2_pos</th>\n",
       "      <th>r2_neg</th>\n",
       "      <th>mse_pos</th>\n",
       "      <th>mse_neg</th>\n",
       "      <th>2</th>\n",
       "    </tr>\n",
       "  </thead>\n",
       "  <tbody>\n",
       "    <tr>\n",
       "      <th>0</th>\n",
       "      <td>100</td>\n",
       "      <td>0.0001</td>\n",
       "      <td>compute_correlation</td>\n",
       "      <td>0.012331</td>\n",
       "      <td>0.093077</td>\n",
       "      <td>-0.074421</td>\n",
       "      <td>0.123846</td>\n",
       "      <td>-7.925653</td>\n",
       "      <td>-9.484463</td>\n",
       "      <td>38.847254</td>\n",
       "      <td>36.210902</td>\n",
       "      <td>NaN</td>\n",
       "    </tr>\n",
       "    <tr>\n",
       "      <th>1</th>\n",
       "      <td>100</td>\n",
       "      <td>0.0001</td>\n",
       "      <td>normalise_correlate_fc</td>\n",
       "      <td>0.005774</td>\n",
       "      <td>0.043314</td>\n",
       "      <td>-0.082930</td>\n",
       "      <td>0.104430</td>\n",
       "      <td>-8.453046</td>\n",
       "      <td>-10.774776</td>\n",
       "      <td>38.761466</td>\n",
       "      <td>37.037568</td>\n",
       "      <td>NaN</td>\n",
       "    </tr>\n",
       "    <tr>\n",
       "      <th>2</th>\n",
       "      <td>50</td>\n",
       "      <td>0.0001</td>\n",
       "      <td>normalise_correlate_fc</td>\n",
       "      <td>0.186141</td>\n",
       "      <td>0.116007</td>\n",
       "      <td>0.134497</td>\n",
       "      <td>0.189920</td>\n",
       "      <td>-2.638026</td>\n",
       "      <td>-2.924703</td>\n",
       "      <td>23.157316</td>\n",
       "      <td>24.688216</td>\n",
       "      <td>NaN</td>\n",
       "    </tr>\n",
       "    <tr>\n",
       "      <th>0</th>\n",
       "      <td>50</td>\n",
       "      <td>0.0001</td>\n",
       "      <td>compute_correlation</td>\n",
       "      <td>0.252616</td>\n",
       "      <td>0.105604</td>\n",
       "      <td>0.138246</td>\n",
       "      <td>0.178816</td>\n",
       "      <td>-2.263829</td>\n",
       "      <td>-2.840129</td>\n",
       "      <td>21.754884</td>\n",
       "      <td>25.132758</td>\n",
       "      <td>NaN</td>\n",
       "    </tr>\n",
       "    <tr>\n",
       "      <th>0</th>\n",
       "      <td>40</td>\n",
       "      <td>0.0001</td>\n",
       "      <td>compute_correlation</td>\n",
       "      <td>0.112534</td>\n",
       "      <td>0.149578</td>\n",
       "      <td>0.057180</td>\n",
       "      <td>0.133703</td>\n",
       "      <td>-2.813653</td>\n",
       "      <td>-4.143540</td>\n",
       "      <td>21.521483</td>\n",
       "      <td>19.440756</td>\n",
       "      <td>NaN</td>\n",
       "    </tr>\n",
       "  </tbody>\n",
       "</table>\n",
       "</div>"
      ],
      "text/plain": [
       "  no_files   noise           fc_gen_method  pearson_r_pos  pearson_r_neg  \\\n",
       "0      100  0.0001     compute_correlation       0.012331       0.093077   \n",
       "1      100  0.0001  normalise_correlate_fc       0.005774       0.043314   \n",
       "2       50  0.0001  normalise_correlate_fc       0.186141       0.116007   \n",
       "0       50  0.0001     compute_correlation       0.252616       0.105604   \n",
       "0       40  0.0001     compute_correlation       0.112534       0.149578   \n",
       "\n",
       "   spearman_rho_pos  spearman_rho_neg    r2_pos     r2_neg    mse_pos  \\\n",
       "0         -0.074421          0.123846 -7.925653  -9.484463  38.847254   \n",
       "1         -0.082930          0.104430 -8.453046 -10.774776  38.761466   \n",
       "2          0.134497          0.189920 -2.638026  -2.924703  23.157316   \n",
       "0          0.138246          0.178816 -2.263829  -2.840129  21.754884   \n",
       "0          0.057180          0.133703 -2.813653  -4.143540  21.521483   \n",
       "\n",
       "     mse_neg    2  \n",
       "0  36.210902  NaN  \n",
       "1  37.037568  NaN  \n",
       "2  24.688216  NaN  \n",
       "0  25.132758  NaN  \n",
       "0  19.440756  NaN  "
      ]
     },
     "execution_count": 169,
     "metadata": {},
     "output_type": "execute_result"
    }
   ],
   "source": [
    "results_df.head()"
   ]
  },
  {
   "cell_type": "code",
   "execution_count": 170,
   "metadata": {},
   "outputs": [],
   "source": [
    "results_df.to_csv('../data/cpm_experiments.csv')"
   ]
  },
  {
   "cell_type": "code",
   "execution_count": 139,
   "metadata": {},
   "outputs": [],
   "source": [
    "# results_df = results_df.drop(results_df.index[-2:])"
   ]
  },
  {
   "cell_type": "code",
   "execution_count": 143,
   "metadata": {},
   "outputs": [],
   "source": [
    "# results_df = results_df.reset_index(drop=True)"
   ]
  },
  {
   "cell_type": "code",
   "execution_count": 145,
   "metadata": {},
   "outputs": [],
   "source": [
    "# results_df.loc[2, 'fc_gen_method'] = 'normalise_correlate_fc'"
   ]
  },
  {
   "cell_type": "markdown",
   "metadata": {},
   "source": [
    "## Get Sample of Patients"
   ]
  },
  {
   "cell_type": "code",
   "execution_count": 8,
   "metadata": {},
   "outputs": [],
   "source": [
    "# Define the number of buckets\n",
    "n_buckets = 10\n",
    "\n",
    "# Define the bins for splitting the column into buckets\n",
    "bins = pd.cut(df['PHC_MEM'], bins=n_buckets, labels=False)"
   ]
  },
  {
   "cell_type": "code",
   "execution_count": 9,
   "metadata": {},
   "outputs": [
    {
     "data": {
      "text/plain": [
       "0       7.0\n",
       "1       7.0\n",
       "2       6.0\n",
       "3       7.0\n",
       "4       7.0\n",
       "       ... \n",
       "1337    4.0\n",
       "1338    9.0\n",
       "1339    7.0\n",
       "1340    5.0\n",
       "1341    6.0\n",
       "Name: PHC_MEM, Length: 1342, dtype: float64"
      ]
     },
     "execution_count": 9,
     "metadata": {},
     "output_type": "execute_result"
    }
   ],
   "source": [
    "bins"
   ]
  },
  {
   "cell_type": "code",
   "execution_count": 10,
   "metadata": {},
   "outputs": [],
   "source": [
    "# Group the DataFrame by the bins and create a dictionary of DataFrames\n",
    "buckets = {i: group for i, group in df.groupby(bins)}"
   ]
  },
  {
   "cell_type": "code",
   "execution_count": 11,
   "metadata": {},
   "outputs": [
    {
     "name": "stdout",
     "output_type": "stream",
     "text": [
      "Bucket 0:\n",
      "(2, 3)\n",
      "Bucket 1:\n",
      "(10, 3)\n",
      "Bucket 2:\n",
      "(22, 3)\n",
      "Bucket 3:\n",
      "(84, 3)\n",
      "Bucket 4:\n",
      "(117, 3)\n",
      "Bucket 5:\n",
      "(262, 3)\n",
      "Bucket 6:\n",
      "(342, 3)\n",
      "Bucket 7:\n",
      "(324, 3)\n",
      "Bucket 8:\n",
      "(150, 3)\n",
      "Bucket 9:\n",
      "(28, 3)\n"
     ]
    }
   ],
   "source": [
    "for i in range(n_buckets):\n",
    "    bucket = buckets.get(i)\n",
    "    if bucket is not None:\n",
    "        print(f\"Bucket {i}:\")\n",
    "        print(bucket.shape)"
   ]
  },
  {
   "cell_type": "markdown",
   "metadata": {},
   "source": [
    "### Stratified Sample"
   ]
  },
  {
   "cell_type": "code",
   "execution_count": 12,
   "metadata": {},
   "outputs": [
    {
     "name": "stdout",
     "output_type": "stream",
     "text": [
      "1\n",
      "1\n",
      "2\n",
      "8\n",
      "12\n",
      "26\n",
      "34\n",
      "32\n",
      "15\n",
      "3\n"
     ]
    },
    {
     "data": {
      "text/plain": [
       "(134, 3)"
      ]
     },
     "execution_count": 12,
     "metadata": {},
     "output_type": "execute_result"
    }
   ],
   "source": [
    "sample_df = None\n",
    "total_sample = 0\n",
    "\n",
    "for i in range(n_buckets):\n",
    "    bucket = buckets.get(i)\n",
    "    if bucket is not None:\n",
    "        f = bucket.shape[0]\n",
    "        sample_n = 1 if f * 0.1 < 1 else round(f * 0.1)\n",
    "        print(sample_n)\n",
    "        \n",
    "        random = bucket.sample(sample_n)\n",
    "        sample_df = pd.concat([sample_df, random])\n",
    "\n",
    "sample_df = sample_df.reset_index(drop=True)\n",
    "sample_df.shape"
   ]
  },
  {
   "cell_type": "code",
   "execution_count": 14,
   "metadata": {},
   "outputs": [
    {
     "data": {
      "text/html": [
       "<div>\n",
       "<style scoped>\n",
       "    .dataframe tbody tr th:only-of-type {\n",
       "        vertical-align: middle;\n",
       "    }\n",
       "\n",
       "    .dataframe tbody tr th {\n",
       "        vertical-align: top;\n",
       "    }\n",
       "\n",
       "    .dataframe thead th {\n",
       "        text-align: right;\n",
       "    }\n",
       "</style>\n",
       "<table border=\"1\" class=\"dataframe\">\n",
       "  <thead>\n",
       "    <tr style=\"text-align: right;\">\n",
       "      <th></th>\n",
       "      <th>Unnamed: 0</th>\n",
       "      <th>PHC_MEM</th>\n",
       "      <th>FC_DATA</th>\n",
       "    </tr>\n",
       "  </thead>\n",
       "  <tbody>\n",
       "    <tr>\n",
       "      <th>0</th>\n",
       "      <td>229</td>\n",
       "      <td>-2.430</td>\n",
       "      <td>../FMRI_ADNI_DATA/fc/sub-ADNI127S0259_ses-M150...</td>\n",
       "    </tr>\n",
       "    <tr>\n",
       "      <th>1</th>\n",
       "      <td>2429</td>\n",
       "      <td>-2.029</td>\n",
       "      <td>../FMRI_ADNI_DATA/fc/sub-ADNI018S4696_ses-M006...</td>\n",
       "    </tr>\n",
       "    <tr>\n",
       "      <th>2</th>\n",
       "      <td>2644</td>\n",
       "      <td>-1.584</td>\n",
       "      <td>../FMRI_ADNI_DATA/fc/sub-ADNI126S4891_ses-M120...</td>\n",
       "    </tr>\n",
       "    <tr>\n",
       "      <th>3</th>\n",
       "      <td>1796</td>\n",
       "      <td>-1.418</td>\n",
       "      <td>../FMRI_ADNI_DATA/fc/sub-ADNI009S4324_ses-M090...</td>\n",
       "    </tr>\n",
       "    <tr>\n",
       "      <th>4</th>\n",
       "      <td>3844</td>\n",
       "      <td>-1.094</td>\n",
       "      <td>../FMRI_ADNI_DATA/fc/sub-ADNI027S6733_ses-M000...</td>\n",
       "    </tr>\n",
       "    <tr>\n",
       "      <th>...</th>\n",
       "      <td>...</td>\n",
       "      <td>...</td>\n",
       "      <td>...</td>\n",
       "    </tr>\n",
       "    <tr>\n",
       "      <th>129</th>\n",
       "      <td>2338</td>\n",
       "      <td>1.684</td>\n",
       "      <td>../FMRI_ADNI_DATA/fc/sub-ADNI007S4620_ses-M024...</td>\n",
       "    </tr>\n",
       "    <tr>\n",
       "      <th>130</th>\n",
       "      <td>1586</td>\n",
       "      <td>1.465</td>\n",
       "      <td>../FMRI_ADNI_DATA/fc/sub-ADNI002S4213_ses-M072...</td>\n",
       "    </tr>\n",
       "    <tr>\n",
       "      <th>131</th>\n",
       "      <td>1881</td>\n",
       "      <td>2.104</td>\n",
       "      <td>../FMRI_ADNI_DATA/fc/sub-ADNI029S4384_ses-M072...</td>\n",
       "    </tr>\n",
       "    <tr>\n",
       "      <th>132</th>\n",
       "      <td>2292</td>\n",
       "      <td>2.019</td>\n",
       "      <td>../FMRI_ADNI_DATA/fc/sub-ADNI031S4590_ses-M006...</td>\n",
       "    </tr>\n",
       "    <tr>\n",
       "      <th>133</th>\n",
       "      <td>2577</td>\n",
       "      <td>2.142</td>\n",
       "      <td>../FMRI_ADNI_DATA/fc/sub-ADNI070S4856_ses-M066...</td>\n",
       "    </tr>\n",
       "  </tbody>\n",
       "</table>\n",
       "<p>134 rows × 3 columns</p>\n",
       "</div>"
      ],
      "text/plain": [
       "     Unnamed: 0  PHC_MEM                                            FC_DATA\n",
       "0           229   -2.430  ../FMRI_ADNI_DATA/fc/sub-ADNI127S0259_ses-M150...\n",
       "1          2429   -2.029  ../FMRI_ADNI_DATA/fc/sub-ADNI018S4696_ses-M006...\n",
       "2          2644   -1.584  ../FMRI_ADNI_DATA/fc/sub-ADNI126S4891_ses-M120...\n",
       "3          1796   -1.418  ../FMRI_ADNI_DATA/fc/sub-ADNI009S4324_ses-M090...\n",
       "4          3844   -1.094  ../FMRI_ADNI_DATA/fc/sub-ADNI027S6733_ses-M000...\n",
       "..          ...      ...                                                ...\n",
       "129        2338    1.684  ../FMRI_ADNI_DATA/fc/sub-ADNI007S4620_ses-M024...\n",
       "130        1586    1.465  ../FMRI_ADNI_DATA/fc/sub-ADNI002S4213_ses-M072...\n",
       "131        1881    2.104  ../FMRI_ADNI_DATA/fc/sub-ADNI029S4384_ses-M072...\n",
       "132        2292    2.019  ../FMRI_ADNI_DATA/fc/sub-ADNI031S4590_ses-M006...\n",
       "133        2577    2.142  ../FMRI_ADNI_DATA/fc/sub-ADNI070S4856_ses-M066...\n",
       "\n",
       "[134 rows x 3 columns]"
      ]
     },
     "execution_count": 14,
     "metadata": {},
     "output_type": "execute_result"
    }
   ],
   "source": [
    "sample_df"
   ]
  },
  {
   "cell_type": "code",
   "execution_count": 35,
   "metadata": {},
   "outputs": [],
   "source": [
    "dim_x = len(sample_df)\n",
    "X_strat = []\n",
    "\n",
    "for i, file in enumerate(sample_df['FC_DATA'].values):\n",
    "    arr = loadmat(f'../{file}')['ROI_activity'][:100, :] # get the first 100 regions\n",
    "    fc = compute_correlation(arr)\n",
    "    \n",
    "    # Add noise along the diagonal\n",
    "    noise_level = 0.0001  # Adjust this value as needed\n",
    "    noise = np.random.randn(100) * noise_level\n",
    "    fc_with_noise = fc + np.diag(noise)\n",
    "    \n",
    "    X_strat.append(fc_with_noise)\n",
    "X_strat = np.array(X_strat)"
   ]
  },
  {
   "cell_type": "code",
   "execution_count": 36,
   "metadata": {},
   "outputs": [
    {
     "name": "stdout",
     "output_type": "stream",
     "text": [
      "(134,)\n",
      "(100, 100, 134)\n"
     ]
    }
   ],
   "source": [
    "Y_strat = sample_df['PHC_MEM']\n",
    "print(Y_strat.shape)\n",
    "\n",
    "X_strat_transposed = np.transpose(X_strat, (1, 2, 0))\n",
    "print(X_strat_transposed.shape)"
   ]
  },
  {
   "cell_type": "code",
   "execution_count": 37,
   "metadata": {},
   "outputs": [
    {
     "name": "stdout",
     "output_type": "stream",
     "text": [
      "Running LOO, sub no: 0\n",
      "Running LOO, sub no: 1\n",
      "Running LOO, sub no: 2\n",
      "Running LOO, sub no: 3\n",
      "Running LOO, sub no: 4\n",
      "Running LOO, sub no: 5\n",
      "Running LOO, sub no: 6\n",
      "Running LOO, sub no: 7\n",
      "Running LOO, sub no: 8\n",
      "Running LOO, sub no: 9\n",
      "Running LOO, sub no: 10\n",
      "Running LOO, sub no: 11\n",
      "Running LOO, sub no: 12\n",
      "Running LOO, sub no: 13\n",
      "Running LOO, sub no: 14\n",
      "Running LOO, sub no: 15\n",
      "Running LOO, sub no: 16\n",
      "Running LOO, sub no: 17\n",
      "Running LOO, sub no: 18\n",
      "Running LOO, sub no: 19\n",
      "Running LOO, sub no: 20\n",
      "Running LOO, sub no: 21\n",
      "Running LOO, sub no: 22\n",
      "Running LOO, sub no: 23\n",
      "Running LOO, sub no: 24\n",
      "Running LOO, sub no: 25\n",
      "Running LOO, sub no: 26\n",
      "Running LOO, sub no: 27\n",
      "Running LOO, sub no: 28\n",
      "Running LOO, sub no: 29\n",
      "Running LOO, sub no: 30\n",
      "Running LOO, sub no: 31\n",
      "Running LOO, sub no: 32\n",
      "Running LOO, sub no: 33\n",
      "Running LOO, sub no: 34\n",
      "Running LOO, sub no: 35\n",
      "Running LOO, sub no: 36\n",
      "Running LOO, sub no: 37\n",
      "Running LOO, sub no: 38\n",
      "Running LOO, sub no: 39\n",
      "Running LOO, sub no: 40\n",
      "Running LOO, sub no: 41\n",
      "Running LOO, sub no: 42\n",
      "Running LOO, sub no: 43\n",
      "Running LOO, sub no: 44\n",
      "Running LOO, sub no: 45\n",
      "Running LOO, sub no: 46\n",
      "Running LOO, sub no: 47\n",
      "Running LOO, sub no: 48\n",
      "Running LOO, sub no: 49\n",
      "Running LOO, sub no: 50\n",
      "Running LOO, sub no: 51\n",
      "Running LOO, sub no: 52\n",
      "Running LOO, sub no: 53\n",
      "Running LOO, sub no: 54\n",
      "Running LOO, sub no: 55\n",
      "Running LOO, sub no: 56\n",
      "Running LOO, sub no: 57\n",
      "Running LOO, sub no: 58\n",
      "Running LOO, sub no: 59\n",
      "Running LOO, sub no: 60\n",
      "Running LOO, sub no: 61\n",
      "Running LOO, sub no: 62\n",
      "Running LOO, sub no: 63\n",
      "Running LOO, sub no: 64\n",
      "Running LOO, sub no: 65\n",
      "Running LOO, sub no: 66\n",
      "Running LOO, sub no: 67\n",
      "Running LOO, sub no: 68\n",
      "Running LOO, sub no: 69\n",
      "Running LOO, sub no: 70\n",
      "Running LOO, sub no: 71\n",
      "Running LOO, sub no: 72\n",
      "Running LOO, sub no: 73\n",
      "Running LOO, sub no: 74\n",
      "Running LOO, sub no: 75\n",
      "Running LOO, sub no: 76\n",
      "Running LOO, sub no: 77\n",
      "Running LOO, sub no: 78\n",
      "Running LOO, sub no: 79\n",
      "Running LOO, sub no: 80\n",
      "Running LOO, sub no: 81\n",
      "Running LOO, sub no: 82\n",
      "Running LOO, sub no: 83\n",
      "Running LOO, sub no: 84\n",
      "Running LOO, sub no: 85\n",
      "Running LOO, sub no: 86\n",
      "Running LOO, sub no: 87\n",
      "Running LOO, sub no: 88\n",
      "Running LOO, sub no: 89\n",
      "Running LOO, sub no: 90\n",
      "Running LOO, sub no: 91\n",
      "Running LOO, sub no: 92\n",
      "Running LOO, sub no: 93\n",
      "Running LOO, sub no: 94\n",
      "Running LOO, sub no: 95\n",
      "Running LOO, sub no: 96\n",
      "Running LOO, sub no: 97\n",
      "Running LOO, sub no: 98\n",
      "Running LOO, sub no: 99\n",
      "Running LOO, sub no: 100\n",
      "Running LOO, sub no: 101\n",
      "Running LOO, sub no: 102\n",
      "Running LOO, sub no: 103\n",
      "Running LOO, sub no: 104\n",
      "Running LOO, sub no: 105\n",
      "Running LOO, sub no: 106\n",
      "Running LOO, sub no: 107\n",
      "Running LOO, sub no: 108\n",
      "Running LOO, sub no: 109\n",
      "Running LOO, sub no: 110\n",
      "Running LOO, sub no: 111\n",
      "Running LOO, sub no: 112\n",
      "Running LOO, sub no: 113\n",
      "Running LOO, sub no: 114\n",
      "Running LOO, sub no: 115\n",
      "Running LOO, sub no: 116\n",
      "Running LOO, sub no: 117\n",
      "Running LOO, sub no: 118\n",
      "Running LOO, sub no: 119\n",
      "Running LOO, sub no: 120\n",
      "Running LOO, sub no: 121\n",
      "Running LOO, sub no: 122\n",
      "Running LOO, sub no: 123\n",
      "Running LOO, sub no: 124\n",
      "Running LOO, sub no: 125\n",
      "Running LOO, sub no: 126\n",
      "Running LOO, sub no: 127\n",
      "Running LOO, sub no: 128\n",
      "Running LOO, sub no: 129\n",
      "Running LOO, sub no: 130\n",
      "Running LOO, sub no: 131\n",
      "Running LOO, sub no: 132\n",
      "Running LOO, sub no: 133\n"
     ]
    }
   ],
   "source": [
    "behav_pred_pos, behav_pred_neg = run_validate(X_strat_transposed, Y_strat, 'LOO')"
   ]
  },
  {
   "cell_type": "code",
   "execution_count": 39,
   "metadata": {},
   "outputs": [
    {
     "ename": "ValueError",
     "evalue": "array must not contain infs or NaNs",
     "output_type": "error",
     "traceback": [
      "\u001b[0;31m---------------------------------------------------------------------------\u001b[0m",
      "\u001b[0;31mValueError\u001b[0m                                Traceback (most recent call last)",
      "Cell \u001b[0;32mIn[39], line 6\u001b[0m\n\u001b[1;32m      1\u001b[0m res \u001b[38;5;241m=\u001b[39m {\n\u001b[1;32m      2\u001b[0m     \u001b[38;5;124m'\u001b[39m\u001b[38;5;124mno_files\u001b[39m\u001b[38;5;124m'\u001b[39m: \u001b[38;5;241m134\u001b[39m, \n\u001b[1;32m      3\u001b[0m     \u001b[38;5;124m'\u001b[39m\u001b[38;5;124mnoise\u001b[39m\u001b[38;5;124m'\u001b[39m: \u001b[38;5;241m0.0001\u001b[39m, \n\u001b[1;32m      4\u001b[0m     \u001b[38;5;124m'\u001b[39m\u001b[38;5;124mfc_gen_method\u001b[39m\u001b[38;5;124m'\u001b[39m: \u001b[38;5;124m'\u001b[39m\u001b[38;5;124mcompute_correlation\u001b[39m\u001b[38;5;124m'\u001b[39m, \n\u001b[1;32m      5\u001b[0m \u001b[38;5;66;03m#     'pearson_r_pos': pearsonr(behav_pred_pos,Y_strat)[0], \u001b[39;00m\n\u001b[0;32m----> 6\u001b[0m     \u001b[38;5;124m'\u001b[39m\u001b[38;5;124mpearson_r_neg\u001b[39m\u001b[38;5;124m'\u001b[39m: \u001b[43mpearsonr\u001b[49m\u001b[43m(\u001b[49m\u001b[43mbehav_pred_neg\u001b[49m\u001b[43m,\u001b[49m\u001b[43mY_strat\u001b[49m\u001b[43m)\u001b[49m[\u001b[38;5;241m0\u001b[39m],\n\u001b[1;32m      7\u001b[0m     \u001b[38;5;124m'\u001b[39m\u001b[38;5;124mspearman_rho_pos\u001b[39m\u001b[38;5;124m'\u001b[39m: spearmanr(behav_pred_pos,Y_strat)[\u001b[38;5;241m0\u001b[39m], \n\u001b[1;32m      8\u001b[0m \u001b[38;5;66;03m#     'spearman_rho_neg': spearmanr(behav_pred_neg,Y_strat)[0], \u001b[39;00m\n\u001b[1;32m      9\u001b[0m     \u001b[38;5;124m'\u001b[39m\u001b[38;5;124mr2_pos\u001b[39m\u001b[38;5;124m'\u001b[39m: r2_score(behav_pred_pos,Y_strat), \n\u001b[1;32m     10\u001b[0m \u001b[38;5;66;03m#     'r2_neg': r2_score(behav_pred_neg,Y_strat), \u001b[39;00m\n\u001b[1;32m     11\u001b[0m     \u001b[38;5;124m'\u001b[39m\u001b[38;5;124mmse_pos\u001b[39m\u001b[38;5;124m'\u001b[39m: mean_squared_error(behav_pred_pos,Y_strat),\n\u001b[1;32m     12\u001b[0m \u001b[38;5;66;03m#     'mse_neg': mean_squared_error(behav_pred_neg,Y_strat)\u001b[39;00m\n\u001b[1;32m     13\u001b[0m }\n\u001b[1;32m     15\u001b[0m \u001b[38;5;66;03m# results_df = pd.concat([results_df, pd.DataFrame([res])])\u001b[39;00m\n",
      "File \u001b[0;32m~/anaconda3/envs/test/lib/python3.11/site-packages/scipy/stats/_stats_py.py:4796\u001b[0m, in \u001b[0;36mpearsonr\u001b[0;34m(x, y, alternative, method)\u001b[0m\n\u001b[1;32m   4791\u001b[0m ym \u001b[38;5;241m=\u001b[39m y\u001b[38;5;241m.\u001b[39mastype(dtype) \u001b[38;5;241m-\u001b[39m ymean\n\u001b[1;32m   4793\u001b[0m \u001b[38;5;66;03m# Unlike np.linalg.norm or the expression sqrt((xm*xm).sum()),\u001b[39;00m\n\u001b[1;32m   4794\u001b[0m \u001b[38;5;66;03m# scipy.linalg.norm(xm) does not overflow if xm is, for example,\u001b[39;00m\n\u001b[1;32m   4795\u001b[0m \u001b[38;5;66;03m# [-5e210, 5e210, 3e200, -3e200]\u001b[39;00m\n\u001b[0;32m-> 4796\u001b[0m normxm \u001b[38;5;241m=\u001b[39m \u001b[43mlinalg\u001b[49m\u001b[38;5;241;43m.\u001b[39;49m\u001b[43mnorm\u001b[49m\u001b[43m(\u001b[49m\u001b[43mxm\u001b[49m\u001b[43m)\u001b[49m\n\u001b[1;32m   4797\u001b[0m normym \u001b[38;5;241m=\u001b[39m linalg\u001b[38;5;241m.\u001b[39mnorm(ym)\n\u001b[1;32m   4799\u001b[0m threshold \u001b[38;5;241m=\u001b[39m \u001b[38;5;241m1e-13\u001b[39m\n",
      "File \u001b[0;32m~/anaconda3/envs/test/lib/python3.11/site-packages/scipy/linalg/_misc.py:146\u001b[0m, in \u001b[0;36mnorm\u001b[0;34m(a, ord, axis, keepdims, check_finite)\u001b[0m\n\u001b[1;32m    144\u001b[0m \u001b[38;5;66;03m# Differs from numpy only in non-finite handling and the use of blas.\u001b[39;00m\n\u001b[1;32m    145\u001b[0m \u001b[38;5;28;01mif\u001b[39;00m check_finite:\n\u001b[0;32m--> 146\u001b[0m     a \u001b[38;5;241m=\u001b[39m \u001b[43mnp\u001b[49m\u001b[38;5;241;43m.\u001b[39;49m\u001b[43masarray_chkfinite\u001b[49m\u001b[43m(\u001b[49m\u001b[43ma\u001b[49m\u001b[43m)\u001b[49m\n\u001b[1;32m    147\u001b[0m \u001b[38;5;28;01melse\u001b[39;00m:\n\u001b[1;32m    148\u001b[0m     a \u001b[38;5;241m=\u001b[39m np\u001b[38;5;241m.\u001b[39masarray(a)\n",
      "File \u001b[0;32m~/anaconda3/envs/test/lib/python3.11/site-packages/numpy/lib/function_base.py:627\u001b[0m, in \u001b[0;36masarray_chkfinite\u001b[0;34m(a, dtype, order)\u001b[0m\n\u001b[1;32m    625\u001b[0m a \u001b[38;5;241m=\u001b[39m asarray(a, dtype\u001b[38;5;241m=\u001b[39mdtype, order\u001b[38;5;241m=\u001b[39morder)\n\u001b[1;32m    626\u001b[0m \u001b[38;5;28;01mif\u001b[39;00m a\u001b[38;5;241m.\u001b[39mdtype\u001b[38;5;241m.\u001b[39mchar \u001b[38;5;129;01min\u001b[39;00m typecodes[\u001b[38;5;124m'\u001b[39m\u001b[38;5;124mAllFloat\u001b[39m\u001b[38;5;124m'\u001b[39m] \u001b[38;5;129;01mand\u001b[39;00m \u001b[38;5;129;01mnot\u001b[39;00m np\u001b[38;5;241m.\u001b[39misfinite(a)\u001b[38;5;241m.\u001b[39mall():\n\u001b[0;32m--> 627\u001b[0m     \u001b[38;5;28;01mraise\u001b[39;00m \u001b[38;5;167;01mValueError\u001b[39;00m(\n\u001b[1;32m    628\u001b[0m         \u001b[38;5;124m\"\u001b[39m\u001b[38;5;124marray must not contain infs or NaNs\u001b[39m\u001b[38;5;124m\"\u001b[39m)\n\u001b[1;32m    629\u001b[0m \u001b[38;5;28;01mreturn\u001b[39;00m a\n",
      "\u001b[0;31mValueError\u001b[0m: array must not contain infs or NaNs"
     ]
    }
   ],
   "source": [
    "res = {\n",
    "    'no_files': 134, \n",
    "    'noise': 0.0001, \n",
    "    'fc_gen_method': 'compute_correlation', \n",
    "#     'pearson_r_pos': pearsonr(behav_pred_pos,Y_strat)[0], \n",
    "    'pearson_r_neg': pearsonr(behav_pred_neg,Y_strat)[0],\n",
    "    'spearman_rho_pos': spearmanr(behav_pred_pos,Y_strat)[0], \n",
    "#     'spearman_rho_neg': spearmanr(behav_pred_neg,Y_strat)[0], \n",
    "    'r2_pos': r2_score(behav_pred_pos,Y_strat), \n",
    "#     'r2_neg': r2_score(behav_pred_neg,Y_strat), \n",
    "    'mse_pos': mean_squared_error(behav_pred_pos,Y_strat),\n",
    "#     'mse_neg': mean_squared_error(behav_pred_neg,Y_strat)\n",
    "}\n",
    "\n",
    "# results_df = pd.concat([results_df, pd.DataFrame([res])])"
   ]
  },
  {
   "cell_type": "code",
   "execution_count": 34,
   "metadata": {},
   "outputs": [
    {
     "data": {
      "text/plain": [
       "{'no_files': 63,\n",
       " 'noise': 0.0001,\n",
       " 'fc_gen_method': 'normalise_correlate_fc',\n",
       " 'pearson_r_pos': -0.40155291975084756,\n",
       " 'spearman_rho_pos': -0.4642283123587598,\n",
       " 'r2_pos': -17.092593933388294,\n",
       " 'mse_pos': 0.9686637137868409}"
      ]
     },
     "execution_count": 34,
     "metadata": {},
     "output_type": "execute_result"
    }
   ],
   "source": [
    "res"
   ]
  },
  {
   "cell_type": "markdown",
   "metadata": {},
   "source": [
    "### 'Equal' Sampling"
   ]
  },
  {
   "cell_type": "code",
   "execution_count": 79,
   "metadata": {},
   "outputs": [
    {
     "data": {
      "text/plain": [
       "(39, 7)"
      ]
     },
     "execution_count": 79,
     "metadata": {},
     "output_type": "execute_result"
    }
   ],
   "source": [
    "# Want a sample of size 50 - get 6 from each bucket\n",
    "\n",
    "sample_eq_df = None\n",
    "sample_n = 5\n",
    "\n",
    "for i in range(n_buckets):\n",
    "    bucket = buckets.get(i)\n",
    "    if bucket is not None:\n",
    "        f = bucket.shape[0]\n",
    "        bucket_n = sample_n if f > sample_n else f\n",
    "        \n",
    "        random = bucket.sample(bucket_n)\n",
    "        sample_eq_df = pd.concat([sample_eq_df, random])\n",
    "\n",
    "sample_eq_df = sample_eq_df.reset_index(drop=True)\n",
    "sample_eq_df.shape"
   ]
  },
  {
   "cell_type": "code",
   "execution_count": 80,
   "metadata": {},
   "outputs": [
    {
     "data": {
      "text/html": [
       "<div>\n",
       "<style scoped>\n",
       "    .dataframe tbody tr th:only-of-type {\n",
       "        vertical-align: middle;\n",
       "    }\n",
       "\n",
       "    .dataframe tbody tr th {\n",
       "        vertical-align: top;\n",
       "    }\n",
       "\n",
       "    .dataframe thead th {\n",
       "        text-align: right;\n",
       "    }\n",
       "</style>\n",
       "<table border=\"1\" class=\"dataframe\">\n",
       "  <thead>\n",
       "    <tr style=\"text-align: right;\">\n",
       "      <th></th>\n",
       "      <th>Unnamed: 0.1</th>\n",
       "      <th>Unnamed: 0</th>\n",
       "      <th>RID</th>\n",
       "      <th>VISCODE2</th>\n",
       "      <th>TOTSCORE</th>\n",
       "      <th>FC_DATA</th>\n",
       "      <th>FC_DATA_197</th>\n",
       "    </tr>\n",
       "  </thead>\n",
       "  <tbody>\n",
       "    <tr>\n",
       "      <th>0</th>\n",
       "      <td>1156</td>\n",
       "      <td>7074</td>\n",
       "      <td>4332</td>\n",
       "      <td>M066</td>\n",
       "      <td>1.67</td>\n",
       "      <td>../../FMRI_ADNI_DATA/fc/sub-ADNI068S4332_ses-M...</td>\n",
       "      <td>../../FMRI_ADNI_DATA/fc/sub-ADNI068S4332_ses-M...</td>\n",
       "    </tr>\n",
       "    <tr>\n",
       "      <th>1</th>\n",
       "      <td>821</td>\n",
       "      <td>6075</td>\n",
       "      <td>4340</td>\n",
       "      <td>M096</td>\n",
       "      <td>4.67</td>\n",
       "      <td>../../FMRI_ADNI_DATA/fc/sub-ADNI068S4340_ses-M...</td>\n",
       "      <td>../../FMRI_ADNI_DATA/fc/sub-ADNI068S4340_ses-M...</td>\n",
       "    </tr>\n",
       "    <tr>\n",
       "      <th>2</th>\n",
       "      <td>443</td>\n",
       "      <td>5168</td>\n",
       "      <td>1280</td>\n",
       "      <td>M120</td>\n",
       "      <td>4.67</td>\n",
       "      <td>../../FMRI_ADNI_DATA/fc/sub-ADNI002S1280_ses-M...</td>\n",
       "      <td>../../FMRI_ADNI_DATA/fc/sub-ADNI002S1280_ses-M...</td>\n",
       "    </tr>\n",
       "    <tr>\n",
       "      <th>3</th>\n",
       "      <td>723</td>\n",
       "      <td>5794</td>\n",
       "      <td>6076</td>\n",
       "      <td>M012</td>\n",
       "      <td>5.00</td>\n",
       "      <td>../../FMRI_ADNI_DATA/fc/sub-ADNI014S6076_ses-M...</td>\n",
       "      <td>../../FMRI_ADNI_DATA/fc/sub-ADNI014S6076_ses-M...</td>\n",
       "    </tr>\n",
       "    <tr>\n",
       "      <th>4</th>\n",
       "      <td>1095</td>\n",
       "      <td>6928</td>\n",
       "      <td>473</td>\n",
       "      <td>M138</td>\n",
       "      <td>4.33</td>\n",
       "      <td>../../FMRI_ADNI_DATA/fc/sub-ADNI068S0473_ses-M...</td>\n",
       "      <td>../../FMRI_ADNI_DATA/fc/sub-ADNI068S0473_ses-M...</td>\n",
       "    </tr>\n",
       "  </tbody>\n",
       "</table>\n",
       "</div>"
      ],
      "text/plain": [
       "   Unnamed: 0.1  Unnamed: 0   RID VISCODE2  TOTSCORE  \\\n",
       "0          1156        7074  4332     M066      1.67   \n",
       "1           821        6075  4340     M096      4.67   \n",
       "2           443        5168  1280     M120      4.67   \n",
       "3           723        5794  6076     M012      5.00   \n",
       "4          1095        6928   473     M138      4.33   \n",
       "\n",
       "                                             FC_DATA  \\\n",
       "0  ../../FMRI_ADNI_DATA/fc/sub-ADNI068S4332_ses-M...   \n",
       "1  ../../FMRI_ADNI_DATA/fc/sub-ADNI068S4340_ses-M...   \n",
       "2  ../../FMRI_ADNI_DATA/fc/sub-ADNI002S1280_ses-M...   \n",
       "3  ../../FMRI_ADNI_DATA/fc/sub-ADNI014S6076_ses-M...   \n",
       "4  ../../FMRI_ADNI_DATA/fc/sub-ADNI068S0473_ses-M...   \n",
       "\n",
       "                                         FC_DATA_197  \n",
       "0  ../../FMRI_ADNI_DATA/fc/sub-ADNI068S4332_ses-M...  \n",
       "1  ../../FMRI_ADNI_DATA/fc/sub-ADNI068S4340_ses-M...  \n",
       "2  ../../FMRI_ADNI_DATA/fc/sub-ADNI002S1280_ses-M...  \n",
       "3  ../../FMRI_ADNI_DATA/fc/sub-ADNI014S6076_ses-M...  \n",
       "4  ../../FMRI_ADNI_DATA/fc/sub-ADNI068S0473_ses-M...  "
      ]
     },
     "execution_count": 80,
     "metadata": {},
     "output_type": "execute_result"
    }
   ],
   "source": [
    "sample_eq_df.head()"
   ]
  },
  {
   "cell_type": "code",
   "execution_count": 81,
   "metadata": {},
   "outputs": [],
   "source": [
    "dim_x = len(sample_eq_df)\n",
    "X_eq = []\n",
    "\n",
    "for i, file in enumerate(sample_eq_df['FC_DATA'].values):\n",
    "    arr = loadmat(file)['ROI_activity'][:100, :] # get the first 100 regions\n",
    "    fc = compute_correlation(arr)\n",
    "    \n",
    "    # Add noise along the diagonal\n",
    "    noise_level = 0.0001  # Adjust this value as needed\n",
    "    noise = np.random.randn(100) * noise_level\n",
    "    fc_with_noise = fc + np.diag(noise)\n",
    "    \n",
    "    X_eq.append(fc_with_noise)\n",
    "X_eq = np.array(X_eq)"
   ]
  },
  {
   "cell_type": "code",
   "execution_count": 82,
   "metadata": {},
   "outputs": [
    {
     "name": "stdout",
     "output_type": "stream",
     "text": [
      "(39,)\n",
      "(100, 100, 39)\n"
     ]
    }
   ],
   "source": [
    "Y_eq = sample_eq_df['TOTSCORE']\n",
    "print(Y_eq.shape)\n",
    "\n",
    "X_eq_transposed = np.transpose(X_eq, (1, 2, 0))\n",
    "print(X_eq_transposed.shape)"
   ]
  },
  {
   "cell_type": "code",
   "execution_count": 83,
   "metadata": {},
   "outputs": [
    {
     "name": "stdout",
     "output_type": "stream",
     "text": [
      "Running LOO, sub no: 0\n",
      "Running LOO, sub no: 1\n",
      "Running LOO, sub no: 2\n",
      "Running LOO, sub no: 3\n",
      "Running LOO, sub no: 4\n",
      "Running LOO, sub no: 5\n",
      "Running LOO, sub no: 6\n",
      "Running LOO, sub no: 7\n",
      "Running LOO, sub no: 8\n",
      "Running LOO, sub no: 9\n",
      "Running LOO, sub no: 10\n",
      "Running LOO, sub no: 11\n",
      "Running LOO, sub no: 12\n",
      "Running LOO, sub no: 13\n",
      "Running LOO, sub no: 14\n",
      "Running LOO, sub no: 15\n",
      "Running LOO, sub no: 16\n",
      "Running LOO, sub no: 17\n",
      "Running LOO, sub no: 18\n",
      "Running LOO, sub no: 19\n",
      "Running LOO, sub no: 20\n",
      "Running LOO, sub no: 21\n",
      "Running LOO, sub no: 22\n",
      "Running LOO, sub no: 23\n",
      "Running LOO, sub no: 24\n",
      "Running LOO, sub no: 25\n",
      "Running LOO, sub no: 26\n",
      "Running LOO, sub no: 27\n",
      "Running LOO, sub no: 28\n",
      "Running LOO, sub no: 29\n",
      "Running LOO, sub no: 30\n",
      "Running LOO, sub no: 31\n",
      "Running LOO, sub no: 32\n",
      "Running LOO, sub no: 33\n",
      "Running LOO, sub no: 34\n",
      "Running LOO, sub no: 35\n",
      "Running LOO, sub no: 36\n",
      "Running LOO, sub no: 37\n",
      "Running LOO, sub no: 38\n"
     ]
    }
   ],
   "source": [
    "behav_pred_pos, behav_pred_neg = run_validate(X_eq_transposed, Y_eq, 'LOO')"
   ]
  },
  {
   "cell_type": "code",
   "execution_count": 84,
   "metadata": {},
   "outputs": [
    {
     "data": {
      "text/plain": [
       "{'no_files': 39,\n",
       " 'noise': 0.0001,\n",
       " 'fc_gen_method': 'compute_correlation',\n",
       " 'pearson_r_pos': 0.15698872895196034,\n",
       " 'pearson_r_neg': -0.10428413042131843,\n",
       " 'spearman_rho_pos': 0.14092635227392156,\n",
       " 'spearman_rho_neg': -0.07734750943769832,\n",
       " 'r2_pos': -3.7722817938565507,\n",
       " 'r2_neg': -3.0657579463697306,\n",
       " 'mse_pos': 191.68089716574656,\n",
       " 'mse_neg': 266.16074672886043}"
      ]
     },
     "execution_count": 84,
     "metadata": {},
     "output_type": "execute_result"
    }
   ],
   "source": [
    "res = {\n",
    "    'no_files': 39, \n",
    "    'noise': 0.0001, \n",
    "    'fc_gen_method': 'compute_correlation', \n",
    "    'pearson_r_pos': pearsonr(behav_pred_pos,Y_eq)[0], \n",
    "    'pearson_r_neg': pearsonr(behav_pred_neg,Y_eq)[0],\n",
    "    'spearman_rho_pos': spearmanr(behav_pred_pos,Y_eq)[0], \n",
    "    'spearman_rho_neg': spearmanr(behav_pred_neg,Y_eq)[0], \n",
    "    'r2_pos': r2_score(behav_pred_pos,Y_eq), \n",
    "    'r2_neg': r2_score(behav_pred_neg,Y_eq), \n",
    "    'mse_pos': mean_squared_error(behav_pred_pos,Y_eq),\n",
    "    'mse_neg': mean_squared_error(behav_pred_neg,Y_eq)\n",
    "}\n",
    "res"
   ]
  },
  {
   "cell_type": "markdown",
   "metadata": {},
   "source": [
    "### Try Larger Sample"
   ]
  },
  {
   "cell_type": "code",
   "execution_count": 5,
   "metadata": {},
   "outputs": [
    {
     "data": {
      "text/plain": [
       "(1340, 5)"
      ]
     },
     "execution_count": 5,
     "metadata": {},
     "output_type": "execute_result"
    }
   ],
   "source": [
    "ADAS_DATA_ALL = '../data/ADAS_ADNIGO23_17Apr2024_FILTERED_wfiles.csv'\n",
    "df_all = pd.read_csv(ADAS_DATA_ALL)\n",
    "df_all.shape"
   ]
  },
  {
   "cell_type": "code",
   "execution_count": 12,
   "metadata": {},
   "outputs": [
    {
     "data": {
      "image/png": "[encoded data removed]",
      "text/plain": [
       "<Figure size 800x600 with 1 Axes>"
      ]
     },
     "metadata": {},
     "output_type": "display_data"
    }
   ],
   "source": [
    "plt.figure(figsize=(8, 6))\n",
    "plt.hist(df_all['TOTSCORE'], bins=20, color='skyblue', edgecolor='black')\n",
    "plt.title('Distribution of ADAS-Cog Scores in Participants')\n",
    "plt.xlabel('ADAS-Cog Score')\n",
    "plt.ylabel('Frequency')\n",
    "plt.grid(True)\n",
    "plt.axis('on')\n",
    "# plt.savefig('../data/adas_score_dist_20.png')\n",
    "\n",
    "plt.show()"
   ]
  },
  {
   "cell_type": "code",
   "execution_count": 6,
   "metadata": {},
   "outputs": [],
   "source": [
    "# Define the number of buckets\n",
    "n_buckets = 10\n",
    "\n",
    "# Define the bins for splitting the column into buckets\n",
    "bins = pd.cut(df_all['TOTSCORE'], bins=n_buckets, labels=False)"
   ]
  },
  {
   "cell_type": "code",
   "execution_count": 7,
   "metadata": {},
   "outputs": [
    {
     "data": {
      "text/plain": [
       "0       0\n",
       "1       1\n",
       "2       0\n",
       "3       0\n",
       "4       1\n",
       "       ..\n",
       "1335    0\n",
       "1336    2\n",
       "1337    0\n",
       "1338    3\n",
       "1339    0\n",
       "Name: TOTSCORE, Length: 1340, dtype: int64"
      ]
     },
     "execution_count": 7,
     "metadata": {},
     "output_type": "execute_result"
    }
   ],
   "source": [
    "bins"
   ]
  },
  {
   "cell_type": "code",
   "execution_count": 14,
   "metadata": {},
   "outputs": [
    {
     "name": "stdout",
     "output_type": "stream",
     "text": [
      "Bucket 0:\n",
      "(523, 5)\n",
      "Bucket 1:\n",
      "(493, 5)\n",
      "Bucket 2:\n",
      "(174, 5)\n",
      "Bucket 3:\n",
      "(83, 5)\n",
      "Bucket 4:\n",
      "(41, 5)\n",
      "Bucket 5:\n",
      "(10, 5)\n",
      "Bucket 6:\n",
      "(8, 5)\n",
      "Bucket 7:\n",
      "(5, 5)\n",
      "Bucket 9:\n",
      "(3, 5)\n"
     ]
    }
   ],
   "source": [
    "buckets = {i: group for i, group in df_all.groupby(bins)}\n",
    "\n",
    "for i in range(n_buckets):\n",
    "    bucket = buckets.get(i)\n",
    "    if bucket is not None:\n",
    "        print(f\"Bucket {i}:\")\n",
    "        print(bucket.shape)"
   ]
  },
  {
   "cell_type": "code",
   "execution_count": 46,
   "metadata": {},
   "outputs": [
    {
     "name": "stdout",
     "output_type": "stream",
     "text": [
      "52\n",
      "49\n",
      "17\n",
      "8\n",
      "4\n",
      "1\n",
      "1\n",
      "1\n",
      "1\n"
     ]
    },
    {
     "data": {
      "text/plain": [
       "(134, 5)"
      ]
     },
     "execution_count": 46,
     "metadata": {},
     "output_type": "execute_result"
    }
   ],
   "source": [
    "# Want a sample of size 50 - get 5 from each bucket\n",
    "\n",
    "# sample_eq_df = None\n",
    "# sample_n = 6\n",
    "\n",
    "# for i in range(n_buckets):\n",
    "#     bucket = buckets.get(i)\n",
    "#     if bucket is not None:\n",
    "#         f = bucket.shape[0]\n",
    "#         bucket_n = sample_n if f > sample_n else f\n",
    "        \n",
    "#         random = bucket.sample(bucket_n)\n",
    "#         sample_eq_df = pd.concat([sample_eq_df, random])\n",
    "\n",
    "# sample_eq_df = sample_eq_df.reset_index(drop=True)\n",
    "# sample_eq_df.shape\n",
    "\n",
    "# Stratified\n",
    "\n",
    "sample_df = None\n",
    "total_sample = 0\n",
    "\n",
    "for i in range(n_buckets):\n",
    "    bucket = buckets.get(i)\n",
    "    if bucket is not None:\n",
    "        f = bucket.shape[0]\n",
    "        sample_n = 1 if f * 0.1 < 1 else round(f * 0.1)\n",
    "        print(sample_n)\n",
    "        \n",
    "        random = bucket.sample(sample_n)\n",
    "        sample_df = pd.concat([sample_df, random])\n",
    "\n",
    "sample_df = sample_df.reset_index(drop=True)\n",
    "sample_df.shape"
   ]
  },
  {
   "cell_type": "code",
   "execution_count": null,
   "metadata": {},
   "outputs": [],
   "source": [
    "# sample_eq_df"
   ]
  },
  {
   "cell_type": "code",
   "execution_count": 54,
   "metadata": {},
   "outputs": [
    {
     "name": "stdout",
     "output_type": "stream",
     "text": [
      "(134,)\n",
      "(100, 100, 134)\n"
     ]
    }
   ],
   "source": [
    "dim_x = len(sample_df)\n",
    "X_strat = []\n",
    "\n",
    "for i, file in enumerate(sample_df['FC_DATA'].values):\n",
    "    arr = loadmat(file)['ROI_activity'][:100, :] # get the first 100 regions\n",
    "    fc = compute_correlation(arr)\n",
    "    \n",
    "    # Add noise along the diagonal\n",
    "    noise_level = 0.0001  # Adjust this value as needed\n",
    "    noise = np.random.randn(100) * noise_level\n",
    "    fc_with_noise = fc + np.diag(noise)\n",
    "    \n",
    "    X_strat.append(fc_with_noise)\n",
    "X_strat = np.array(X_strat)\n",
    "\n",
    "Y_strat = sample_df['TOTSCORE']\n",
    "print(Y_strat.shape)\n",
    "\n",
    "X_strat_transposed = np.transpose(X_strat, (1, 2, 0))\n",
    "print(X_strat_transposed.shape)"
   ]
  },
  {
   "cell_type": "code",
   "execution_count": null,
   "metadata": {},
   "outputs": [],
   "source": [
    "behav_pred_pos, behav_pred_neg = run_validate(X_strat_transposed, Y_strat, 'LOO')"
   ]
  },
  {
   "cell_type": "code",
   "execution_count": 57,
   "metadata": {},
   "outputs": [
    {
     "data": {
      "text/plain": [
       "{'no_files': 134,\n",
       " 'noise': 0.0001,\n",
       " 'fc_gen_method': 'compute_correlation',\n",
       " 'pearson_r_pos': 0.12093623752690097,\n",
       " 'spearman_rho_pos': 0.11000444901836241,\n",
       " 'r2_pos': -14.254429822692055,\n",
       " 'mse_pos': 68.09069997573967}"
      ]
     },
     "execution_count": 57,
     "metadata": {},
     "output_type": "execute_result"
    }
   ],
   "source": [
    "# print(behav_pred_neg)\n",
    "\n",
    "# print(np.array(Y_strat))\n",
    "\n",
    "\n",
    "res = {\n",
    "    'no_files': 134, \n",
    "    'noise': 0.0001, \n",
    "    'fc_gen_method': 'compute_correlation', \n",
    "    'pearson_r_pos': pearsonr(behav_pred_pos,Y_strat)[0], \n",
    "#     'pearson_r_neg': pearsonr(behav_pred_neg,Y_strat)[0],\n",
    "    'spearman_rho_pos': spearmanr(behav_pred_pos,Y_strat)[0], \n",
    "#     'spearman_rho_neg': spearmanr(behav_pred_neg,Y_strat)[0], \n",
    "    'r2_pos': r2_score(behav_pred_pos,Y_strat), \n",
    "#     'r2_neg': r2_score(behav_pred_neg,Y_strat), \n",
    "    'mse_pos': mean_squared_error(behav_pred_pos,Y_strat),\n",
    "#     'mse_neg': mean_squared_error(behav_pred_neg,Y_strat)\n",
    "}\n",
    "res"
   ]
  },
  {
   "cell_type": "code",
   "execution_count": null,
   "metadata": {},
   "outputs": [],
   "source": []
  }
 ],
 "metadata": {
  "kernelspec": {
   "display_name": "Python3.11 (test)",
   "language": "python",
   "name": "python311_test"
  },
  "language_info": {
   "codemirror_mode": {
    "name": "ipython",
    "version": 3
   },
   "file_extension": ".py",
   "mimetype": "text/x-python",
   "name": "python",
   "nbconvert_exporter": "python",
   "pygments_lexer": "ipython3",
   "version": "3.11.5"
  }
 },
 "nbformat": 4,
 "nbformat_minor": 2
}
