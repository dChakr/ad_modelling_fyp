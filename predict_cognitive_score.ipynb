{
 "cells": [
  {
   "cell_type": "markdown",
   "metadata": {},
   "source": [
    "# Predict Composite Cognitive Score \n",
    "Predict the composite cognitive score of a set of ADNI patients using Random Forrest and SVM methods. \n",
    "\n",
    "We are using the four ADSP-PHC composite scores for *Memory, Executive Function, Language and Visuospatial Ability*. The methods for deriving these are described in 'ADSP Phenotype Harmonization Consortium – Derivation of Cognitive Composite Scores' by Mukherjee et al (https://ida.loni.usc.edu/download/files/study/083f5b49-98d1-494a-aaf1-3310a9a8e62c/file/adni/ADNI_Cognition_Methods_Psychometric_Analyses_Oct2022.pdf)."
   ]
  },
  {
   "cell_type": "code",
   "execution_count": 3,
   "metadata": {},
   "outputs": [],
   "source": [
    "import pandas as pd\n",
    "import sys\n",
    "import os\n",
    "import numpy as np\n",
    "from scipy.io import loadmat\n",
    "\n",
    "# scikit-learn modules\n",
    "from sklearn.model_selection import train_test_split # for splitting the data\n",
    "from sklearn.metrics import mean_squared_error # for calculating the cost function\n",
    "from sklearn.ensemble import RandomForestRegressor # for building the model\n",
    "\n",
    "import matplotlib.pyplot as plt "
   ]
  },
  {
   "cell_type": "markdown",
   "metadata": {},
   "source": [
    "## Processing Data\n",
    "\n",
    "Match up the composite cognitive scores and functional connectivity data, then split into test + training sets"
   ]
  },
  {
   "cell_type": "code",
   "execution_count": 4,
   "metadata": {},
   "outputs": [],
   "source": [
    "ADSP_DATA_PATH = \"data/ADSP_PHC_COGN_Dec2023_FILTERED.csv\"\n",
    "FC_DATA_PATH = \"../FMRI_ADNI_DATA/fc/\""
   ]
  },
  {
   "cell_type": "code",
   "execution_count": 5,
   "metadata": {},
   "outputs": [
    {
     "data": {
      "text/html": [
       "<div>\n",
       "<style scoped>\n",
       "    .dataframe tbody tr th:only-of-type {\n",
       "        vertical-align: middle;\n",
       "    }\n",
       "\n",
       "    .dataframe tbody tr th {\n",
       "        vertical-align: top;\n",
       "    }\n",
       "\n",
       "    .dataframe thead th {\n",
       "        text-align: right;\n",
       "    }\n",
       "</style>\n",
       "<table border=\"1\" class=\"dataframe\">\n",
       "  <thead>\n",
       "    <tr style=\"text-align: right;\">\n",
       "      <th></th>\n",
       "      <th>RID</th>\n",
       "      <th>SUBJID</th>\n",
       "      <th>PHASE</th>\n",
       "      <th>VISCODE</th>\n",
       "      <th>VISCODE2</th>\n",
       "      <th>EXAMDATE</th>\n",
       "      <th>PHC_Visit</th>\n",
       "      <th>PHC_Sex</th>\n",
       "      <th>PHC_Education</th>\n",
       "      <th>PHC_Ethnicity</th>\n",
       "      <th>...</th>\n",
       "      <th>PHC_MEM_PreciseFilter</th>\n",
       "      <th>PHC_EXF</th>\n",
       "      <th>PHC_EXF_SE</th>\n",
       "      <th>PHC_EXF_PreciseFilter</th>\n",
       "      <th>PHC_LAN</th>\n",
       "      <th>PHC_LAN_SE</th>\n",
       "      <th>PHC_LAN_PreciseFilter</th>\n",
       "      <th>PHC_VSP</th>\n",
       "      <th>PHC_VSP_SE</th>\n",
       "      <th>PHC_VSP_PreciseFilter</th>\n",
       "    </tr>\n",
       "  </thead>\n",
       "  <tbody>\n",
       "    <tr>\n",
       "      <th>0</th>\n",
       "      <td>21</td>\n",
       "      <td>ADNI_011_S_0021</td>\n",
       "      <td>ADNI1</td>\n",
       "      <td>bl</td>\n",
       "      <td>bl</td>\n",
       "      <td>2005-10-24</td>\n",
       "      <td>1</td>\n",
       "      <td>2.0</td>\n",
       "      <td>18.0</td>\n",
       "      <td>2.0</td>\n",
       "      <td>...</td>\n",
       "      <td>1</td>\n",
       "      <td>0.295</td>\n",
       "      <td>0.335</td>\n",
       "      <td>1.0</td>\n",
       "      <td>0.816</td>\n",
       "      <td>0.304</td>\n",
       "      <td>1.0</td>\n",
       "      <td>0.264</td>\n",
       "      <td>0.547</td>\n",
       "      <td>1.0</td>\n",
       "    </tr>\n",
       "    <tr>\n",
       "      <th>1</th>\n",
       "      <td>21</td>\n",
       "      <td>ADNI_011_S_0021</td>\n",
       "      <td>ADNI1</td>\n",
       "      <td>m06</td>\n",
       "      <td>m06</td>\n",
       "      <td>2006-04-24</td>\n",
       "      <td>2</td>\n",
       "      <td>2.0</td>\n",
       "      <td>18.0</td>\n",
       "      <td>2.0</td>\n",
       "      <td>...</td>\n",
       "      <td>1</td>\n",
       "      <td>0.374</td>\n",
       "      <td>0.346</td>\n",
       "      <td>1.0</td>\n",
       "      <td>1.372</td>\n",
       "      <td>0.384</td>\n",
       "      <td>1.0</td>\n",
       "      <td>-0.333</td>\n",
       "      <td>0.464</td>\n",
       "      <td>1.0</td>\n",
       "    </tr>\n",
       "    <tr>\n",
       "      <th>2</th>\n",
       "      <td>21</td>\n",
       "      <td>ADNI_011_S_0021</td>\n",
       "      <td>ADNI1</td>\n",
       "      <td>m12</td>\n",
       "      <td>m12</td>\n",
       "      <td>2006-11-01</td>\n",
       "      <td>3</td>\n",
       "      <td>2.0</td>\n",
       "      <td>18.0</td>\n",
       "      <td>2.0</td>\n",
       "      <td>...</td>\n",
       "      <td>1</td>\n",
       "      <td>0.451</td>\n",
       "      <td>0.388</td>\n",
       "      <td>1.0</td>\n",
       "      <td>1.813</td>\n",
       "      <td>0.368</td>\n",
       "      <td>1.0</td>\n",
       "      <td>0.264</td>\n",
       "      <td>0.547</td>\n",
       "      <td>1.0</td>\n",
       "    </tr>\n",
       "    <tr>\n",
       "      <th>3</th>\n",
       "      <td>21</td>\n",
       "      <td>ADNI_011_S_0021</td>\n",
       "      <td>ADNI1</td>\n",
       "      <td>m24</td>\n",
       "      <td>m24</td>\n",
       "      <td>2007-10-31</td>\n",
       "      <td>4</td>\n",
       "      <td>2.0</td>\n",
       "      <td>18.0</td>\n",
       "      <td>2.0</td>\n",
       "      <td>...</td>\n",
       "      <td>1</td>\n",
       "      <td>0.534</td>\n",
       "      <td>0.351</td>\n",
       "      <td>1.0</td>\n",
       "      <td>1.170</td>\n",
       "      <td>0.316</td>\n",
       "      <td>1.0</td>\n",
       "      <td>0.264</td>\n",
       "      <td>0.547</td>\n",
       "      <td>1.0</td>\n",
       "    </tr>\n",
       "    <tr>\n",
       "      <th>4</th>\n",
       "      <td>21</td>\n",
       "      <td>ADNI_011_S_0021</td>\n",
       "      <td>ADNI1</td>\n",
       "      <td>m36</td>\n",
       "      <td>m36</td>\n",
       "      <td>2008-10-22</td>\n",
       "      <td>5</td>\n",
       "      <td>2.0</td>\n",
       "      <td>18.0</td>\n",
       "      <td>2.0</td>\n",
       "      <td>...</td>\n",
       "      <td>1</td>\n",
       "      <td>0.669</td>\n",
       "      <td>0.424</td>\n",
       "      <td>1.0</td>\n",
       "      <td>1.274</td>\n",
       "      <td>0.342</td>\n",
       "      <td>1.0</td>\n",
       "      <td>0.963</td>\n",
       "      <td>0.658</td>\n",
       "      <td>0.0</td>\n",
       "    </tr>\n",
       "  </tbody>\n",
       "</table>\n",
       "<p>5 rows × 25 columns</p>\n",
       "</div>"
      ],
      "text/plain": [
       "   RID           SUBJID  PHASE VISCODE VISCODE2    EXAMDATE  PHC_Visit  \\\n",
       "0   21  ADNI_011_S_0021  ADNI1      bl       bl  2005-10-24          1   \n",
       "1   21  ADNI_011_S_0021  ADNI1     m06      m06  2006-04-24          2   \n",
       "2   21  ADNI_011_S_0021  ADNI1     m12      m12  2006-11-01          3   \n",
       "3   21  ADNI_011_S_0021  ADNI1     m24      m24  2007-10-31          4   \n",
       "4   21  ADNI_011_S_0021  ADNI1     m36      m36  2008-10-22          5   \n",
       "\n",
       "   PHC_Sex  PHC_Education  PHC_Ethnicity  ...  PHC_MEM_PreciseFilter  PHC_EXF  \\\n",
       "0      2.0           18.0            2.0  ...                      1    0.295   \n",
       "1      2.0           18.0            2.0  ...                      1    0.374   \n",
       "2      2.0           18.0            2.0  ...                      1    0.451   \n",
       "3      2.0           18.0            2.0  ...                      1    0.534   \n",
       "4      2.0           18.0            2.0  ...                      1    0.669   \n",
       "\n",
       "   PHC_EXF_SE  PHC_EXF_PreciseFilter  PHC_LAN  PHC_LAN_SE  \\\n",
       "0       0.335                    1.0    0.816       0.304   \n",
       "1       0.346                    1.0    1.372       0.384   \n",
       "2       0.388                    1.0    1.813       0.368   \n",
       "3       0.351                    1.0    1.170       0.316   \n",
       "4       0.424                    1.0    1.274       0.342   \n",
       "\n",
       "   PHC_LAN_PreciseFilter  PHC_VSP  PHC_VSP_SE  PHC_VSP_PreciseFilter  \n",
       "0                    1.0    0.264       0.547                    1.0  \n",
       "1                    1.0   -0.333       0.464                    1.0  \n",
       "2                    1.0    0.264       0.547                    1.0  \n",
       "3                    1.0    0.264       0.547                    1.0  \n",
       "4                    1.0    0.963       0.658                    0.0  \n",
       "\n",
       "[5 rows x 25 columns]"
      ]
     },
     "execution_count": 5,
     "metadata": {},
     "output_type": "execute_result"
    }
   ],
   "source": [
    "# Process the ADSP Data\n",
    "\n",
    "adsp_df = pd.read_csv(ADSP_DATA_PATH)\n",
    "adsp_df = adsp_df.drop(columns=adsp_df.columns[0])\n",
    "adsp_df.head()"
   ]
  },
  {
   "cell_type": "code",
   "execution_count": 4,
   "metadata": {},
   "outputs": [
    {
     "data": {
      "text/html": [
       "<div>\n",
       "<style scoped>\n",
       "    .dataframe tbody tr th:only-of-type {\n",
       "        vertical-align: middle;\n",
       "    }\n",
       "\n",
       "    .dataframe tbody tr th {\n",
       "        vertical-align: top;\n",
       "    }\n",
       "\n",
       "    .dataframe thead th {\n",
       "        text-align: right;\n",
       "    }\n",
       "</style>\n",
       "<table border=\"1\" class=\"dataframe\">\n",
       "  <thead>\n",
       "    <tr style=\"text-align: right;\">\n",
       "      <th></th>\n",
       "      <th>RID</th>\n",
       "      <th>VISCODE2</th>\n",
       "      <th>PHC_Diagnosis</th>\n",
       "      <th>PHC_MEM</th>\n",
       "      <th>PHC_EXF</th>\n",
       "      <th>PHC_LAN</th>\n",
       "      <th>PHC_VSP</th>\n",
       "    </tr>\n",
       "  </thead>\n",
       "  <tbody>\n",
       "    <tr>\n",
       "      <th>0</th>\n",
       "      <td>21</td>\n",
       "      <td>bl</td>\n",
       "      <td>1.0</td>\n",
       "      <td>1.481</td>\n",
       "      <td>0.295</td>\n",
       "      <td>0.816</td>\n",
       "      <td>0.264</td>\n",
       "    </tr>\n",
       "    <tr>\n",
       "      <th>1</th>\n",
       "      <td>21</td>\n",
       "      <td>m06</td>\n",
       "      <td>1.0</td>\n",
       "      <td>1.464</td>\n",
       "      <td>0.374</td>\n",
       "      <td>1.372</td>\n",
       "      <td>-0.333</td>\n",
       "    </tr>\n",
       "    <tr>\n",
       "      <th>2</th>\n",
       "      <td>21</td>\n",
       "      <td>m12</td>\n",
       "      <td>1.0</td>\n",
       "      <td>1.647</td>\n",
       "      <td>0.451</td>\n",
       "      <td>1.813</td>\n",
       "      <td>0.264</td>\n",
       "    </tr>\n",
       "    <tr>\n",
       "      <th>3</th>\n",
       "      <td>21</td>\n",
       "      <td>m24</td>\n",
       "      <td>1.0</td>\n",
       "      <td>1.309</td>\n",
       "      <td>0.534</td>\n",
       "      <td>1.170</td>\n",
       "      <td>0.264</td>\n",
       "    </tr>\n",
       "    <tr>\n",
       "      <th>4</th>\n",
       "      <td>21</td>\n",
       "      <td>m36</td>\n",
       "      <td>1.0</td>\n",
       "      <td>1.945</td>\n",
       "      <td>0.669</td>\n",
       "      <td>1.274</td>\n",
       "      <td>0.963</td>\n",
       "    </tr>\n",
       "  </tbody>\n",
       "</table>\n",
       "</div>"
      ],
      "text/plain": [
       "   RID VISCODE2  PHC_Diagnosis  PHC_MEM  PHC_EXF  PHC_LAN  PHC_VSP\n",
       "0   21       bl            1.0    1.481    0.295    0.816    0.264\n",
       "1   21      m06            1.0    1.464    0.374    1.372   -0.333\n",
       "2   21      m12            1.0    1.647    0.451    1.813    0.264\n",
       "3   21      m24            1.0    1.309    0.534    1.170    0.264\n",
       "4   21      m36            1.0    1.945    0.669    1.274    0.963"
      ]
     },
     "execution_count": 4,
     "metadata": {},
     "output_type": "execute_result"
    }
   ],
   "source": [
    "adsp_df = adsp_df.drop(columns=[\n",
    "    'SUBJID', 'PHASE', 'VISCODE', 'EXAMDATE', 'PHC_Visit', 'PHC_Sex', 'PHC_Education', 'PHC_Ethnicity', 'PHC_Race', 'PHC_Age_Cognition', \n",
    "    'PHC_MEM_SE', 'PHC_MEM_PreciseFilter', 'PHC_EXF_SE', 'PHC_EXF_PreciseFilter', 'PHC_LAN_SE', 'PHC_LAN_PreciseFilter', 'PHC_VSP_SE',\n",
    "    'PHC_VSP_PreciseFilter'\n",
    "])\n",
    "adsp_df.head()"
   ]
  },
  {
   "cell_type": "code",
   "execution_count": 5,
   "metadata": {},
   "outputs": [
    {
     "data": {
      "text/html": [
       "<div>\n",
       "<style scoped>\n",
       "    .dataframe tbody tr th:only-of-type {\n",
       "        vertical-align: middle;\n",
       "    }\n",
       "\n",
       "    .dataframe tbody tr th {\n",
       "        vertical-align: top;\n",
       "    }\n",
       "\n",
       "    .dataframe thead th {\n",
       "        text-align: right;\n",
       "    }\n",
       "</style>\n",
       "<table border=\"1\" class=\"dataframe\">\n",
       "  <thead>\n",
       "    <tr style=\"text-align: right;\">\n",
       "      <th></th>\n",
       "      <th>RID</th>\n",
       "      <th>VISCODE2</th>\n",
       "      <th>PHC_Diagnosis</th>\n",
       "      <th>PHC_MEM</th>\n",
       "      <th>PHC_EXF</th>\n",
       "      <th>PHC_LAN</th>\n",
       "      <th>PHC_VSP</th>\n",
       "    </tr>\n",
       "  </thead>\n",
       "  <tbody>\n",
       "    <tr>\n",
       "      <th>0</th>\n",
       "      <td>0021</td>\n",
       "      <td>M000</td>\n",
       "      <td>1.0</td>\n",
       "      <td>1.481</td>\n",
       "      <td>0.295</td>\n",
       "      <td>0.816</td>\n",
       "      <td>0.264</td>\n",
       "    </tr>\n",
       "    <tr>\n",
       "      <th>1</th>\n",
       "      <td>0021</td>\n",
       "      <td>M006</td>\n",
       "      <td>1.0</td>\n",
       "      <td>1.464</td>\n",
       "      <td>0.374</td>\n",
       "      <td>1.372</td>\n",
       "      <td>-0.333</td>\n",
       "    </tr>\n",
       "    <tr>\n",
       "      <th>2</th>\n",
       "      <td>0021</td>\n",
       "      <td>M012</td>\n",
       "      <td>1.0</td>\n",
       "      <td>1.647</td>\n",
       "      <td>0.451</td>\n",
       "      <td>1.813</td>\n",
       "      <td>0.264</td>\n",
       "    </tr>\n",
       "    <tr>\n",
       "      <th>3</th>\n",
       "      <td>0021</td>\n",
       "      <td>M024</td>\n",
       "      <td>1.0</td>\n",
       "      <td>1.309</td>\n",
       "      <td>0.534</td>\n",
       "      <td>1.170</td>\n",
       "      <td>0.264</td>\n",
       "    </tr>\n",
       "    <tr>\n",
       "      <th>4</th>\n",
       "      <td>0021</td>\n",
       "      <td>M036</td>\n",
       "      <td>1.0</td>\n",
       "      <td>1.945</td>\n",
       "      <td>0.669</td>\n",
       "      <td>1.274</td>\n",
       "      <td>0.963</td>\n",
       "    </tr>\n",
       "  </tbody>\n",
       "</table>\n",
       "</div>"
      ],
      "text/plain": [
       "    RID VISCODE2  PHC_Diagnosis  PHC_MEM  PHC_EXF  PHC_LAN  PHC_VSP\n",
       "0  0021     M000            1.0    1.481    0.295    0.816    0.264\n",
       "1  0021     M006            1.0    1.464    0.374    1.372   -0.333\n",
       "2  0021     M012            1.0    1.647    0.451    1.813    0.264\n",
       "3  0021     M024            1.0    1.309    0.534    1.170    0.264\n",
       "4  0021     M036            1.0    1.945    0.669    1.274    0.963"
      ]
     },
     "execution_count": 5,
     "metadata": {},
     "output_type": "execute_result"
    }
   ],
   "source": [
    "# Pad out the visit codes\n",
    "adsp_df['VISCODE2'] = adsp_df['VISCODE2'].str.upper()\n",
    "\n",
    "adsp_df['VISCODE2'] = adsp_df['VISCODE2'].replace('BL', 'M000')\n",
    "adsp_df['VISCODE2'] = adsp_df['VISCODE2'].replace('SC', 'M000')\n",
    "adsp_df['VISCODE2'] = adsp_df['VISCODE2'].replace('M06', 'M006')\n",
    "adsp_df['VISCODE2'] = adsp_df['VISCODE2'].replace('M12', 'M012')\n",
    "adsp_df['VISCODE2'] = adsp_df['VISCODE2'].replace('M24', 'M024')\n",
    "adsp_df['VISCODE2'] = adsp_df['VISCODE2'].replace('M36', 'M036')\n",
    "adsp_df['VISCODE2'] = adsp_df['VISCODE2'].replace('M60', 'M060')\n",
    "adsp_df['VISCODE2'] = adsp_df['VISCODE2'].replace('M72', 'M072')\n",
    "adsp_df['VISCODE2'] = adsp_df['VISCODE2'].replace('M84', 'M084')\n",
    "adsp_df['VISCODE2'] = adsp_df['VISCODE2'].replace('M96', 'M096')\n",
    "adsp_df['VISCODE2'] = adsp_df['VISCODE2'].replace('M48', 'M048')\n",
    "adsp_df['VISCODE2'] = adsp_df['VISCODE2'].replace('M18', 'M018')\n",
    "adsp_df['VISCODE2'] = adsp_df['VISCODE2'].replace('M78', 'M078')\n",
    "adsp_df['VISCODE2'] = adsp_df['VISCODE2'].replace('M90', 'M090')\n",
    "adsp_df['VISCODE2'] = adsp_df['VISCODE2'].replace('M66', 'M066')\n",
    "adsp_df['VISCODE2'] = adsp_df['VISCODE2'].replace('M54', 'M054')\n",
    "adsp_df['VISCODE2'] = adsp_df['VISCODE2'].replace('M42', 'M042')\n",
    "adsp_df['VISCODE2'] = adsp_df['VISCODE2'].replace('M30', 'M030')\n",
    "\n",
    "# Pad the RID values\n",
    "adsp_df['RID'] = adsp_df['RID'].apply(lambda x: str(x).zfill(4))\n",
    "\n",
    "adsp_df.head()"
   ]
  },
  {
   "cell_type": "markdown",
   "metadata": {},
   "source": [
    "Get the FC data and add"
   ]
  },
  {
   "cell_type": "code",
   "execution_count": 6,
   "metadata": {},
   "outputs": [],
   "source": [
    "import re\n",
    "\n",
    "def get_rid_viscode(filename):\n",
    "    pattern = r'sub-ADNI\\d+S(\\d{4})_ses-(M\\d{3})'\n",
    "    match = re.search(pattern, filename)\n",
    "\n",
    "    if match:\n",
    "        rid = match.group(1)\n",
    "        viscode = match.group(2)\n",
    "        return rid, viscode        \n",
    "    else:\n",
    "        print(\"Pattern not found in the filename.\")\n",
    "        return None\n"
   ]
  },
  {
   "cell_type": "code",
   "execution_count": 7,
   "metadata": {},
   "outputs": [
    {
     "data": {
      "text/plain": [
       "1478"
      ]
     },
     "execution_count": 7,
     "metadata": {},
     "output_type": "execute_result"
    }
   ],
   "source": [
    "adsp_df['FC_DATA'] = None\n",
    "\n",
    "fc_dir = os.listdir(FC_DATA_PATH)\n",
    "\n",
    "fc_files = [os.path.join(FC_DATA_PATH, file) for file in fc_dir if file.endswith('.mat')]\n",
    "len(fc_files)"
   ]
  },
  {
   "cell_type": "code",
   "execution_count": 8,
   "metadata": {},
   "outputs": [
    {
     "data": {
      "text/plain": [
       "(4074, 8)"
      ]
     },
     "execution_count": 8,
     "metadata": {},
     "output_type": "execute_result"
    }
   ],
   "source": [
    "# test_file = fc_files[1]\n",
    "# arr = np.genfromtxt(test_file, delimiter=',')\n",
    "# rid, viscode = get_rid_viscode(test_file)\n",
    "# # rids = adsp_df['RID'].values\n",
    "\n",
    "# adsp_df.loc[(adsp_df['VISCODE2'] == viscode) & (adsp_df['RID'] == rid), 'FC_DATA'] = test_file\n",
    "adsp_df.shape"
   ]
  },
  {
   "cell_type": "code",
   "execution_count": 9,
   "metadata": {},
   "outputs": [],
   "source": [
    "for fc in fc_files:\n",
    "    rid, viscode = get_rid_viscode(fc)\n",
    "    adsp_df.loc[(adsp_df['RID'] == rid) & (adsp_df['VISCODE2'] == viscode), 'FC_DATA'] = fc"
   ]
  },
  {
   "cell_type": "code",
   "execution_count": 10,
   "metadata": {},
   "outputs": [
    {
     "data": {
      "text/plain": [
       "(1353, 8)"
      ]
     },
     "execution_count": 10,
     "metadata": {},
     "output_type": "execute_result"
    }
   ],
   "source": [
    "adsp_df_filtered = adsp_df[adsp_df['FC_DATA'].notna()]\n",
    "adsp_df_filtered.shape"
   ]
  },
  {
   "cell_type": "code",
   "execution_count": 38,
   "metadata": {},
   "outputs": [
    {
     "data": {
      "text/plain": [
       "array(['M144', 'M156', 'M180', 'M132', 'M138', 'M150', 'M168', 'M174',\n",
       "       'M162', 'M060', 'M072', 'M084', 'M126', 'M192', 'M186', 'M048',\n",
       "       'M120', 'M000', 'M006', 'M012', 'M024', 'M036', 'M078', 'M090',\n",
       "       'M102', 'M108', 'M096', 'M114', 'M066', 'M054', 'M042', 'M030',\n",
       "       'M018'], dtype=object)"
      ]
     },
     "execution_count": 38,
     "metadata": {},
     "output_type": "execute_result"
    }
   ],
   "source": [
    "adsp_df_filtered['VISCODE2'].unique()"
   ]
  },
  {
   "cell_type": "code",
   "execution_count": 37,
   "metadata": {},
   "outputs": [
    {
     "name": "stdout",
     "output_type": "stream",
     "text": [
      "../FMRI_ADNI_DATA/fc/sub-ADNI006S4363_ses-M006_task-rest_space-MNI152Lin_res-2_desc-preproc_bold_ExtSchaefer116_ROI_activity.mat\n"
     ]
    },
    {
     "data": {
      "text/plain": [
       "<matplotlib.image.AxesImage at 0x149fe227d690>"
      ]
     },
     "execution_count": 37,
     "metadata": {},
     "output_type": "execute_result"
    },
    {
     "data": {
      "image/png": "[encoded data removed]",
      "text/plain": [
       "<Figure size 1400x800 with 1 Axes>"
      ]
     },
     "metadata": {},
     "output_type": "display_data"
    }
   ],
   "source": [
    "test_file = fc_files[1282]\n",
    "print(test_file)\n",
    "test_mat = loadmat(test_file)\n",
    "fc_emp = test_mat['ROI_activity']\n",
    "fc_emp = fc_emp / np.max(fc_emp)\n",
    "\n",
    "fc_emp = np.corrcoef(fc_emp)\n",
    "fig, ax = plt.subplots(1, 1, figsize=(14, 8))\n",
    "ax.imshow(fc_emp, cmap='bwr')"
   ]
  },
  {
   "cell_type": "code",
   "execution_count": 44,
   "metadata": {},
   "outputs": [
    {
     "data": {
      "text/plain": [
       "(1353, 116, 200)"
      ]
     },
     "execution_count": 44,
     "metadata": {},
     "output_type": "execute_result"
    }
   ],
   "source": [
    "# Get the FC data as numpy arrays\n",
    "dim_x = len(adsp_df_filtered['FC_DATA'])\n",
    "features = np.zeros(shape=(dim_x, 116, 200))\n",
    "\n",
    "for i, file in enumerate(adsp_df_filtered['FC_DATA'].values[:100]):\n",
    "    arr = loadmat(file)['ROI_activity']\n",
    "    if arr.shape[1] != 200:\n",
    "        # add padding to get a constant shape\n",
    "        diff = 200 - arr.shape[1]\n",
    "        pad_width = ((0, 0), (0, diff))  \n",
    "        padded_array = np.pad(arr, pad_width, mode='constant', constant_values=0)\n",
    "    features[i] = padded_array\n",
    "features.shape"
   ]
  },
  {
   "cell_type": "code",
   "execution_count": 45,
   "metadata": {},
   "outputs": [
    {
     "data": {
      "text/html": [
       "<div>\n",
       "<style scoped>\n",
       "    .dataframe tbody tr th:only-of-type {\n",
       "        vertical-align: middle;\n",
       "    }\n",
       "\n",
       "    .dataframe tbody tr th {\n",
       "        vertical-align: top;\n",
       "    }\n",
       "\n",
       "    .dataframe thead th {\n",
       "        text-align: right;\n",
       "    }\n",
       "</style>\n",
       "<table border=\"1\" class=\"dataframe\">\n",
       "  <thead>\n",
       "    <tr style=\"text-align: right;\">\n",
       "      <th></th>\n",
       "      <th>PHC_MEM</th>\n",
       "      <th>PHC_EXF</th>\n",
       "      <th>PHC_LAN</th>\n",
       "      <th>PHC_VSP</th>\n",
       "    </tr>\n",
       "  </thead>\n",
       "  <tbody>\n",
       "    <tr>\n",
       "      <th>10</th>\n",
       "      <td>1.377</td>\n",
       "      <td>-0.092</td>\n",
       "      <td>0.666</td>\n",
       "      <td>0.963</td>\n",
       "    </tr>\n",
       "    <tr>\n",
       "      <th>91</th>\n",
       "      <td>0.902</td>\n",
       "      <td>0.579</td>\n",
       "      <td>0.757</td>\n",
       "      <td>0.264</td>\n",
       "    </tr>\n",
       "    <tr>\n",
       "      <th>92</th>\n",
       "      <td>0.484</td>\n",
       "      <td>0.667</td>\n",
       "      <td>0.956</td>\n",
       "      <td>0.963</td>\n",
       "    </tr>\n",
       "    <tr>\n",
       "      <th>119</th>\n",
       "      <td>0.645</td>\n",
       "      <td>0.525</td>\n",
       "      <td>0.448</td>\n",
       "      <td>-0.041</td>\n",
       "    </tr>\n",
       "    <tr>\n",
       "      <th>132</th>\n",
       "      <td>1.134</td>\n",
       "      <td>0.149</td>\n",
       "      <td>1.011</td>\n",
       "      <td>0.264</td>\n",
       "    </tr>\n",
       "  </tbody>\n",
       "</table>\n",
       "</div>"
      ],
      "text/plain": [
       "     PHC_MEM  PHC_EXF  PHC_LAN  PHC_VSP\n",
       "10     1.377   -0.092    0.666    0.963\n",
       "91     0.902    0.579    0.757    0.264\n",
       "92     0.484    0.667    0.956    0.963\n",
       "119    0.645    0.525    0.448   -0.041\n",
       "132    1.134    0.149    1.011    0.264"
      ]
     },
     "execution_count": 45,
     "metadata": {},
     "output_type": "execute_result"
    }
   ],
   "source": [
    "y = adsp_df_filtered[['PHC_MEM', 'PHC_EXF', 'PHC_LAN', 'PHC_VSP']]\n",
    "y.head()"
   ]
  },
  {
   "cell_type": "code",
   "execution_count": 46,
   "metadata": {},
   "outputs": [],
   "source": [
    "# split into test + training (80% train, 20% test)\n",
    "features_2d = features.reshape(features.shape[0], -1)\n",
    "x_train, x_test, y_train, y_test = train_test_split(features_2d, y, test_size = 0.2, random_state = 28)"
   ]
  },
  {
   "cell_type": "markdown",
   "metadata": {},
   "source": [
    "## Random Forrest Method\n",
    "Prediction not differentiable wrt to input - need a model per composite (memory, executive function, language and visuospatial)"
   ]
  },
  {
   "cell_type": "code",
   "execution_count": 95,
   "metadata": {},
   "outputs": [],
   "source": [
    "# split targets into the different composites\n",
    "\n",
    "# y_train_mem, y_train_exf, y_train_lan, y_train_vsp = y_train['PHC_MEM'], y_train['PHC_EXF'], y_train['PHC_LAN'], y_train['PHC_VSP']\n",
    "# y_test_mem, y_test_exf, y_test_lan, y_test_vsp = y_test['PHC_MEM'], y_test['PHC_EXF'], y_test['PHC_LAN'], y_test['PHC_VSP']"
   ]
  },
  {
   "cell_type": "markdown",
   "metadata": {},
   "source": [
    "#### Memory Model"
   ]
  },
  {
   "cell_type": "code",
   "execution_count": 99,
   "metadata": {},
   "outputs": [],
   "source": [
    "# MEMORY MODEL\n",
    "# Remove NaNs in target\n",
    "y_train_mem = y_train['PHC_MEM'].reset_index(drop=True)\n",
    "y_test_mem = y_test_mem.reset_index(drop=True)\n",
    "\n",
    "nan_indices = y_train_mem.index[y_train_mem.isna()]\n",
    "y_train_mem = y_train_mem.drop(nan_indices)\n",
    "x_train_mem = np.delete(x_train, nan_indices, axis = 0)\n",
    "\n",
    "# print(nan_indices)\n",
    "nan_indices_test = y_test_mem.index[y_test_mem.isna()]\n",
    "y_test_mem = y_test_mem.drop(nan_indices_test)\n",
    "x_test_mem = np.delete(x_test, nan_indices_test, axis = 0)"
   ]
  },
  {
   "cell_type": "code",
   "execution_count": null,
   "metadata": {},
   "outputs": [],
   "source": [
    "# Initializing the Random Forest Regression model with 10 decision trees\n",
    "model_mem = RandomForestRegressor(n_estimators = 100, random_state = 5)\n",
    "\n",
    "# Fitting the Random Forest Regression model to the data\n",
    "model_mem.fit(x_train_mem, y_train_mem)"
   ]
  },
  {
   "cell_type": "code",
   "execution_count": 97,
   "metadata": {},
   "outputs": [],
   "source": [
    "# x_test_mem.shape\n",
    "# Predicting the target values of the test set\n",
    "y_pred_mem = model_mem.predict(x_test_mem)\n",
    "\n",
    "# # RMSE (Root Mean Square Error)\n",
    "# rmse_mem = float(format(np.sqrt(mean_squared_error(y_test_mem, y_pred_mem)), '.3f'))\n",
    "# print(\"\\nRMSE (MEM): \", rmse_mem)\n",
    "\n",
    "# compute r^2"
   ]
  },
  {
   "cell_type": "code",
   "execution_count": 98,
   "metadata": {},
   "outputs": [
    {
     "name": "stdout",
     "output_type": "stream",
     "text": [
      "R2 (MEM):  0.011488029551196544\n"
     ]
    }
   ],
   "source": [
    "from sklearn.metrics import r2_score\n",
    "r2_mem = r2_score(y_test_mem, y_pred_mem)\n",
    "print(\"R2 (MEM): \", r2_mem)"
   ]
  },
  {
   "cell_type": "markdown",
   "metadata": {},
   "source": [
    "## SVM Method\n",
    "Prediction differentiable wrt to input"
   ]
  },
  {
   "cell_type": "code",
   "execution_count": null,
   "metadata": {},
   "outputs": [],
   "source": []
  }
 ],
 "metadata": {
  "kernelspec": {
   "display_name": "Python3.11 (test)",
   "language": "python",
   "name": "python311_test"
  },
  "language_info": {
   "codemirror_mode": {
    "name": "ipython",
    "version": 3
   },
   "file_extension": ".py",
   "mimetype": "text/x-python",
   "name": "python",
   "nbconvert_exporter": "python",
   "pygments_lexer": "ipython3",
   "version": "3.11.8"
  }
 },
 "nbformat": 4,
 "nbformat_minor": 2
}
